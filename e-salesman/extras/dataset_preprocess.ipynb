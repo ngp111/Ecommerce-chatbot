{
 "cells": [
  {
   "cell_type": "code",
   "execution_count": 1,
   "metadata": {},
   "outputs": [],
   "source": [
    "import pandas as pd\n",
    "import json"
   ]
  },
  {
   "cell_type": "code",
   "execution_count": 59,
   "metadata": {},
   "outputs": [],
   "source": [
    "df = pd.read_csv(\"OneplusMobiles.csv\")"
   ]
  },
  {
   "cell_type": "code",
   "execution_count": 60,
   "metadata": {},
   "outputs": [
    {
     "data": {
      "text/html": [
       "<div>\n",
       "<style scoped>\n",
       "    .dataframe tbody tr th:only-of-type {\n",
       "        vertical-align: middle;\n",
       "    }\n",
       "\n",
       "    .dataframe tbody tr th {\n",
       "        vertical-align: top;\n",
       "    }\n",
       "\n",
       "    .dataframe thead th {\n",
       "        text-align: right;\n",
       "    }\n",
       "</style>\n",
       "<table border=\"1\" class=\"dataframe\">\n",
       "  <thead>\n",
       "    <tr style=\"text-align: right;\">\n",
       "      <th></th>\n",
       "      <th>Category</th>\n",
       "      <th>Product name</th>\n",
       "      <th>Price</th>\n",
       "      <th>Product URL</th>\n",
       "      <th>Product features</th>\n",
       "      <th>Ratings</th>\n",
       "      <th>Total reviews</th>\n",
       "    </tr>\n",
       "  </thead>\n",
       "  <tbody>\n",
       "    <tr>\n",
       "      <th>0</th>\n",
       "      <td>Mobile</td>\n",
       "      <td>OnePlus 8 5G UW (128GB, 8GB) 6.55\" 90Hz AMOLED...</td>\n",
       "      <td>$519.99</td>\n",
       "      <td>https://www.amazon.com//gp/slredirect/picassoR...</td>\n",
       "      <td>{'Wireless Carrier': 'T-Mobile', 'Brand': 'One...</td>\n",
       "      <td>4.7 out of 5 stars</td>\n",
       "      <td>9.0</td>\n",
       "    </tr>\n",
       "    <tr>\n",
       "      <th>1</th>\n",
       "      <td>Mobile</td>\n",
       "      <td>OnePlus 8T Lunar Silver, 5G Unlocked Android S...</td>\n",
       "      <td>$599.24</td>\n",
       "      <td>https://www.amazon.com//OnePlus-Unlocked-Andro...</td>\n",
       "      <td>{'Wireless Carrier': 'Unlocked for All Carrier...</td>\n",
       "      <td>4.4 out of 5 stars</td>\n",
       "      <td>377.0</td>\n",
       "    </tr>\n",
       "    <tr>\n",
       "      <th>2</th>\n",
       "      <td>Mobile</td>\n",
       "      <td>OnePlus Nord N10 5G Unlocked Smartphone, Midni...</td>\n",
       "      <td>$299.99</td>\n",
       "      <td>https://www.amazon.com//OnePlus-Unlocked-Smart...</td>\n",
       "      <td>{'Wireless Carrier': 'Unlocked for All Carrier...</td>\n",
       "      <td>4.1 out of 5 stars</td>\n",
       "      <td>114.0</td>\n",
       "    </tr>\n",
       "    <tr>\n",
       "      <th>3</th>\n",
       "      <td>Mobile</td>\n",
       "      <td>OnePlus Nord N10 5G (128GB, 6GB) 6.49\", 90Hz R...</td>\n",
       "      <td>$324.90</td>\n",
       "      <td>https://www.amazon.com//OnePlus-Nord-N10-5G-In...</td>\n",
       "      <td>{'Wireless Carrier': 'Unlocked for All Carrier...</td>\n",
       "      <td>4.3 out of 5 stars</td>\n",
       "      <td>40.0</td>\n",
       "    </tr>\n",
       "    <tr>\n",
       "      <th>4</th>\n",
       "      <td>Mobile</td>\n",
       "      <td>OnePlus 8 5G UW (128GB, 8GB) 6.55\" 90Hz AMOLED...</td>\n",
       "      <td>$519.99</td>\n",
       "      <td>https://www.amazon.com//OnePlus-5G-UW-Snapdrag...</td>\n",
       "      <td>{'Wireless Carrier': 'T-Mobile', 'Brand': 'One...</td>\n",
       "      <td>4.3 out of 5 stars</td>\n",
       "      <td>10.0</td>\n",
       "    </tr>\n",
       "  </tbody>\n",
       "</table>\n",
       "</div>"
      ],
      "text/plain": [
       "  Category                                       Product name    Price  \\\n",
       "0   Mobile  OnePlus 8 5G UW (128GB, 8GB) 6.55\" 90Hz AMOLED...  $519.99   \n",
       "1   Mobile  OnePlus 8T Lunar Silver, 5G Unlocked Android S...  $599.24   \n",
       "2   Mobile  OnePlus Nord N10 5G Unlocked Smartphone, Midni...  $299.99   \n",
       "3   Mobile  OnePlus Nord N10 5G (128GB, 6GB) 6.49\", 90Hz R...  $324.90   \n",
       "4   Mobile  OnePlus 8 5G UW (128GB, 8GB) 6.55\" 90Hz AMOLED...  $519.99   \n",
       "\n",
       "                                         Product URL  \\\n",
       "0  https://www.amazon.com//gp/slredirect/picassoR...   \n",
       "1  https://www.amazon.com//OnePlus-Unlocked-Andro...   \n",
       "2  https://www.amazon.com//OnePlus-Unlocked-Smart...   \n",
       "3  https://www.amazon.com//OnePlus-Nord-N10-5G-In...   \n",
       "4  https://www.amazon.com//OnePlus-5G-UW-Snapdrag...   \n",
       "\n",
       "                                    Product features             Ratings  \\\n",
       "0  {'Wireless Carrier': 'T-Mobile', 'Brand': 'One...  4.7 out of 5 stars   \n",
       "1  {'Wireless Carrier': 'Unlocked for All Carrier...  4.4 out of 5 stars   \n",
       "2  {'Wireless Carrier': 'Unlocked for All Carrier...  4.1 out of 5 stars   \n",
       "3  {'Wireless Carrier': 'Unlocked for All Carrier...  4.3 out of 5 stars   \n",
       "4  {'Wireless Carrier': 'T-Mobile', 'Brand': 'One...  4.3 out of 5 stars   \n",
       "\n",
       "   Total reviews  \n",
       "0            9.0  \n",
       "1          377.0  \n",
       "2          114.0  \n",
       "3           40.0  \n",
       "4           10.0  "
      ]
     },
     "execution_count": 60,
     "metadata": {},
     "output_type": "execute_result"
    }
   ],
   "source": [
    "df.head()"
   ]
  },
  {
   "cell_type": "code",
   "execution_count": 61,
   "metadata": {},
   "outputs": [
    {
     "data": {
      "text/plain": [
       "Category             object\n",
       "Product name         object\n",
       "Price                object\n",
       "Product URL          object\n",
       "Product features     object\n",
       "Ratings              object\n",
       "Total reviews       float64\n",
       "dtype: object"
      ]
     },
     "execution_count": 61,
     "metadata": {},
     "output_type": "execute_result"
    }
   ],
   "source": [
    "df.dtypes"
   ]
  },
  {
   "cell_type": "code",
   "execution_count": 62,
   "metadata": {},
   "outputs": [],
   "source": [
    "features = df[\"Product features\"]"
   ]
  },
  {
   "cell_type": "code",
   "execution_count": 63,
   "metadata": {},
   "outputs": [
    {
     "name": "stderr",
     "output_type": "stream",
     "text": [
      "/home/intel123/anaconda3/lib/python3.7/site-packages/ipykernel_launcher.py:4: SettingWithCopyWarning: \n",
      "A value is trying to be set on a copy of a slice from a DataFrame\n",
      "\n",
      "See the caveats in the documentation: http://pandas.pydata.org/pandas-docs/stable/indexing.html#indexing-view-versus-copy\n",
      "  after removing the cwd from sys.path.\n",
      "/home/intel123/anaconda3/lib/python3.7/site-packages/ipykernel_launcher.py:5: SettingWithCopyWarning: \n",
      "A value is trying to be set on a copy of a slice from a DataFrame\n",
      "\n",
      "See the caveats in the documentation: http://pandas.pydata.org/pandas-docs/stable/indexing.html#indexing-view-versus-copy\n",
      "  \"\"\"\n"
     ]
    }
   ],
   "source": [
    "oneplus_features = {}\n",
    "for i in range(len(features)) :\n",
    "    #print(i, features[i])\n",
    "    features[i] = features[i].replace(\"'\", '\"')\n",
    "    features[i] = json.loads(features[i])\n",
    "    for name, value in features[i].items() :\n",
    "        if name not in oneplus_features :\n",
    "            oneplus_features[name] = set()\n",
    "            oneplus_features[name].add(value.strip())\n",
    "        else :\n",
    "            oneplus_features[name].add(value)"
   ]
  },
  {
   "cell_type": "code",
   "execution_count": 64,
   "metadata": {},
   "outputs": [
    {
     "name": "stdout",
     "output_type": "stream",
     "text": [
      "dict_keys(['Wireless Carrier', 'Brand', 'Color', 'Memory Storage Capacity', 'Manufacturer', 'Product Dimensions', 'Item Weight', 'ASIN', 'Item model number', 'Batteries', 'Customer Reviews', 'Best Sellers Rank', 'Other display features', 'Colour', 'Date First Available', 'Operating System', 'Screen Size', 'Display Type', 'Cellular Technology', 'Form Factor', 'Package Dimensions', 'OS', 'RAM', 'Special Features', 'Included Components', 'Other camera features', 'Connectivity technologies', 'GPS', 'Device interface - primary', 'Audio Jack', 'Battery Power Rating', 'Phone Talk Time', 'Phone Standy Time (with data)', 'Connectivity Technology', 'Wireless communication technologies', 'Display technology', 'Is Discontinued By Manufacturer', 'Scanner Resolution', 'Material', 'Compatible Phone Models', 'Connector Type'])\n"
     ]
    }
   ],
   "source": [
    "print(oneplus_features.keys())"
   ]
  },
  {
   "cell_type": "code",
   "execution_count": 65,
   "metadata": {},
   "outputs": [
    {
     "name": "stdout",
     "output_type": "stream",
     "text": [
      "0\n"
     ]
    }
   ],
   "source": [
    "missing = 0\n",
    "for i in range(len(features)) :\n",
    "    for name, value in features[i].items() :\n",
    "        if name not in oneplus_features :\n",
    "            missing += 1\n",
    "print(missing)"
   ]
  },
  {
   "cell_type": "code",
   "execution_count": 66,
   "metadata": {},
   "outputs": [
    {
     "name": "stdout",
     "output_type": "stream",
     "text": [
      "Wireless Carrier {'AT&T', 'T-Mobile', 'Unlocked for All Carriers'}\n",
      "Brand {'OnePlus', 'CUBOT', 'ONE PLUS 6T', 'SHDKJXH', 'Aliruke', 'Jusy'}\n",
      "Color {'Black', 'Black(8GB+128GB)', 'Polar Silver', 'Midnight Frost', 'Lunar Silver', 'Astral Black', 'Onyx Black', 'Mirror Grey', 'Midnight Ice', 'Morning Mist', 'Navy', 'OnePlus Nord N10 5G Case Blue'}\n",
      "Memory Storage Capacity {'256 GB', '128 GB', '64 GB'}\n",
      "Manufacturer {'Aliruke Wireless', 'Oneplus', 'OnePlus', 'CUBOT', 'ONEPLUS', 'SHDKJXH', 'Feitenn', 'Jusy'}\n",
      "Product Dimensions {'0.32 x 6.2 x 2.94 inches', '4.1 x 2.5 x 0.3 inches', '6.46 x 2.95 x 0.35 inches', '6 x 4 x 2 inches', '6.13 x 3.03 x 0.36 inches', '6.43 x 2.9 x 0.34 inches', '6.33 x 2.92 x 0.33 inches', '7.48 x 3.94 x 0.5 inches', '6.4 x 0.32 x 2.98 inches', '6.31 x 2.87 x 0.31 inches', '0.31 x 2.91 x 6.34 inches', '6.31 x 2.92 x 0.34 inches'}\n",
      "Item Weight {'0.64 ounces', '1.19 pounds', '1.21 pounds', '6.6 ounces', '1.46 pounds', '1.08 pounds', '6.9 ounces', '1.54 pounds', '1.1 pounds', '7.1 ounces', '6.3 ounces', '1.13 ounces', '1.58 ounces', '6.8 ounces', '1.44 ounces', '2.12 ounces'}\n",
      "ASIN {'B07K76LBLZ', 'B08KVMHH6L', 'B08Y73NTXY', 'B08R6H1RN9', 'B08R6H1J5R', 'B08QZ1Y1WF', 'B07YQ8YQCW', 'B07XM7WVS8', 'B08R7D4KZJ', 'B085J1CPD1', 'B08R6H98QC', 'B08GM2YJFT', 'B08T5SD2VF', 'B07XY7XG5N', 'B087H5DD22', 'B08S7239PL', 'B08Y6T8RSH'}\n",
      "Item model number {'LDKSX000513', 'LE2115', 'OnePlus 8 5G UW', '8', 'BE2026', 'OnePlus8T', 'Nord N10 5G', 'KB2005', 'LE2125', 'OnePlus Nord N10 5G Case Blue'}\n",
      "Batteries {'1 Lithium ion batteries required. (included)', '1 Lithium Polymer batteries required. (included)', '2 Lithium ion batteries required. (included)'}\n",
      "Customer Reviews {'4.3 out of 5 stars\\n\\n\\n\\n\\n\\n\\n\\n\\n121 ratings\\n\\n\\n\\n\\n\\n\\n4.3 out of 5 stars', '4.3 out of 5 stars\\n\\n\\n\\n\\n\\n\\n\\n\\n351 ratings\\n\\n\\n\\n\\n\\n\\n4.3 out of 5 stars', '4.6 out of 5 stars\\n\\n\\n\\n\\n\\n\\n\\n\\n43 ratings\\n\\n\\n\\n\\n\\n\\n4.6 out of 5 stars', '4.3 out of 5 stars\\n\\n\\n\\n\\n\\n\\n\\n\\n40 ratings\\n\\n\\n\\n\\n\\n\\n4.3 out of 5 stars', '4.7 out of 5 stars\\n\\n\\n\\n\\n\\n\\n\\n\\n9 ratings\\n\\n\\n\\n\\n\\n\\n4.7 out of 5 stars', '3.8 out of 5 stars\\n\\n\\n\\n\\n\\n\\n\\n\\n444 ratings\\n\\n\\n\\n\\n\\n\\n3.8 out of 5 stars', '4.5 out of 5 stars\\n\\n\\n\\n\\n\\n\\n\\n\\n38 ratings\\n\\n\\n\\n\\n\\n\\n4.5 out of 5 stars', '4.3 out of 5 stars\\n\\n\\n\\n\\n\\n\\n\\n\\n10 ratings\\n\\n\\n\\n\\n\\n\\n4.3 out of 5 stars', '4.5 out of 5 stars\\n\\n\\n\\n\\n\\n\\n\\n\\n418 ratings\\n\\n\\n\\n\\n\\n\\n4.5 out of 5 stars', '4.4 out of 5 stars\\n\\n\\n\\n\\n\\n\\n\\n\\n377 ratings\\n\\n\\n\\n\\n\\n\\n4.4 out of 5 stars', '4.4 out of 5 stars\\n\\n\\n\\n\\n\\n\\n\\n\\n2,261 ratings\\n\\n\\n\\n\\n\\n\\n4.4 out of 5 stars', '5.0 out of 5 stars\\n\\n\\n\\n\\n\\n\\n\\n\\n2 ratings\\n\\n\\n\\n\\n\\n\\n5.0 out of 5 stars', '4.3 out of 5 stars\\n\\n\\n\\n\\n\\n\\n\\n\\n292 ratings\\n\\n\\n\\n\\n\\n\\n4.3 out of 5 stars', '4.1 out of 5 stars\\n\\n\\n\\n\\n\\n\\n\\n\\n114 ratings\\n\\n\\n\\n\\n\\n\\n4.1 out of 5 stars'}\n",
      "Best Sellers Rank {'#11,049 in Electronics (See Top 100 in Electronics)\\n\\n#437 in Cell Phones', '#41,802 in Electronics (See Top 100 in Electronics)\\n\\n#1,612 in Cell Phones', '#43,378 in Cell Phones & Accessories (See Top 100 in Cell Phones & Accessories)\\n\\n#19,050 in Cell Phone Basic Cases', '#83,705 in Electronics (See Top 100 in Electronics)\\n\\n#3,048 in Cell Phones', '#9,660 in Cell Phones & Accessories (See Top 100 in Cell Phones & Accessories)\\n\\n#3,673 in Cell Phone Basic Cases', '#2,249 in Electronics (See Top 100 in Electronics)\\n\\n#79 in Cell Phones', '#36,198 in Cell Phones & Accessories (See Top 100 in Cell Phones & Accessories)\\n\\n#30,011 in Cell Phone Accessories', '#1,588 in Earbud & In-Ear Headphones', '#16,308 in Electronics (See Top 100 in Electronics)\\n\\n#634 in Cell Phones', '#20,982 in Cell Phones & Accessories (See Top 100 in Cell Phones & Accessories)\\n\\n#8,721 in Cell Phone Basic Cases', '#17,433 in Electronics (See Top 100 in Electronics)\\n\\n#681 in Cell Phones', '#3,262 in Electronics (See Top 100 in Electronics)\\n\\n#122 in Cell Phones', '#46,313 in Electronics (See Top 100 in Electronics)\\n\\n#1,801 in Cell Phones', '#4,160 in Electronics (See Top 100 in Electronics)\\n\\n#160 in Cell Phones', '#15,276 in Electronics (See Top 100 in Electronics)\\n\\n#588 in Cell Phones'}\n",
      "Other display features {'CE', 'Wireless'}\n",
      "Colour {'Black', 'Black(8GB+128GB)', 'Polar Silver', 'Midnight Frost', 'Lunar Silver', 'Astral Black', 'Onyx Black', 'Mirror Grey', 'Midnight Ice', 'Morning Mist', 'Navy', 'OnePlus Nord N10 5G Case Blue'}\n",
      "Date First Available {'November 5, 2018', 'October 1, 2020', 'August 25, 2020', 'April 27, 2020', 'October 5, 2019', 'January 1, 2020', 'October 8, 2020', 'January 8, 2021', 'December 19, 2020', 'February 4, 2021', 'March 6, 2021', 'March 23, 2021', 'January 15, 2021', 'February 1, 2021'}\n",
      "Operating System {'Android 11', 'Android 10.0', 'Android'}\n",
      "Screen Size {'6.4 Inches', '6.52 Inches', '6.49 Inches', '6.55 Inches', '6.67 Inches', '6.5 Inches'}\n",
      "Display Type {'LCD', 'AMOLED'}\n",
      "Cellular Technology {'4G', '5G', '2G'}\n",
      "Form Factor {'Smartphone', 'Bar', 'In Ear', 'Bumper', 'Slider'}\n",
      "Package Dimensions {'8.27 x 4.53 x 0.55 inches', '9.76 x 3.82 x 2.6 inches', '6.73 x 3.46 x 2.05 inches'}\n",
      "OS {'Android 11', 'Android 10.0', 'Android'}\n",
      "RAM {'12 GB', '4 GB', '8 GB', '6 GB', '128 GB'}\n",
      "Special Features {'Slim, Shock Absorption Case for OnePlus Nord N10 5G', 'Touchscreen, Bluetooth Enabled, 4K Video Recording, Text/Messaging, Expandable Memory, Octa Core Processor, Camera, LTE, Smartphone, Built-In GPS, Mobile Hotspot Capability', 'Qualcomm Snapdragon 865 + X55, Up to 12G RAM and 256 UFS3.1 ROM, Ultra Wide Lens: 16 MP IMX481 Macro Lens: 5 MP Monochrome Lens: 2 MP123° FOV f/2.2 FF, 120Hz fluid display, Main Camera: 48 MP IMX586 OIS 0.8μm 1/2” f/1.7 6P OIS and EIS', '48MP+50MP+2MP high resolution camera, 120Hz display, Warp Charge 65W, Wireless Charging 15W, Fingerprint Sensor', 'Warp Charge 30T, 64 MP high resolution camera, Dual speakers, 90 Hz display, Warp charging', 'Wireless Charging 50W, 120Hz display, Warp Charge 65W, 48MP+50MP+8MP+2MP high resolution camera, Fingerprint Sensor', 'Heavy Duty Protection, Kickstand, Universal'}\n",
      "Included Components {'Kickstand', 'Oneplus 8T, Warp Type-C Cable，Power Adapter， Ejector tool，Quick Start Guide, Safety Information and Warranty Card', 'Oneplus 9 Pro, Warp Type-C Cable, Power Adapter, Ejector tool, Quick Start Guide, Safety Information and Warranty Card', 'Phone, power adapter, cable, SIM card ejector, manual', 'USB Charging Cable, USB Charging Block', 'Oneplus 9, Warp Type-C Cable, Power Adapter, Ejector tool, Quick Start Guide, Safety Information and Warranty Card'}\n",
      "Other camera features {'Front', 'Front, 16MP, Rear, Triple Camera, 48+50+2 MP', 'Rear, Quad Camera, 48+50+8+2 MP, Front, 16MP', 'Rear, Quad Camera, 64+8+2+2 MP, Front, 16MP', 'Rear, Front'}\n",
      "Connectivity technologies {'Bluetooth, Wi-Fi, USB, NFC', 'Bluetooth, Wi-Fi, Infrared, USB, NFC', 'Bluetooth', 'USB'}\n",
      "GPS {'True'}\n",
      "Device interface - primary {'Touchscreen, Microphone', 'Touchscreen'}\n",
      "Audio Jack {'3.5 mm'}\n",
      "Battery Power Rating {'4500', '4300'}\n",
      "Phone Talk Time {'24 Hours'}\n",
      "Phone Standy Time (with data) {'8.2 days'}\n",
      "Connectivity Technology {'USB', 'Bluetooth, Wired', 'Bluetooth, Wi-Fi, Infrared, USB, NFC', 'Wireless', 'Bluetooth'}\n",
      "Wireless communication technologies {'Cellular, Bluetooth', 'Cellular, Bluetooth, Wi-Fi, NFC', 'Cellular'}\n",
      "Display technology {'LCD', 'AMOLED'}\n",
      "Is Discontinued By Manufacturer {'No'}\n",
      "Scanner Resolution {'2560 x 1440', '1440 x 3120', '1280 x 720'}\n",
      "Material {'TPU'}\n",
      "Compatible Phone Models {'OnePlus Nord N10 5G'}\n",
      "Connector Type {'USB Type C'}\n"
     ]
    }
   ],
   "source": [
    "for name, value in oneplus_features.items() :\n",
    "    print(name, value)"
   ]
  },
  {
   "cell_type": "code",
   "execution_count": 67,
   "metadata": {},
   "outputs": [],
   "source": [
    "df = pd.read_csv(\"RedmiMobiles.csv\")"
   ]
  },
  {
   "cell_type": "code",
   "execution_count": 68,
   "metadata": {},
   "outputs": [
    {
     "data": {
      "text/html": [
       "<div>\n",
       "<style scoped>\n",
       "    .dataframe tbody tr th:only-of-type {\n",
       "        vertical-align: middle;\n",
       "    }\n",
       "\n",
       "    .dataframe tbody tr th {\n",
       "        vertical-align: top;\n",
       "    }\n",
       "\n",
       "    .dataframe thead th {\n",
       "        text-align: right;\n",
       "    }\n",
       "</style>\n",
       "<table border=\"1\" class=\"dataframe\">\n",
       "  <thead>\n",
       "    <tr style=\"text-align: right;\">\n",
       "      <th></th>\n",
       "      <th>Category</th>\n",
       "      <th>Product name</th>\n",
       "      <th>Price</th>\n",
       "      <th>Product URL</th>\n",
       "      <th>Product features</th>\n",
       "      <th>Ratings</th>\n",
       "      <th>Total reviews</th>\n",
       "    </tr>\n",
       "  </thead>\n",
       "  <tbody>\n",
       "    <tr>\n",
       "      <th>0</th>\n",
       "      <td>Mobile</td>\n",
       "      <td>Xiaomi Redmi Note 9 4GB RAM + 128GB, 48MP Quad...</td>\n",
       "      <td>$189.99</td>\n",
       "      <td>https://www.amazon.com//Xiaomi-Note-Hotshot-Un...</td>\n",
       "      <td>{'Wireless Carrier': 'Unlocked for All Carrier...</td>\n",
       "      <td>4.5 out of 5 stars</td>\n",
       "      <td>1940.0</td>\n",
       "    </tr>\n",
       "    <tr>\n",
       "      <th>1</th>\n",
       "      <td>Mobile</td>\n",
       "      <td>Xiaomi Redmi Note 9 Pro 128GB + 6GB RAM, 6.67\"...</td>\n",
       "      <td>$278.99</td>\n",
       "      <td>https://www.amazon.com//Xiaomi-DotDisplay-Qual...</td>\n",
       "      <td>{'Wireless Carrier': 'Unlocked for All Carrier...</td>\n",
       "      <td>4.6 out of 5 stars</td>\n",
       "      <td>3509.0</td>\n",
       "    </tr>\n",
       "    <tr>\n",
       "      <th>2</th>\n",
       "      <td>Mobile</td>\n",
       "      <td>Xiaomi Redmi Note 8 64GB + 4GB RAM, 6.3\" LTE 4...</td>\n",
       "      <td>$188.00</td>\n",
       "      <td>https://www.amazon.com//Xiaomi-Redmi-Factory-U...</td>\n",
       "      <td>{'Wireless Carrier': 'Unlocked for All Carrier...</td>\n",
       "      <td>4.6 out of 5 stars</td>\n",
       "      <td>9517.0</td>\n",
       "    </tr>\n",
       "    <tr>\n",
       "      <th>3</th>\n",
       "      <td>Mobile</td>\n",
       "      <td>Xiaomi Redmi Note 8 128GB 4GB RAM 48MP Factory...</td>\n",
       "      <td>$199.97</td>\n",
       "      <td>https://www.amazon.com//Xiaomi-Factory-Unlocke...</td>\n",
       "      <td>{'Brand': 'Xiaomi', 'Color': 'Neptune Blue', '...</td>\n",
       "      <td>4.5 out of 5 stars</td>\n",
       "      <td>2773.0</td>\n",
       "    </tr>\n",
       "    <tr>\n",
       "      <th>4</th>\n",
       "      <td>Mobile</td>\n",
       "      <td>Xiaomi Redmi 9 64GB, 4GB RAM, 6.53\" Full HD + ...</td>\n",
       "      <td>$148.50</td>\n",
       "      <td>https://www.amazon.com//Xiaomi-Camera-Factory-...</td>\n",
       "      <td>{'Brand': 'Xiaomi', 'Color': 'Ocean Green', 'M...</td>\n",
       "      <td>4.6 out of 5 stars</td>\n",
       "      <td>1379.0</td>\n",
       "    </tr>\n",
       "  </tbody>\n",
       "</table>\n",
       "</div>"
      ],
      "text/plain": [
       "  Category                                       Product name    Price  \\\n",
       "0   Mobile  Xiaomi Redmi Note 9 4GB RAM + 128GB, 48MP Quad...  $189.99   \n",
       "1   Mobile  Xiaomi Redmi Note 9 Pro 128GB + 6GB RAM, 6.67\"...  $278.99   \n",
       "2   Mobile  Xiaomi Redmi Note 8 64GB + 4GB RAM, 6.3\" LTE 4...  $188.00   \n",
       "3   Mobile  Xiaomi Redmi Note 8 128GB 4GB RAM 48MP Factory...  $199.97   \n",
       "4   Mobile  Xiaomi Redmi 9 64GB, 4GB RAM, 6.53\" Full HD + ...  $148.50   \n",
       "\n",
       "                                         Product URL  \\\n",
       "0  https://www.amazon.com//Xiaomi-Note-Hotshot-Un...   \n",
       "1  https://www.amazon.com//Xiaomi-DotDisplay-Qual...   \n",
       "2  https://www.amazon.com//Xiaomi-Redmi-Factory-U...   \n",
       "3  https://www.amazon.com//Xiaomi-Factory-Unlocke...   \n",
       "4  https://www.amazon.com//Xiaomi-Camera-Factory-...   \n",
       "\n",
       "                                    Product features             Ratings  \\\n",
       "0  {'Wireless Carrier': 'Unlocked for All Carrier...  4.5 out of 5 stars   \n",
       "1  {'Wireless Carrier': 'Unlocked for All Carrier...  4.6 out of 5 stars   \n",
       "2  {'Wireless Carrier': 'Unlocked for All Carrier...  4.6 out of 5 stars   \n",
       "3  {'Brand': 'Xiaomi', 'Color': 'Neptune Blue', '...  4.5 out of 5 stars   \n",
       "4  {'Brand': 'Xiaomi', 'Color': 'Ocean Green', 'M...  4.6 out of 5 stars   \n",
       "\n",
       "   Total reviews  \n",
       "0         1940.0  \n",
       "1         3509.0  \n",
       "2         9517.0  \n",
       "3         2773.0  \n",
       "4         1379.0  "
      ]
     },
     "execution_count": 68,
     "metadata": {},
     "output_type": "execute_result"
    }
   ],
   "source": [
    "df.head()"
   ]
  },
  {
   "cell_type": "code",
   "execution_count": 69,
   "metadata": {},
   "outputs": [
    {
     "data": {
      "text/plain": [
       "Category             object\n",
       "Product name         object\n",
       "Price                object\n",
       "Product URL          object\n",
       "Product features     object\n",
       "Ratings              object\n",
       "Total reviews       float64\n",
       "dtype: object"
      ]
     },
     "execution_count": 69,
     "metadata": {},
     "output_type": "execute_result"
    }
   ],
   "source": [
    "df.dtypes"
   ]
  },
  {
   "cell_type": "code",
   "execution_count": 70,
   "metadata": {},
   "outputs": [],
   "source": [
    "features = df[\"Product features\"]"
   ]
  },
  {
   "cell_type": "code",
   "execution_count": 71,
   "metadata": {},
   "outputs": [
    {
     "name": "stderr",
     "output_type": "stream",
     "text": [
      "/home/intel123/anaconda3/lib/python3.7/site-packages/ipykernel_launcher.py:4: SettingWithCopyWarning: \n",
      "A value is trying to be set on a copy of a slice from a DataFrame\n",
      "\n",
      "See the caveats in the documentation: http://pandas.pydata.org/pandas-docs/stable/indexing.html#indexing-view-versus-copy\n",
      "  after removing the cwd from sys.path.\n",
      "/home/intel123/anaconda3/lib/python3.7/site-packages/ipykernel_launcher.py:5: SettingWithCopyWarning: \n",
      "A value is trying to be set on a copy of a slice from a DataFrame\n",
      "\n",
      "See the caveats in the documentation: http://pandas.pydata.org/pandas-docs/stable/indexing.html#indexing-view-versus-copy\n",
      "  \"\"\"\n"
     ]
    }
   ],
   "source": [
    "redmi_features = {}\n",
    "for i in range(len(features)) :\n",
    "    #print(i, features[i])\n",
    "    features[i] = features[i].replace(\"'\", '\"')\n",
    "    features[i] = json.loads(features[i])\n",
    "    for name, value in features[i].items() :\n",
    "        if name not in redmi_features :\n",
    "            redmi_features[name] = set()\n",
    "            redmi_features[name].add(value.strip())\n",
    "        else :\n",
    "            redmi_features[name].add(value)"
   ]
  },
  {
   "cell_type": "code",
   "execution_count": 72,
   "metadata": {},
   "outputs": [
    {
     "name": "stdout",
     "output_type": "stream",
     "text": [
      "22\n"
     ]
    }
   ],
   "source": [
    "missing = 0\n",
    "for i in range(len(features)) :\n",
    "    for name, value in features[i].items() :\n",
    "        if name not in oneplus_features :\n",
    "            missing += 1\n",
    "print(missing)"
   ]
  },
  {
   "cell_type": "code",
   "execution_count": 73,
   "metadata": {},
   "outputs": [
    {
     "name": "stdout",
     "output_type": "stream",
     "text": [
      "Wireless Carrier {'AT&T', 'T-Mobile', 'Unlocked for All Carriers'}\n",
      "Brand {'OnePlus', 'CUBOT', 'ONE PLUS 6T', 'SHDKJXH', 'Aliruke', 'Jusy'}\n",
      "Color {'Black', 'Black(8GB+128GB)', 'Polar Silver', 'Midnight Frost', 'Lunar Silver', 'Astral Black', 'Onyx Black', 'Mirror Grey', 'Midnight Ice', 'Morning Mist', 'Navy', 'OnePlus Nord N10 5G Case Blue'}\n",
      "Memory Storage Capacity {'256 GB', '128 GB', '64 GB'}\n",
      "Manufacturer {'Aliruke Wireless', 'Oneplus', 'OnePlus', 'CUBOT', 'ONEPLUS', 'SHDKJXH', 'Feitenn', 'Jusy'}\n",
      "Product Dimensions {'0.32 x 6.2 x 2.94 inches', '4.1 x 2.5 x 0.3 inches', '6.46 x 2.95 x 0.35 inches', '6 x 4 x 2 inches', '6.13 x 3.03 x 0.36 inches', '6.43 x 2.9 x 0.34 inches', '6.33 x 2.92 x 0.33 inches', '7.48 x 3.94 x 0.5 inches', '6.4 x 0.32 x 2.98 inches', '6.31 x 2.87 x 0.31 inches', '0.31 x 2.91 x 6.34 inches', '6.31 x 2.92 x 0.34 inches'}\n",
      "Item Weight {'0.64 ounces', '1.19 pounds', '1.21 pounds', '6.6 ounces', '1.46 pounds', '1.08 pounds', '6.9 ounces', '1.54 pounds', '1.1 pounds', '7.1 ounces', '6.3 ounces', '1.13 ounces', '1.58 ounces', '6.8 ounces', '1.44 ounces', '2.12 ounces'}\n",
      "ASIN {'B07K76LBLZ', 'B08KVMHH6L', 'B08Y73NTXY', 'B08R6H1RN9', 'B08R6H1J5R', 'B08QZ1Y1WF', 'B07YQ8YQCW', 'B07XM7WVS8', 'B08R7D4KZJ', 'B085J1CPD1', 'B08R6H98QC', 'B08GM2YJFT', 'B08T5SD2VF', 'B07XY7XG5N', 'B087H5DD22', 'B08S7239PL', 'B08Y6T8RSH'}\n",
      "Item model number {'LDKSX000513', 'LE2115', 'OnePlus 8 5G UW', '8', 'BE2026', 'OnePlus8T', 'Nord N10 5G', 'KB2005', 'LE2125', 'OnePlus Nord N10 5G Case Blue'}\n",
      "Batteries {'1 Lithium ion batteries required. (included)', '1 Lithium Polymer batteries required. (included)', '2 Lithium ion batteries required. (included)'}\n",
      "Customer Reviews {'4.3 out of 5 stars\\n\\n\\n\\n\\n\\n\\n\\n\\n121 ratings\\n\\n\\n\\n\\n\\n\\n4.3 out of 5 stars', '4.3 out of 5 stars\\n\\n\\n\\n\\n\\n\\n\\n\\n351 ratings\\n\\n\\n\\n\\n\\n\\n4.3 out of 5 stars', '4.6 out of 5 stars\\n\\n\\n\\n\\n\\n\\n\\n\\n43 ratings\\n\\n\\n\\n\\n\\n\\n4.6 out of 5 stars', '4.3 out of 5 stars\\n\\n\\n\\n\\n\\n\\n\\n\\n40 ratings\\n\\n\\n\\n\\n\\n\\n4.3 out of 5 stars', '4.7 out of 5 stars\\n\\n\\n\\n\\n\\n\\n\\n\\n9 ratings\\n\\n\\n\\n\\n\\n\\n4.7 out of 5 stars', '3.8 out of 5 stars\\n\\n\\n\\n\\n\\n\\n\\n\\n444 ratings\\n\\n\\n\\n\\n\\n\\n3.8 out of 5 stars', '4.5 out of 5 stars\\n\\n\\n\\n\\n\\n\\n\\n\\n38 ratings\\n\\n\\n\\n\\n\\n\\n4.5 out of 5 stars', '4.3 out of 5 stars\\n\\n\\n\\n\\n\\n\\n\\n\\n10 ratings\\n\\n\\n\\n\\n\\n\\n4.3 out of 5 stars', '4.5 out of 5 stars\\n\\n\\n\\n\\n\\n\\n\\n\\n418 ratings\\n\\n\\n\\n\\n\\n\\n4.5 out of 5 stars', '4.4 out of 5 stars\\n\\n\\n\\n\\n\\n\\n\\n\\n377 ratings\\n\\n\\n\\n\\n\\n\\n4.4 out of 5 stars', '4.4 out of 5 stars\\n\\n\\n\\n\\n\\n\\n\\n\\n2,261 ratings\\n\\n\\n\\n\\n\\n\\n4.4 out of 5 stars', '5.0 out of 5 stars\\n\\n\\n\\n\\n\\n\\n\\n\\n2 ratings\\n\\n\\n\\n\\n\\n\\n5.0 out of 5 stars', '4.3 out of 5 stars\\n\\n\\n\\n\\n\\n\\n\\n\\n292 ratings\\n\\n\\n\\n\\n\\n\\n4.3 out of 5 stars', '4.1 out of 5 stars\\n\\n\\n\\n\\n\\n\\n\\n\\n114 ratings\\n\\n\\n\\n\\n\\n\\n4.1 out of 5 stars'}\n",
      "Best Sellers Rank {'#11,049 in Electronics (See Top 100 in Electronics)\\n\\n#437 in Cell Phones', '#41,802 in Electronics (See Top 100 in Electronics)\\n\\n#1,612 in Cell Phones', '#43,378 in Cell Phones & Accessories (See Top 100 in Cell Phones & Accessories)\\n\\n#19,050 in Cell Phone Basic Cases', '#83,705 in Electronics (See Top 100 in Electronics)\\n\\n#3,048 in Cell Phones', '#9,660 in Cell Phones & Accessories (See Top 100 in Cell Phones & Accessories)\\n\\n#3,673 in Cell Phone Basic Cases', '#2,249 in Electronics (See Top 100 in Electronics)\\n\\n#79 in Cell Phones', '#36,198 in Cell Phones & Accessories (See Top 100 in Cell Phones & Accessories)\\n\\n#30,011 in Cell Phone Accessories', '#1,588 in Earbud & In-Ear Headphones', '#16,308 in Electronics (See Top 100 in Electronics)\\n\\n#634 in Cell Phones', '#20,982 in Cell Phones & Accessories (See Top 100 in Cell Phones & Accessories)\\n\\n#8,721 in Cell Phone Basic Cases', '#17,433 in Electronics (See Top 100 in Electronics)\\n\\n#681 in Cell Phones', '#3,262 in Electronics (See Top 100 in Electronics)\\n\\n#122 in Cell Phones', '#46,313 in Electronics (See Top 100 in Electronics)\\n\\n#1,801 in Cell Phones', '#4,160 in Electronics (See Top 100 in Electronics)\\n\\n#160 in Cell Phones', '#15,276 in Electronics (See Top 100 in Electronics)\\n\\n#588 in Cell Phones'}\n",
      "Other display features {'CE', 'Wireless'}\n",
      "Colour {'Black', 'Black(8GB+128GB)', 'Polar Silver', 'Midnight Frost', 'Lunar Silver', 'Astral Black', 'Onyx Black', 'Mirror Grey', 'Midnight Ice', 'Morning Mist', 'Navy', 'OnePlus Nord N10 5G Case Blue'}\n",
      "Date First Available {'November 5, 2018', 'October 1, 2020', 'August 25, 2020', 'April 27, 2020', 'October 5, 2019', 'January 1, 2020', 'October 8, 2020', 'January 8, 2021', 'December 19, 2020', 'February 4, 2021', 'March 6, 2021', 'March 23, 2021', 'January 15, 2021', 'February 1, 2021'}\n",
      "Operating System {'Android 11', 'Android 10.0', 'Android'}\n",
      "Screen Size {'6.4 Inches', '6.52 Inches', '6.49 Inches', '6.55 Inches', '6.67 Inches', '6.5 Inches'}\n",
      "Display Type {'LCD', 'AMOLED'}\n",
      "Cellular Technology {'4G', '5G', '2G'}\n",
      "Form Factor {'Smartphone', 'Bar', 'In Ear', 'Bumper', 'Slider'}\n",
      "Package Dimensions {'8.27 x 4.53 x 0.55 inches', '9.76 x 3.82 x 2.6 inches', '6.73 x 3.46 x 2.05 inches'}\n",
      "OS {'Android 11', 'Android 10.0', 'Android'}\n",
      "RAM {'12 GB', '4 GB', '8 GB', '6 GB', '128 GB'}\n",
      "Special Features {'Slim, Shock Absorption Case for OnePlus Nord N10 5G', 'Touchscreen, Bluetooth Enabled, 4K Video Recording, Text/Messaging, Expandable Memory, Octa Core Processor, Camera, LTE, Smartphone, Built-In GPS, Mobile Hotspot Capability', 'Qualcomm Snapdragon 865 + X55, Up to 12G RAM and 256 UFS3.1 ROM, Ultra Wide Lens: 16 MP IMX481 Macro Lens: 5 MP Monochrome Lens: 2 MP123° FOV f/2.2 FF, 120Hz fluid display, Main Camera: 48 MP IMX586 OIS 0.8μm 1/2” f/1.7 6P OIS and EIS', '48MP+50MP+2MP high resolution camera, 120Hz display, Warp Charge 65W, Wireless Charging 15W, Fingerprint Sensor', 'Warp Charge 30T, 64 MP high resolution camera, Dual speakers, 90 Hz display, Warp charging', 'Wireless Charging 50W, 120Hz display, Warp Charge 65W, 48MP+50MP+8MP+2MP high resolution camera, Fingerprint Sensor', 'Heavy Duty Protection, Kickstand, Universal'}\n",
      "Included Components {'Kickstand', 'Oneplus 8T, Warp Type-C Cable，Power Adapter， Ejector tool，Quick Start Guide, Safety Information and Warranty Card', 'Oneplus 9 Pro, Warp Type-C Cable, Power Adapter, Ejector tool, Quick Start Guide, Safety Information and Warranty Card', 'Phone, power adapter, cable, SIM card ejector, manual', 'USB Charging Cable, USB Charging Block', 'Oneplus 9, Warp Type-C Cable, Power Adapter, Ejector tool, Quick Start Guide, Safety Information and Warranty Card'}\n",
      "Other camera features {'Front', 'Front, 16MP, Rear, Triple Camera, 48+50+2 MP', 'Rear, Quad Camera, 48+50+8+2 MP, Front, 16MP', 'Rear, Quad Camera, 64+8+2+2 MP, Front, 16MP', 'Rear, Front'}\n",
      "Connectivity technologies {'Bluetooth, Wi-Fi, USB, NFC', 'Bluetooth, Wi-Fi, Infrared, USB, NFC', 'Bluetooth', 'USB'}\n",
      "GPS {'True'}\n",
      "Device interface - primary {'Touchscreen, Microphone', 'Touchscreen'}\n",
      "Audio Jack {'3.5 mm'}\n",
      "Battery Power Rating {'4500', '4300'}\n",
      "Phone Talk Time {'24 Hours'}\n",
      "Phone Standy Time (with data) {'8.2 days'}\n",
      "Connectivity Technology {'USB', 'Bluetooth, Wired', 'Bluetooth, Wi-Fi, Infrared, USB, NFC', 'Wireless', 'Bluetooth'}\n",
      "Wireless communication technologies {'Cellular, Bluetooth', 'Cellular, Bluetooth, Wi-Fi, NFC', 'Cellular'}\n",
      "Display technology {'LCD', 'AMOLED'}\n",
      "Is Discontinued By Manufacturer {'No'}\n",
      "Scanner Resolution {'2560 x 1440', '1440 x 3120', '1280 x 720'}\n",
      "Material {'TPU'}\n",
      "Compatible Phone Models {'OnePlus Nord N10 5G'}\n",
      "Connector Type {'USB Type C'}\n"
     ]
    }
   ],
   "source": [
    "for name, value in oneplus_features.items() :\n",
    "    print(name, value)"
   ]
  },
  {
   "cell_type": "code",
   "execution_count": 78,
   "metadata": {},
   "outputs": [
    {
     "data": {
      "text/plain": [
       "{'Battery Power Rating', 'Connector Type', 'Material'}"
      ]
     },
     "execution_count": 78,
     "metadata": {},
     "output_type": "execute_result"
    }
   ],
   "source": [
    "set(oneplus_features.keys()).difference(set(redmi_features.keys()))"
   ]
  },
  {
   "cell_type": "code",
   "execution_count": 75,
   "metadata": {},
   "outputs": [
    {
     "data": {
      "text/plain": [
       "41"
      ]
     },
     "execution_count": 75,
     "metadata": {},
     "output_type": "execute_result"
    }
   ],
   "source": [
    "len(set(oneplus_features.keys()))"
   ]
  },
  {
   "cell_type": "code",
   "execution_count": 76,
   "metadata": {},
   "outputs": [
    {
     "data": {
      "text/plain": [
       "45"
      ]
     },
     "execution_count": 76,
     "metadata": {},
     "output_type": "execute_result"
    }
   ],
   "source": [
    "len(set(redmi_features.keys()))"
   ]
  },
  {
   "cell_type": "code",
   "execution_count": 79,
   "metadata": {},
   "outputs": [
    {
     "data": {
      "text/plain": [
       "{'Battery Cell Composition',\n",
       " 'Battery Life',\n",
       " 'Model Name',\n",
       " 'Rear Camera Resolution',\n",
       " 'Shooting Modes',\n",
       " 'Supported Application',\n",
       " 'Water Resistance Level'}"
      ]
     },
     "execution_count": 79,
     "metadata": {},
     "output_type": "execute_result"
    }
   ],
   "source": [
    "set(redmi_features.keys()).difference(set(oneplus_features.keys()))"
   ]
  },
  {
   "cell_type": "code",
   "execution_count": null,
   "metadata": {},
   "outputs": [],
   "source": []
  }
 ],
 "metadata": {
  "kernelspec": {
   "display_name": "Python 3",
   "language": "python",
   "name": "python3"
  },
  "language_info": {
   "codemirror_mode": {
    "name": "ipython",
    "version": 3
   },
   "file_extension": ".py",
   "mimetype": "text/x-python",
   "name": "python",
   "nbconvert_exporter": "python",
   "pygments_lexer": "ipython3",
   "version": "3.7.3"
  }
 },
 "nbformat": 4,
 "nbformat_minor": 2
}
