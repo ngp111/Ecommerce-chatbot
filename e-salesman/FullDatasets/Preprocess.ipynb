{
 "cells": [
  {
   "cell_type": "code",
   "execution_count": 148,
   "metadata": {},
   "outputs": [],
   "source": [
    "import pandas as pd\n",
    "import json"
   ]
  },
  {
   "cell_type": "markdown",
   "metadata": {},
   "source": [
    "## Mobiles "
   ]
  },
  {
   "cell_type": "code",
   "execution_count": 149,
   "metadata": {},
   "outputs": [],
   "source": [
    "mobiles = pd.read_csv(\"MobileDataset.csv\")"
   ]
  },
  {
   "cell_type": "code",
   "execution_count": 150,
   "metadata": {},
   "outputs": [
    {
     "data": {
      "text/html": [
       "<div>\n",
       "<style scoped>\n",
       "    .dataframe tbody tr th:only-of-type {\n",
       "        vertical-align: middle;\n",
       "    }\n",
       "\n",
       "    .dataframe tbody tr th {\n",
       "        vertical-align: top;\n",
       "    }\n",
       "\n",
       "    .dataframe thead th {\n",
       "        text-align: right;\n",
       "    }\n",
       "</style>\n",
       "<table border=\"1\" class=\"dataframe\">\n",
       "  <thead>\n",
       "    <tr style=\"text-align: right;\">\n",
       "      <th></th>\n",
       "      <th>Category</th>\n",
       "      <th>Product Name</th>\n",
       "      <th>Product Price</th>\n",
       "      <th>product URL</th>\n",
       "      <th>Product Features</th>\n",
       "    </tr>\n",
       "  </thead>\n",
       "  <tbody>\n",
       "    <tr>\n",
       "      <th>0</th>\n",
       "      <td>Mobile</td>\n",
       "      <td>Samsung Galaxy A71 5G Unlocked , 6.7\" AMOLED S...</td>\n",
       "      <td>$599.99</td>\n",
       "      <td>https://www.amazon.com//gp/slredirect/picassoR...</td>\n",
       "      <td>{'Wireless Carrier': 'Unlocked for All Carrier...</td>\n",
       "    </tr>\n",
       "    <tr>\n",
       "      <th>1</th>\n",
       "      <td>Mobile</td>\n",
       "      <td>Samsung Electronics Galaxy Note 20 5G Factory ...</td>\n",
       "      <td>$999.99</td>\n",
       "      <td>https://www.amazon.com//gp/slredirect/picassoR...</td>\n",
       "      <td>{'Wireless Carrier': 'Unlocked for All Carrier...</td>\n",
       "    </tr>\n",
       "    <tr>\n",
       "      <th>2</th>\n",
       "      <td>Mobile</td>\n",
       "      <td>Samsung Galaxy S21 5G | Factory Unlocked Andro...</td>\n",
       "      <td>$771.23</td>\n",
       "      <td>https://www.amazon.com//Samsung-Unlocked-Smart...</td>\n",
       "      <td>{'Wireless Carrier': 'Unlocked for All Carrier...</td>\n",
       "    </tr>\n",
       "    <tr>\n",
       "      <th>3</th>\n",
       "      <td>Mobile</td>\n",
       "      <td>Samsung Electronics Galaxy Note 20 Ultra 5G Fa...</td>\n",
       "      <td>$1,290.10</td>\n",
       "      <td>https://www.amazon.com//Samsung-Electronics-Un...</td>\n",
       "      <td>{'Wireless Carrier': 'Unlocked for All Carrier...</td>\n",
       "    </tr>\n",
       "    <tr>\n",
       "      <th>4</th>\n",
       "      <td>Mobile</td>\n",
       "      <td>Samsung Galaxy S20 FE 5G | Factory Unlocked An...</td>\n",
       "      <td>$699.99</td>\n",
       "      <td>https://www.amazon.com//Samsung-Factory-Unlock...</td>\n",
       "      <td>{'Wireless Carrier': 'Unlocked for All Carrier...</td>\n",
       "    </tr>\n",
       "  </tbody>\n",
       "</table>\n",
       "</div>"
      ],
      "text/plain": [
       "  Category                                       Product Name Product Price  \\\n",
       "0   Mobile  Samsung Galaxy A71 5G Unlocked , 6.7\" AMOLED S...       $599.99   \n",
       "1   Mobile  Samsung Electronics Galaxy Note 20 5G Factory ...       $999.99   \n",
       "2   Mobile  Samsung Galaxy S21 5G | Factory Unlocked Andro...       $771.23   \n",
       "3   Mobile  Samsung Electronics Galaxy Note 20 Ultra 5G Fa...     $1,290.10   \n",
       "4   Mobile  Samsung Galaxy S20 FE 5G | Factory Unlocked An...       $699.99   \n",
       "\n",
       "                                         product URL  \\\n",
       "0  https://www.amazon.com//gp/slredirect/picassoR...   \n",
       "1  https://www.amazon.com//gp/slredirect/picassoR...   \n",
       "2  https://www.amazon.com//Samsung-Unlocked-Smart...   \n",
       "3  https://www.amazon.com//Samsung-Electronics-Un...   \n",
       "4  https://www.amazon.com//Samsung-Factory-Unlock...   \n",
       "\n",
       "                                    Product Features  \n",
       "0  {'Wireless Carrier': 'Unlocked for All Carrier...  \n",
       "1  {'Wireless Carrier': 'Unlocked for All Carrier...  \n",
       "2  {'Wireless Carrier': 'Unlocked for All Carrier...  \n",
       "3  {'Wireless Carrier': 'Unlocked for All Carrier...  \n",
       "4  {'Wireless Carrier': 'Unlocked for All Carrier...  "
      ]
     },
     "execution_count": 150,
     "metadata": {},
     "output_type": "execute_result"
    }
   ],
   "source": [
    "mobiles.head()"
   ]
  },
  {
   "cell_type": "code",
   "execution_count": 151,
   "metadata": {},
   "outputs": [
    {
     "data": {
      "text/plain": [
       "120"
      ]
     },
     "execution_count": 151,
     "metadata": {},
     "output_type": "execute_result"
    }
   ],
   "source": [
    "len(mobiles)"
   ]
  },
  {
   "cell_type": "code",
   "execution_count": 152,
   "metadata": {},
   "outputs": [],
   "source": [
    "new_mobiles = mobiles\n",
    "new_mobiles = new_mobiles.drop(\"Category\", axis=1)"
   ]
  },
  {
   "cell_type": "code",
   "execution_count": 153,
   "metadata": {},
   "outputs": [],
   "source": [
    "prices = new_mobiles[\"Product Price\"]\n",
    "prices = [prices[i].replace(\"$\", \"\") for i in range(len(prices))]\n",
    "prices = [prices[i].replace(\",\", \"\") for i in range(len(prices))]\n",
    "prices = [float(prices[i]) for i in range(len(prices))]\n",
    "new_mobiles[\"Product Price\"] = prices"
   ]
  },
  {
   "cell_type": "code",
   "execution_count": 154,
   "metadata": {},
   "outputs": [
    {
     "name": "stderr",
     "output_type": "stream",
     "text": [
      "/home/intel123/anaconda3/lib/python3.7/site-packages/ipykernel_launcher.py:3: SettingWithCopyWarning: \n",
      "A value is trying to be set on a copy of a slice from a DataFrame\n",
      "\n",
      "See the caveats in the documentation: http://pandas.pydata.org/pandas-docs/stable/indexing.html#indexing-view-versus-copy\n",
      "  This is separate from the ipykernel package so we can avoid doing imports until\n",
      "/home/intel123/anaconda3/lib/python3.7/site-packages/ipykernel_launcher.py:4: SettingWithCopyWarning: \n",
      "A value is trying to be set on a copy of a slice from a DataFrame\n",
      "\n",
      "See the caveats in the documentation: http://pandas.pydata.org/pandas-docs/stable/indexing.html#indexing-view-versus-copy\n",
      "  after removing the cwd from sys.path.\n"
     ]
    }
   ],
   "source": [
    "features = new_mobiles[\"Product Features\"]\n",
    "for i in range(len(features)) :\n",
    "    features[i] = features[i].replace(\"'\", '\"')\n",
    "    features[i] = json.loads(features[i])\n",
    "    new_mobiles[\"Product Features\"] = features"
   ]
  },
  {
   "cell_type": "code",
   "execution_count": 155,
   "metadata": {},
   "outputs": [
    {
     "data": {
      "text/plain": [
       "dict_keys(['Wireless Carrier', 'Brand', 'Color', 'Memory Storage Capacity', 'Operating System', 'Screen Size', 'Display Type', 'Cellular Technology', 'Manufacturer', 'Other camera features', 'Product Dimensions', 'Item Weight', 'ASIN', 'Item model number', 'Batteries', 'Customer Reviews', 'Best Sellers Rank', 'OS', 'RAM', 'Wireless communication technologies', 'Connectivity technologies', 'Other display features', 'Form Factor', 'Colour', 'Included Components', 'Date First Available'])"
      ]
     },
     "execution_count": 155,
     "metadata": {},
     "output_type": "execute_result"
    }
   ],
   "source": [
    "features.iloc[0].keys()"
   ]
  },
  {
   "cell_type": "code",
   "execution_count": 156,
   "metadata": {},
   "outputs": [
    {
     "name": "stdout",
     "output_type": "stream",
     "text": [
      "Missing Brands: 20\n"
     ]
    }
   ],
   "source": [
    "brands = []\n",
    "missing_brands = 0\n",
    "for i in range(len(features)) :\n",
    "    if \"Brand\" in features.iloc[i].keys() :\n",
    "        brands.append(features.iloc[i][\"Brand\"])\n",
    "    else :\n",
    "        brands.append(\"\")\n",
    "        missing_brands += 1\n",
    "new_mobiles[\"Brand\"] = brands\n",
    "print(\"Missing Brands:\", missing_brands)"
   ]
  },
  {
   "cell_type": "code",
   "execution_count": 157,
   "metadata": {},
   "outputs": [
    {
     "name": "stdout",
     "output_type": "stream",
     "text": [
      "Missing Colors: 14\n"
     ]
    }
   ],
   "source": [
    "missing_colors = 0\n",
    "colours = []\n",
    "for i in range(len(features)) :\n",
    "    if \"Color\" in features.iloc[i].keys() :\n",
    "        colours.append(features.iloc[i][\"Color\"])\n",
    "    elif \"Colour\" in features.iloc[i].keys() :\n",
    "        colours.append(features.iloc[i][\"Colour\"])\n",
    "    else :\n",
    "        colours.append(\"\")\n",
    "        missing_colors += 1\n",
    "new_mobiles[\"Color\"] = colours\n",
    "print(\"Missing Colors:\", missing_colors)"
   ]
  },
  {
   "cell_type": "code",
   "execution_count": 158,
   "metadata": {},
   "outputs": [
    {
     "name": "stdout",
     "output_type": "stream",
     "text": [
      "Missing Memory Storage Capacity: 43\n"
     ]
    }
   ],
   "source": [
    "missing_mem = 0\n",
    "mem = []\n",
    "for i in range(len(features)) :\n",
    "    if \"Memory Storage Capacity\" in features.iloc[i].keys() :\n",
    "        mem.append(features.iloc[i][\"Memory Storage Capacity\"])\n",
    "    else :\n",
    "        mem.append(\"\")\n",
    "        missing_mem += 1\n",
    "new_mobiles[\"Memory Storage Capacity\"] = mem\n",
    "print(\"Missing Memory Storage Capacity:\", missing_mem)"
   ]
  },
  {
   "cell_type": "code",
   "execution_count": 160,
   "metadata": {},
   "outputs": [
    {
     "name": "stdout",
     "output_type": "stream",
     "text": [
      "Missing Ratings: 5\n"
     ]
    }
   ],
   "source": [
    "missing_ratings = 0\n",
    "ratings = []\n",
    "for i in range(len(features)) :\n",
    "    if \"Customer Reviews\" in features.iloc[i].keys() :\n",
    "        ratings.append(features.iloc[i][\"Customer Reviews\"].split('\\n')[0].split()[0])\n",
    "    else :\n",
    "        ratings.append(\"\")\n",
    "        missing_ratings += 1\n",
    "new_mobiles[\"Ratings\"] = ratings\n",
    "print(\"Missing Ratings:\", missing_ratings)"
   ]
  },
  {
   "cell_type": "code",
   "execution_count": 162,
   "metadata": {},
   "outputs": [
    {
     "name": "stdout",
     "output_type": "stream",
     "text": [
      "Missing Best Sellers: 2\n"
     ]
    }
   ],
   "source": [
    "ranks = []\n",
    "missing_ranks = 0\n",
    "for i in range(len(features)) :\n",
    "    if \"Best Sellers Rank\" in features.iloc[i].keys() :\n",
    "        rank = features.iloc[i][\"Best Sellers Rank\"]\n",
    "        ranks.append(rank.split('#')[2].split()[0])\n",
    "    else :\n",
    "        ranks.append(\"\")\n",
    "        missing_ranks += 1\n",
    "new_mobiles[\"Best Sellers Rank\"] = ranks\n",
    "print(\"Missing Best Sellers:\", missing_ranks)"
   ]
  },
  {
   "cell_type": "code",
   "execution_count": 165,
   "metadata": {},
   "outputs": [],
   "source": [
    "new_mobiles = new_mobiles.drop(\"Product Features\", axis=1)"
   ]
  },
  {
   "cell_type": "code",
   "execution_count": 166,
   "metadata": {},
   "outputs": [
    {
     "data": {
      "text/html": [
       "<div>\n",
       "<style scoped>\n",
       "    .dataframe tbody tr th:only-of-type {\n",
       "        vertical-align: middle;\n",
       "    }\n",
       "\n",
       "    .dataframe tbody tr th {\n",
       "        vertical-align: top;\n",
       "    }\n",
       "\n",
       "    .dataframe thead th {\n",
       "        text-align: right;\n",
       "    }\n",
       "</style>\n",
       "<table border=\"1\" class=\"dataframe\">\n",
       "  <thead>\n",
       "    <tr style=\"text-align: right;\">\n",
       "      <th></th>\n",
       "      <th>Product Name</th>\n",
       "      <th>Product Price</th>\n",
       "      <th>product URL</th>\n",
       "      <th>Brand</th>\n",
       "      <th>Color</th>\n",
       "      <th>Memory Storage Capacity</th>\n",
       "      <th>Ratings</th>\n",
       "      <th>Best Sellers Rank</th>\n",
       "    </tr>\n",
       "  </thead>\n",
       "  <tbody>\n",
       "    <tr>\n",
       "      <th>0</th>\n",
       "      <td>Samsung Galaxy A71 5G Unlocked , 6.7\" AMOLED S...</td>\n",
       "      <td>599.99</td>\n",
       "      <td>https://www.amazon.com//gp/slredirect/picassoR...</td>\n",
       "      <td>Samsung Electronics</td>\n",
       "      <td>Black</td>\n",
       "      <td>128 GB</td>\n",
       "      <td>4.5</td>\n",
       "      <td>360</td>\n",
       "    </tr>\n",
       "    <tr>\n",
       "      <th>1</th>\n",
       "      <td>Samsung Electronics Galaxy Note 20 5G Factory ...</td>\n",
       "      <td>999.99</td>\n",
       "      <td>https://www.amazon.com//gp/slredirect/picassoR...</td>\n",
       "      <td>Samsung Electronics</td>\n",
       "      <td>Mystic Bronze</td>\n",
       "      <td>128 GB</td>\n",
       "      <td>4.6</td>\n",
       "      <td>415</td>\n",
       "    </tr>\n",
       "    <tr>\n",
       "      <th>2</th>\n",
       "      <td>Samsung Galaxy S21 5G | Factory Unlocked Andro...</td>\n",
       "      <td>771.23</td>\n",
       "      <td>https://www.amazon.com//Samsung-Unlocked-Smart...</td>\n",
       "      <td>Samsung Electronics</td>\n",
       "      <td>Phantom White</td>\n",
       "      <td>128 GB</td>\n",
       "      <td>4.5</td>\n",
       "      <td>344</td>\n",
       "    </tr>\n",
       "    <tr>\n",
       "      <th>3</th>\n",
       "      <td>Samsung Electronics Galaxy Note 20 Ultra 5G Fa...</td>\n",
       "      <td>1290.10</td>\n",
       "      <td>https://www.amazon.com//Samsung-Electronics-Un...</td>\n",
       "      <td>Samsung Electronics</td>\n",
       "      <td>Mystic Bronze</td>\n",
       "      <td>128 GB</td>\n",
       "      <td>4.6</td>\n",
       "      <td>329</td>\n",
       "    </tr>\n",
       "    <tr>\n",
       "      <th>4</th>\n",
       "      <td>Samsung Galaxy S20 FE 5G | Factory Unlocked An...</td>\n",
       "      <td>699.99</td>\n",
       "      <td>https://www.amazon.com//Samsung-Factory-Unlock...</td>\n",
       "      <td>Samsung Electronics</td>\n",
       "      <td>Cloud Green</td>\n",
       "      <td>6 GB</td>\n",
       "      <td>4.6</td>\n",
       "      <td>466</td>\n",
       "    </tr>\n",
       "  </tbody>\n",
       "</table>\n",
       "</div>"
      ],
      "text/plain": [
       "                                        Product Name  Product Price  \\\n",
       "0  Samsung Galaxy A71 5G Unlocked , 6.7\" AMOLED S...         599.99   \n",
       "1  Samsung Electronics Galaxy Note 20 5G Factory ...         999.99   \n",
       "2  Samsung Galaxy S21 5G | Factory Unlocked Andro...         771.23   \n",
       "3  Samsung Electronics Galaxy Note 20 Ultra 5G Fa...        1290.10   \n",
       "4  Samsung Galaxy S20 FE 5G | Factory Unlocked An...         699.99   \n",
       "\n",
       "                                         product URL                Brand  \\\n",
       "0  https://www.amazon.com//gp/slredirect/picassoR...  Samsung Electronics   \n",
       "1  https://www.amazon.com//gp/slredirect/picassoR...  Samsung Electronics   \n",
       "2  https://www.amazon.com//Samsung-Unlocked-Smart...  Samsung Electronics   \n",
       "3  https://www.amazon.com//Samsung-Electronics-Un...  Samsung Electronics   \n",
       "4  https://www.amazon.com//Samsung-Factory-Unlock...  Samsung Electronics   \n",
       "\n",
       "           Color Memory Storage Capacity Ratings Best Sellers Rank  \n",
       "0          Black                  128 GB     4.5               360  \n",
       "1  Mystic Bronze                  128 GB     4.6               415  \n",
       "2  Phantom White                  128 GB     4.5               344  \n",
       "3  Mystic Bronze                  128 GB     4.6               329  \n",
       "4    Cloud Green                    6 GB     4.6               466  "
      ]
     },
     "execution_count": 166,
     "metadata": {},
     "output_type": "execute_result"
    }
   ],
   "source": [
    "new_mobiles.head()"
   ]
  },
  {
   "cell_type": "code",
   "execution_count": 168,
   "metadata": {},
   "outputs": [],
   "source": [
    "new_mobiles.to_csv(\"../ShortDatasets/Mobiles.csv\")"
   ]
  },
  {
   "cell_type": "markdown",
   "metadata": {},
   "source": [
    "## Power Banks "
   ]
  },
  {
   "cell_type": "code",
   "execution_count": 379,
   "metadata": {},
   "outputs": [],
   "source": [
    "banks = pd.read_csv(\"PowerBankDataset.csv\")"
   ]
  },
  {
   "cell_type": "code",
   "execution_count": 380,
   "metadata": {},
   "outputs": [
    {
     "data": {
      "text/html": [
       "<div>\n",
       "<style scoped>\n",
       "    .dataframe tbody tr th:only-of-type {\n",
       "        vertical-align: middle;\n",
       "    }\n",
       "\n",
       "    .dataframe tbody tr th {\n",
       "        vertical-align: top;\n",
       "    }\n",
       "\n",
       "    .dataframe thead th {\n",
       "        text-align: right;\n",
       "    }\n",
       "</style>\n",
       "<table border=\"1\" class=\"dataframe\">\n",
       "  <thead>\n",
       "    <tr style=\"text-align: right;\">\n",
       "      <th></th>\n",
       "      <th>Category</th>\n",
       "      <th>Product Name</th>\n",
       "      <th>Product Price</th>\n",
       "      <th>product URL</th>\n",
       "      <th>Product Features</th>\n",
       "      <th>Ratings</th>\n",
       "      <th>Total Reviews</th>\n",
       "    </tr>\n",
       "  </thead>\n",
       "  <tbody>\n",
       "    <tr>\n",
       "      <th>0</th>\n",
       "      <td>Mobile</td>\n",
       "      <td>Portable Charger 26800mAh LCD Digital Display ...</td>\n",
       "      <td>$19.08</td>\n",
       "      <td>https://www.amazon.com//gp/slredirect/picassoR...</td>\n",
       "      <td>{'Number of Batteries': '1 Lithium Polymer bat...</td>\n",
       "      <td>4.6 out of 5 stars</td>\n",
       "      <td>2129.0</td>\n",
       "    </tr>\n",
       "    <tr>\n",
       "      <th>1</th>\n",
       "      <td>Mobile</td>\n",
       "      <td>Portable Charger Power Bank [25800mAh Newest V...</td>\n",
       "      <td>$18.95</td>\n",
       "      <td>https://www.amazon.com//gp/slredirect/picassoR...</td>\n",
       "      <td>{'Color': 'Black', 'Brand': 'HHETP', 'Connecto...</td>\n",
       "      <td>4.3 out of 5 stars</td>\n",
       "      <td>90.0</td>\n",
       "    </tr>\n",
       "    <tr>\n",
       "      <th>2</th>\n",
       "      <td>Mobile</td>\n",
       "      <td>Anker USB-C Portable Charger, 18W PowerCore Sl...</td>\n",
       "      <td>$27.99</td>\n",
       "      <td>https://www.amazon.com//Anker-PowerCore-Portab...</td>\n",
       "      <td>{'Product Dimensions': '5.89 x 2.7 x 0.57 inch...</td>\n",
       "      <td>4.6 out of 5 stars</td>\n",
       "      <td>5237.0</td>\n",
       "    </tr>\n",
       "    <tr>\n",
       "      <th>3</th>\n",
       "      <td>Mobile</td>\n",
       "      <td>Anker Powerhouse 200, 213Wh/57600mAh Portable ...</td>\n",
       "      <td>$259.99</td>\n",
       "      <td>https://www.amazon.com//Anker-Powerhouse-Recha...</td>\n",
       "      <td>{'Brand': 'Anker', 'Wattage': '100 watts', 'It...</td>\n",
       "      <td>4.5 out of 5 stars</td>\n",
       "      <td>363.0</td>\n",
       "    </tr>\n",
       "    <tr>\n",
       "      <th>4</th>\n",
       "      <td>Mobile</td>\n",
       "      <td>Anker PowerCore III Sense 10K Sun-Kissed Coral...</td>\n",
       "      <td>$49.99</td>\n",
       "      <td>https://www.amazon.com//Anker-PowerCore-Sun-Ki...</td>\n",
       "      <td>{'Color': 'Pink', 'Brand': 'Anker', 'Connector...</td>\n",
       "      <td>4.8 out of 5 stars</td>\n",
       "      <td>36.0</td>\n",
       "    </tr>\n",
       "  </tbody>\n",
       "</table>\n",
       "</div>"
      ],
      "text/plain": [
       "  Category                                       Product Name Product Price  \\\n",
       "0   Mobile  Portable Charger 26800mAh LCD Digital Display ...        $19.08   \n",
       "1   Mobile  Portable Charger Power Bank [25800mAh Newest V...        $18.95   \n",
       "2   Mobile  Anker USB-C Portable Charger, 18W PowerCore Sl...        $27.99   \n",
       "3   Mobile  Anker Powerhouse 200, 213Wh/57600mAh Portable ...       $259.99   \n",
       "4   Mobile  Anker PowerCore III Sense 10K Sun-Kissed Coral...        $49.99   \n",
       "\n",
       "                                         product URL  \\\n",
       "0  https://www.amazon.com//gp/slredirect/picassoR...   \n",
       "1  https://www.amazon.com//gp/slredirect/picassoR...   \n",
       "2  https://www.amazon.com//Anker-PowerCore-Portab...   \n",
       "3  https://www.amazon.com//Anker-Powerhouse-Recha...   \n",
       "4  https://www.amazon.com//Anker-PowerCore-Sun-Ki...   \n",
       "\n",
       "                                    Product Features             Ratings  \\\n",
       "0  {'Number of Batteries': '1 Lithium Polymer bat...  4.6 out of 5 stars   \n",
       "1  {'Color': 'Black', 'Brand': 'HHETP', 'Connecto...  4.3 out of 5 stars   \n",
       "2  {'Product Dimensions': '5.89 x 2.7 x 0.57 inch...  4.6 out of 5 stars   \n",
       "3  {'Brand': 'Anker', 'Wattage': '100 watts', 'It...  4.5 out of 5 stars   \n",
       "4  {'Color': 'Pink', 'Brand': 'Anker', 'Connector...  4.8 out of 5 stars   \n",
       "\n",
       "   Total Reviews  \n",
       "0         2129.0  \n",
       "1           90.0  \n",
       "2         5237.0  \n",
       "3          363.0  \n",
       "4           36.0  "
      ]
     },
     "execution_count": 380,
     "metadata": {},
     "output_type": "execute_result"
    }
   ],
   "source": [
    "banks.head()"
   ]
  },
  {
   "cell_type": "code",
   "execution_count": 381,
   "metadata": {},
   "outputs": [],
   "source": [
    "new_banks = banks.drop(\"Category\", axis=1)"
   ]
  },
  {
   "cell_type": "code",
   "execution_count": 382,
   "metadata": {},
   "outputs": [],
   "source": [
    "prices = new_banks[\"Product Price\"]\n",
    "prices = [prices[i].replace(\"$\", \"\") for i in range(len(prices))]\n",
    "prices = [prices[i].replace(\",\", \"\") for i in range(len(prices))]\n",
    "prices = [float(prices[i]) for i in range(len(prices))]\n",
    "new_banks[\"Product Price\"] = prices"
   ]
  },
  {
   "cell_type": "code",
   "execution_count": 383,
   "metadata": {},
   "outputs": [
    {
     "name": "stderr",
     "output_type": "stream",
     "text": [
      "/home/intel123/anaconda3/lib/python3.7/site-packages/ipykernel_launcher.py:3: SettingWithCopyWarning: \n",
      "A value is trying to be set on a copy of a slice from a DataFrame\n",
      "\n",
      "See the caveats in the documentation: http://pandas.pydata.org/pandas-docs/stable/indexing.html#indexing-view-versus-copy\n",
      "  This is separate from the ipykernel package so we can avoid doing imports until\n",
      "/home/intel123/anaconda3/lib/python3.7/site-packages/ipykernel_launcher.py:4: SettingWithCopyWarning: \n",
      "A value is trying to be set on a copy of a slice from a DataFrame\n",
      "\n",
      "See the caveats in the documentation: http://pandas.pydata.org/pandas-docs/stable/indexing.html#indexing-view-versus-copy\n",
      "  after removing the cwd from sys.path.\n"
     ]
    }
   ],
   "source": [
    "features = new_banks[\"Product Features\"]\n",
    "for i in range(len(features)) :\n",
    "    features[i] = features[i].replace(\"'\", '\"')\n",
    "    features[i] = json.loads(features[i])\n",
    "    new_banks[\"Product Features\"] = features"
   ]
  },
  {
   "cell_type": "code",
   "execution_count": 384,
   "metadata": {},
   "outputs": [
    {
     "name": "stdout",
     "output_type": "stream",
     "text": [
      "Missing Brands: 35\n"
     ]
    }
   ],
   "source": [
    "brands = []\n",
    "missing_brands = 0\n",
    "for i in range(len(features)) :\n",
    "    if \"Brand\" in features.iloc[i].keys() :\n",
    "        brands.append(features.iloc[i][\"Brand\"])\n",
    "    else :\n",
    "        brands.append(\"\")\n",
    "        missing_brands += 1\n",
    "new_banks[\"Brand\"] = brands\n",
    "print(\"Missing Brands:\", missing_brands)"
   ]
  },
  {
   "cell_type": "code",
   "execution_count": 385,
   "metadata": {},
   "outputs": [
    {
     "name": "stdout",
     "output_type": "stream",
     "text": [
      "Missing Ratings: 8\n"
     ]
    }
   ],
   "source": [
    "missing_ratings = 0\n",
    "ratings = []\n",
    "for i in range(len(features)) :\n",
    "    if \"Customer Reviews\" in features.iloc[i].keys() :\n",
    "        ratings.append(features.iloc[i][\"Customer Reviews\"].split('\\n')[0].split()[0])\n",
    "    else :\n",
    "        ratings.append(\"\")\n",
    "        missing_ratings += 1\n",
    "new_banks[\"Ratings\"] = ratings\n",
    "print(\"Missing Ratings:\", missing_ratings)"
   ]
  },
  {
   "cell_type": "code",
   "execution_count": 386,
   "metadata": {},
   "outputs": [
    {
     "name": "stdout",
     "output_type": "stream",
     "text": [
      "Missing Battery Capacity: 104\n"
     ]
    }
   ],
   "source": [
    "missing_power = 0\n",
    "powers = []\n",
    "for i in range(len(features)) :\n",
    "    if \"Battery Capacity\" in features.iloc[i].keys() :\n",
    "        powers.append(features.iloc[i][\"Battery Capacity\"])\n",
    "    else :\n",
    "        powers.append(\"\")\n",
    "        missing_power += 1\n",
    "new_banks[\"Battery Capacity\"] = powers\n",
    "print(\"Missing Battery Capacity:\", missing_power)"
   ]
  },
  {
   "cell_type": "code",
   "execution_count": 387,
   "metadata": {},
   "outputs": [],
   "source": [
    "new_banks = new_banks.drop(\"Product Features\", axis=1)"
   ]
  },
  {
   "cell_type": "code",
   "execution_count": 388,
   "metadata": {},
   "outputs": [
    {
     "data": {
      "text/html": [
       "<div>\n",
       "<style scoped>\n",
       "    .dataframe tbody tr th:only-of-type {\n",
       "        vertical-align: middle;\n",
       "    }\n",
       "\n",
       "    .dataframe tbody tr th {\n",
       "        vertical-align: top;\n",
       "    }\n",
       "\n",
       "    .dataframe thead th {\n",
       "        text-align: right;\n",
       "    }\n",
       "</style>\n",
       "<table border=\"1\" class=\"dataframe\">\n",
       "  <thead>\n",
       "    <tr style=\"text-align: right;\">\n",
       "      <th></th>\n",
       "      <th>Product Name</th>\n",
       "      <th>Product Price</th>\n",
       "      <th>product URL</th>\n",
       "      <th>Ratings</th>\n",
       "      <th>Total Reviews</th>\n",
       "      <th>Brand</th>\n",
       "      <th>Battery Capacity</th>\n",
       "    </tr>\n",
       "  </thead>\n",
       "  <tbody>\n",
       "    <tr>\n",
       "      <th>0</th>\n",
       "      <td>Portable Charger 26800mAh LCD Digital Display ...</td>\n",
       "      <td>19.08</td>\n",
       "      <td>https://www.amazon.com//gp/slredirect/picassoR...</td>\n",
       "      <td>4.6</td>\n",
       "      <td>2129.0</td>\n",
       "      <td>HHETP</td>\n",
       "      <td>26800 Milliamp Hours</td>\n",
       "    </tr>\n",
       "    <tr>\n",
       "      <th>1</th>\n",
       "      <td>Portable Charger Power Bank [25800mAh Newest V...</td>\n",
       "      <td>18.95</td>\n",
       "      <td>https://www.amazon.com//gp/slredirect/picassoR...</td>\n",
       "      <td>4.3</td>\n",
       "      <td>90.0</td>\n",
       "      <td>HHETP</td>\n",
       "      <td>26800 Milliamp Hours</td>\n",
       "    </tr>\n",
       "    <tr>\n",
       "      <th>2</th>\n",
       "      <td>Anker USB-C Portable Charger, 18W PowerCore Sl...</td>\n",
       "      <td>27.99</td>\n",
       "      <td>https://www.amazon.com//Anker-PowerCore-Portab...</td>\n",
       "      <td>4.6</td>\n",
       "      <td>5237.0</td>\n",
       "      <td></td>\n",
       "      <td></td>\n",
       "    </tr>\n",
       "    <tr>\n",
       "      <th>3</th>\n",
       "      <td>Anker Powerhouse 200, 213Wh/57600mAh Portable ...</td>\n",
       "      <td>259.99</td>\n",
       "      <td>https://www.amazon.com//Anker-Powerhouse-Recha...</td>\n",
       "      <td>4.5</td>\n",
       "      <td>363.0</td>\n",
       "      <td>Anker</td>\n",
       "      <td></td>\n",
       "    </tr>\n",
       "    <tr>\n",
       "      <th>4</th>\n",
       "      <td>Anker PowerCore III Sense 10K Sun-Kissed Coral...</td>\n",
       "      <td>49.99</td>\n",
       "      <td>https://www.amazon.com//Anker-PowerCore-Sun-Ki...</td>\n",
       "      <td>4.8</td>\n",
       "      <td>36.0</td>\n",
       "      <td>Anker</td>\n",
       "      <td>10000 Milliamp Hours</td>\n",
       "    </tr>\n",
       "  </tbody>\n",
       "</table>\n",
       "</div>"
      ],
      "text/plain": [
       "                                        Product Name  Product Price  \\\n",
       "0  Portable Charger 26800mAh LCD Digital Display ...          19.08   \n",
       "1  Portable Charger Power Bank [25800mAh Newest V...          18.95   \n",
       "2  Anker USB-C Portable Charger, 18W PowerCore Sl...          27.99   \n",
       "3  Anker Powerhouse 200, 213Wh/57600mAh Portable ...         259.99   \n",
       "4  Anker PowerCore III Sense 10K Sun-Kissed Coral...          49.99   \n",
       "\n",
       "                                         product URL Ratings  Total Reviews  \\\n",
       "0  https://www.amazon.com//gp/slredirect/picassoR...     4.6         2129.0   \n",
       "1  https://www.amazon.com//gp/slredirect/picassoR...     4.3           90.0   \n",
       "2  https://www.amazon.com//Anker-PowerCore-Portab...     4.6         5237.0   \n",
       "3  https://www.amazon.com//Anker-Powerhouse-Recha...     4.5          363.0   \n",
       "4  https://www.amazon.com//Anker-PowerCore-Sun-Ki...     4.8           36.0   \n",
       "\n",
       "   Brand      Battery Capacity  \n",
       "0  HHETP  26800 Milliamp Hours  \n",
       "1  HHETP  26800 Milliamp Hours  \n",
       "2                               \n",
       "3  Anker                        \n",
       "4  Anker  10000 Milliamp Hours  "
      ]
     },
     "execution_count": 388,
     "metadata": {},
     "output_type": "execute_result"
    }
   ],
   "source": [
    "new_banks.head()"
   ]
  },
  {
   "cell_type": "code",
   "execution_count": 389,
   "metadata": {},
   "outputs": [],
   "source": [
    "new_banks.to_csv(\"../ShortDatasets/PowerBanks.csv\")"
   ]
  },
  {
   "cell_type": "markdown",
   "metadata": {},
   "source": [
    "## Tablets "
   ]
  },
  {
   "cell_type": "code",
   "execution_count": 391,
   "metadata": {},
   "outputs": [],
   "source": [
    "tablets = pd.read_csv(\"TabletDataset.csv\")"
   ]
  },
  {
   "cell_type": "code",
   "execution_count": 392,
   "metadata": {},
   "outputs": [
    {
     "data": {
      "text/html": [
       "<div>\n",
       "<style scoped>\n",
       "    .dataframe tbody tr th:only-of-type {\n",
       "        vertical-align: middle;\n",
       "    }\n",
       "\n",
       "    .dataframe tbody tr th {\n",
       "        vertical-align: top;\n",
       "    }\n",
       "\n",
       "    .dataframe thead th {\n",
       "        text-align: right;\n",
       "    }\n",
       "</style>\n",
       "<table border=\"1\" class=\"dataframe\">\n",
       "  <thead>\n",
       "    <tr style=\"text-align: right;\">\n",
       "      <th></th>\n",
       "      <th>Category</th>\n",
       "      <th>Product Name</th>\n",
       "      <th>Product Price</th>\n",
       "      <th>product URL</th>\n",
       "      <th>Product Features</th>\n",
       "      <th>Ratings</th>\n",
       "      <th>Total Reviews</th>\n",
       "    </tr>\n",
       "  </thead>\n",
       "  <tbody>\n",
       "    <tr>\n",
       "      <th>0</th>\n",
       "      <td>Mobile</td>\n",
       "      <td>Samsung Galaxy Tab A7 10.4 Wi-Fi 32GB Silver (...</td>\n",
       "      <td>$229.99</td>\n",
       "      <td>https://www.amazon.com//gp/slredirect/picassoR...</td>\n",
       "      <td>{'Screen Size': '10.4 Inches', 'Brand': 'Samsu...</td>\n",
       "      <td>4.7 out of 5 stars</td>\n",
       "      <td>8389.0</td>\n",
       "    </tr>\n",
       "    <tr>\n",
       "      <th>1</th>\n",
       "      <td>Mobile</td>\n",
       "      <td>Samsung Galaxy Tab A 8.0\" (2019, WiFi Only) 32...</td>\n",
       "      <td>$122.89</td>\n",
       "      <td>https://www.amazon.com//Samsung-5100mAh-Batter...</td>\n",
       "      <td>{'Screen Size': '8 Inches', 'Brand': 'SAMSUNG'...</td>\n",
       "      <td>4.6 out of 5 stars</td>\n",
       "      <td>3860.0</td>\n",
       "    </tr>\n",
       "    <tr>\n",
       "      <th>2</th>\n",
       "      <td>Mobile</td>\n",
       "      <td>Samsung Galaxy Tab A 8.0”, Lightweight Android...</td>\n",
       "      <td>$199.99</td>\n",
       "      <td>https://www.amazon.com//Samsung-Lightweight-An...</td>\n",
       "      <td>{'Screen Size': '8 Inches', 'Brand': 'Samsung ...</td>\n",
       "      <td>4.6 out of 5 stars</td>\n",
       "      <td>10950.0</td>\n",
       "    </tr>\n",
       "    <tr>\n",
       "      <th>3</th>\n",
       "      <td>Mobile</td>\n",
       "      <td>Samsung Galaxy Tab S6 Lite 10.4\", 128GB WiFi T...</td>\n",
       "      <td>$388.73</td>\n",
       "      <td>https://www.amazon.com//Samsung-Galaxy-128GB-T...</td>\n",
       "      <td>{'Screen Size': '10.4', 'Brand': 'Samsung Elec...</td>\n",
       "      <td>4.8 out of 5 stars</td>\n",
       "      <td>481.0</td>\n",
       "    </tr>\n",
       "    <tr>\n",
       "      <th>4</th>\n",
       "      <td>Mobile</td>\n",
       "      <td>Samsung Galaxy Tab A 8.0\" (2019, WiFi + Cellul...</td>\n",
       "      <td>$142.99</td>\n",
       "      <td>https://www.amazon.com//Samsung-Cellular-Unloc...</td>\n",
       "      <td>{'Screen Size': '8 Inches', 'Brand': 'Samsung ...</td>\n",
       "      <td>4.4 out of 5 stars</td>\n",
       "      <td>1764.0</td>\n",
       "    </tr>\n",
       "  </tbody>\n",
       "</table>\n",
       "</div>"
      ],
      "text/plain": [
       "  Category                                       Product Name Product Price  \\\n",
       "0   Mobile  Samsung Galaxy Tab A7 10.4 Wi-Fi 32GB Silver (...       $229.99   \n",
       "1   Mobile  Samsung Galaxy Tab A 8.0\" (2019, WiFi Only) 32...       $122.89   \n",
       "2   Mobile  Samsung Galaxy Tab A 8.0”, Lightweight Android...       $199.99   \n",
       "3   Mobile  Samsung Galaxy Tab S6 Lite 10.4\", 128GB WiFi T...       $388.73   \n",
       "4   Mobile  Samsung Galaxy Tab A 8.0\" (2019, WiFi + Cellul...       $142.99   \n",
       "\n",
       "                                         product URL  \\\n",
       "0  https://www.amazon.com//gp/slredirect/picassoR...   \n",
       "1  https://www.amazon.com//Samsung-5100mAh-Batter...   \n",
       "2  https://www.amazon.com//Samsung-Lightweight-An...   \n",
       "3  https://www.amazon.com//Samsung-Galaxy-128GB-T...   \n",
       "4  https://www.amazon.com//Samsung-Cellular-Unloc...   \n",
       "\n",
       "                                    Product Features             Ratings  \\\n",
       "0  {'Screen Size': '10.4 Inches', 'Brand': 'Samsu...  4.7 out of 5 stars   \n",
       "1  {'Screen Size': '8 Inches', 'Brand': 'SAMSUNG'...  4.6 out of 5 stars   \n",
       "2  {'Screen Size': '8 Inches', 'Brand': 'Samsung ...  4.6 out of 5 stars   \n",
       "3  {'Screen Size': '10.4', 'Brand': 'Samsung Elec...  4.8 out of 5 stars   \n",
       "4  {'Screen Size': '8 Inches', 'Brand': 'Samsung ...  4.4 out of 5 stars   \n",
       "\n",
       "   Total Reviews  \n",
       "0         8389.0  \n",
       "1         3860.0  \n",
       "2        10950.0  \n",
       "3          481.0  \n",
       "4         1764.0  "
      ]
     },
     "execution_count": 392,
     "metadata": {},
     "output_type": "execute_result"
    }
   ],
   "source": [
    "tablets.head()"
   ]
  },
  {
   "cell_type": "code",
   "execution_count": 393,
   "metadata": {},
   "outputs": [],
   "source": [
    "new_tablets = tablets.drop(\"Category\", axis=1)"
   ]
  },
  {
   "cell_type": "code",
   "execution_count": 394,
   "metadata": {},
   "outputs": [],
   "source": [
    "prices = new_tablets[\"Product Price\"]\n",
    "prices = [prices[i].replace(\"$\", \"\") for i in range(len(prices))]\n",
    "prices = [prices[i].replace(\",\", \"\") for i in range(len(prices))]\n",
    "prices = [float(prices[i]) for i in range(len(prices))]\n",
    "new_tablets[\"Product Price\"] = prices"
   ]
  },
  {
   "cell_type": "code",
   "execution_count": 395,
   "metadata": {},
   "outputs": [
    {
     "name": "stderr",
     "output_type": "stream",
     "text": [
      "/home/intel123/anaconda3/lib/python3.7/site-packages/ipykernel_launcher.py:3: SettingWithCopyWarning: \n",
      "A value is trying to be set on a copy of a slice from a DataFrame\n",
      "\n",
      "See the caveats in the documentation: http://pandas.pydata.org/pandas-docs/stable/indexing.html#indexing-view-versus-copy\n",
      "  This is separate from the ipykernel package so we can avoid doing imports until\n",
      "/home/intel123/anaconda3/lib/python3.7/site-packages/ipykernel_launcher.py:4: SettingWithCopyWarning: \n",
      "A value is trying to be set on a copy of a slice from a DataFrame\n",
      "\n",
      "See the caveats in the documentation: http://pandas.pydata.org/pandas-docs/stable/indexing.html#indexing-view-versus-copy\n",
      "  after removing the cwd from sys.path.\n"
     ]
    }
   ],
   "source": [
    "features = new_tablets[\"Product Features\"]\n",
    "for i in range(len(features)) :\n",
    "    features[i] = features[i].replace(\"'\", '\"')\n",
    "    features[i] = json.loads(features[i])\n",
    "    new_tablets[\"Product Features\"] = features"
   ]
  },
  {
   "cell_type": "code",
   "execution_count": 396,
   "metadata": {},
   "outputs": [
    {
     "name": "stdout",
     "output_type": "stream",
     "text": [
      "Missing Brands: 35\n"
     ]
    }
   ],
   "source": [
    "brands = []\n",
    "missing_brands = 0\n",
    "for i in range(len(features)) :\n",
    "    if \"Brand\" in features.iloc[i].keys() :\n",
    "        brands.append(features.iloc[i][\"Brand\"])\n",
    "    else :\n",
    "        brands.append(\"\")\n",
    "        missing_brands += 1\n",
    "new_tablets[\"Brand\"] = brands\n",
    "print(\"Missing Brands:\", missing_brands)"
   ]
  },
  {
   "cell_type": "code",
   "execution_count": 397,
   "metadata": {},
   "outputs": [
    {
     "name": "stdout",
     "output_type": "stream",
     "text": [
      "Missing Ratings: 29\n"
     ]
    }
   ],
   "source": [
    "missing_ratings = 0\n",
    "ratings = []\n",
    "for i in range(len(features)) :\n",
    "    if \"Customer Reviews\" in features.iloc[i].keys() :\n",
    "        ratings.append(features.iloc[i][\"Customer Reviews\"].split('\\n')[0].split()[0])\n",
    "    else :\n",
    "        ratings.append(\"\")\n",
    "        missing_ratings += 1\n",
    "new_tablets[\"Ratings\"] = ratings\n",
    "print(\"Missing Ratings:\", missing_ratings)"
   ]
  },
  {
   "cell_type": "code",
   "execution_count": 398,
   "metadata": {},
   "outputs": [
    {
     "name": "stdout",
     "output_type": "stream",
     "text": [
      "Missing Memory Storage Capacity: 85\n"
     ]
    }
   ],
   "source": [
    "missing_mem = 0\n",
    "mem = []\n",
    "for i in range(len(features)) :\n",
    "    if \"Memory Storage Capacity\" in features.iloc[i].keys() :\n",
    "        mem.append(features.iloc[i][\"Memory Storage Capacity\"])\n",
    "    else :\n",
    "        mem.append(\"\")\n",
    "        missing_mem += 1\n",
    "new_tablets[\"Memory Storage Capacity\"] = mem\n",
    "print(\"Missing Memory Storage Capacity:\", missing_mem)"
   ]
  },
  {
   "cell_type": "code",
   "execution_count": 399,
   "metadata": {},
   "outputs": [
    {
     "name": "stdout",
     "output_type": "stream",
     "text": [
      "Missing Colors: 89\n"
     ]
    }
   ],
   "source": [
    "missing_colors = 0\n",
    "colours = []\n",
    "for i in range(len(features)) :\n",
    "    if \"Color\" in features.iloc[i].keys() :\n",
    "        colours.append(features.iloc[i][\"Color\"])\n",
    "    elif \"Colour\" in features.iloc[i].keys() :\n",
    "        colours.append(features.iloc[i][\"Colour\"])\n",
    "    else :\n",
    "        colours.append(\"\")\n",
    "        missing_colors += 1\n",
    "new_tablets[\"Color\"] = colours\n",
    "print(\"Missing Colors:\", missing_colors)"
   ]
  },
  {
   "cell_type": "code",
   "execution_count": 401,
   "metadata": {},
   "outputs": [],
   "source": [
    "new_tablets = new_tablets.drop(\"Product Features\", axis=1)"
   ]
  },
  {
   "cell_type": "code",
   "execution_count": 402,
   "metadata": {},
   "outputs": [
    {
     "data": {
      "text/html": [
       "<div>\n",
       "<style scoped>\n",
       "    .dataframe tbody tr th:only-of-type {\n",
       "        vertical-align: middle;\n",
       "    }\n",
       "\n",
       "    .dataframe tbody tr th {\n",
       "        vertical-align: top;\n",
       "    }\n",
       "\n",
       "    .dataframe thead th {\n",
       "        text-align: right;\n",
       "    }\n",
       "</style>\n",
       "<table border=\"1\" class=\"dataframe\">\n",
       "  <thead>\n",
       "    <tr style=\"text-align: right;\">\n",
       "      <th></th>\n",
       "      <th>Product Name</th>\n",
       "      <th>Product Price</th>\n",
       "      <th>product URL</th>\n",
       "      <th>Ratings</th>\n",
       "      <th>Total Reviews</th>\n",
       "      <th>Brand</th>\n",
       "      <th>Memory Storage Capacity</th>\n",
       "      <th>Color</th>\n",
       "    </tr>\n",
       "  </thead>\n",
       "  <tbody>\n",
       "    <tr>\n",
       "      <th>0</th>\n",
       "      <td>Samsung Galaxy Tab A7 10.4 Wi-Fi 32GB Silver (...</td>\n",
       "      <td>229.99</td>\n",
       "      <td>https://www.amazon.com//gp/slredirect/picassoR...</td>\n",
       "      <td>4.7</td>\n",
       "      <td>8389.0</td>\n",
       "      <td>Samsung Electronics</td>\n",
       "      <td>32 GB</td>\n",
       "      <td></td>\n",
       "    </tr>\n",
       "    <tr>\n",
       "      <th>1</th>\n",
       "      <td>Samsung Galaxy Tab A 8.0\" (2019, WiFi Only) 32...</td>\n",
       "      <td>122.89</td>\n",
       "      <td>https://www.amazon.com//Samsung-5100mAh-Batter...</td>\n",
       "      <td>4.6</td>\n",
       "      <td>3860.0</td>\n",
       "      <td>SAMSUNG</td>\n",
       "      <td>32 GB</td>\n",
       "      <td></td>\n",
       "    </tr>\n",
       "    <tr>\n",
       "      <th>2</th>\n",
       "      <td>Samsung Galaxy Tab A 8.0”, Lightweight Android...</td>\n",
       "      <td>199.99</td>\n",
       "      <td>https://www.amazon.com//Samsung-Lightweight-An...</td>\n",
       "      <td>4.6</td>\n",
       "      <td>10950.0</td>\n",
       "      <td>Samsung Electronics</td>\n",
       "      <td>64 GB</td>\n",
       "      <td></td>\n",
       "    </tr>\n",
       "    <tr>\n",
       "      <th>3</th>\n",
       "      <td>Samsung Galaxy Tab S6 Lite 10.4\", 128GB WiFi T...</td>\n",
       "      <td>388.73</td>\n",
       "      <td>https://www.amazon.com//Samsung-Galaxy-128GB-T...</td>\n",
       "      <td>4.8</td>\n",
       "      <td>481.0</td>\n",
       "      <td>Samsung Electronics</td>\n",
       "      <td>128 GB</td>\n",
       "      <td></td>\n",
       "    </tr>\n",
       "    <tr>\n",
       "      <th>4</th>\n",
       "      <td>Samsung Galaxy Tab A 8.0\" (2019, WiFi + Cellul...</td>\n",
       "      <td>142.99</td>\n",
       "      <td>https://www.amazon.com//Samsung-Cellular-Unloc...</td>\n",
       "      <td>4.4</td>\n",
       "      <td>1764.0</td>\n",
       "      <td>Samsung Electronics</td>\n",
       "      <td>32 GB</td>\n",
       "      <td></td>\n",
       "    </tr>\n",
       "  </tbody>\n",
       "</table>\n",
       "</div>"
      ],
      "text/plain": [
       "                                        Product Name  Product Price  \\\n",
       "0  Samsung Galaxy Tab A7 10.4 Wi-Fi 32GB Silver (...         229.99   \n",
       "1  Samsung Galaxy Tab A 8.0\" (2019, WiFi Only) 32...         122.89   \n",
       "2  Samsung Galaxy Tab A 8.0”, Lightweight Android...         199.99   \n",
       "3  Samsung Galaxy Tab S6 Lite 10.4\", 128GB WiFi T...         388.73   \n",
       "4  Samsung Galaxy Tab A 8.0\" (2019, WiFi + Cellul...         142.99   \n",
       "\n",
       "                                         product URL Ratings  Total Reviews  \\\n",
       "0  https://www.amazon.com//gp/slredirect/picassoR...     4.7         8389.0   \n",
       "1  https://www.amazon.com//Samsung-5100mAh-Batter...     4.6         3860.0   \n",
       "2  https://www.amazon.com//Samsung-Lightweight-An...     4.6        10950.0   \n",
       "3  https://www.amazon.com//Samsung-Galaxy-128GB-T...     4.8          481.0   \n",
       "4  https://www.amazon.com//Samsung-Cellular-Unloc...     4.4         1764.0   \n",
       "\n",
       "                 Brand Memory Storage Capacity Color  \n",
       "0  Samsung Electronics                   32 GB        \n",
       "1              SAMSUNG                   32 GB        \n",
       "2  Samsung Electronics                   64 GB        \n",
       "3  Samsung Electronics                  128 GB        \n",
       "4  Samsung Electronics                   32 GB        "
      ]
     },
     "execution_count": 402,
     "metadata": {},
     "output_type": "execute_result"
    }
   ],
   "source": [
    "new_tablets.head()"
   ]
  },
  {
   "cell_type": "code",
   "execution_count": 404,
   "metadata": {},
   "outputs": [],
   "source": [
    "new_tablets.to_csv(\"../ShortDatasets/Tablets.csv\")"
   ]
  },
  {
   "cell_type": "markdown",
   "metadata": {},
   "source": [
    "## Smart Watches "
   ]
  },
  {
   "cell_type": "code",
   "execution_count": 447,
   "metadata": {},
   "outputs": [],
   "source": [
    "watches = pd.read_csv(\"SmartWatches.csv\")"
   ]
  },
  {
   "cell_type": "code",
   "execution_count": 448,
   "metadata": {},
   "outputs": [
    {
     "data": {
      "text/html": [
       "<div>\n",
       "<style scoped>\n",
       "    .dataframe tbody tr th:only-of-type {\n",
       "        vertical-align: middle;\n",
       "    }\n",
       "\n",
       "    .dataframe tbody tr th {\n",
       "        vertical-align: top;\n",
       "    }\n",
       "\n",
       "    .dataframe thead th {\n",
       "        text-align: right;\n",
       "    }\n",
       "</style>\n",
       "<table border=\"1\" class=\"dataframe\">\n",
       "  <thead>\n",
       "    <tr style=\"text-align: right;\">\n",
       "      <th></th>\n",
       "      <th>Category</th>\n",
       "      <th>Product Name</th>\n",
       "      <th>Product Price</th>\n",
       "      <th>product URL</th>\n",
       "      <th>Product Features</th>\n",
       "      <th>Ratings</th>\n",
       "      <th>Total Reviews</th>\n",
       "    </tr>\n",
       "  </thead>\n",
       "  <tbody>\n",
       "    <tr>\n",
       "      <th>0</th>\n",
       "      <td>Mobile</td>\n",
       "      <td>Willful Smart Watch for Android Phones and iOS...</td>\n",
       "      <td>$35.99</td>\n",
       "      <td>https://www.amazon.com//gp/slredirect/picassoR...</td>\n",
       "      <td>{'Supported Application': 'Fitness Tracker, Sl...</td>\n",
       "      <td>4.3 out of 5 stars</td>\n",
       "      <td>47337.0</td>\n",
       "    </tr>\n",
       "    <tr>\n",
       "      <th>1</th>\n",
       "      <td>Mobile</td>\n",
       "      <td>Willful Smart Watch for Men Women IP68 Waterpr...</td>\n",
       "      <td>$29.99</td>\n",
       "      <td>https://www.amazon.com//gp/slredirect/picassoR...</td>\n",
       "      <td>{'Supported Application': 'Fitness Tracker, He...</td>\n",
       "      <td>4.2 out of 5 stars</td>\n",
       "      <td>8611.0</td>\n",
       "    </tr>\n",
       "    <tr>\n",
       "      <th>2</th>\n",
       "      <td>Mobile</td>\n",
       "      <td>Willful Smart Watch, Watches for Men Women IP6...</td>\n",
       "      <td>$31.99</td>\n",
       "      <td>https://www.amazon.com//Willful-Smartwatch-Ped...</td>\n",
       "      <td>{'Supported Application': 'Fitness Tracker, Sl...</td>\n",
       "      <td>4.5 out of 5 stars</td>\n",
       "      <td>3451.0</td>\n",
       "    </tr>\n",
       "    <tr>\n",
       "      <th>3</th>\n",
       "      <td>Mobile</td>\n",
       "      <td>Willful Smart Watch for Android Phones Compati...</td>\n",
       "      <td>$39.99</td>\n",
       "      <td>https://www.amazon.com//Willful-Compatible-Swi...</td>\n",
       "      <td>{'Supported Application': 'Fitness Tracker, Sl...</td>\n",
       "      <td>4.2 out of 5 stars</td>\n",
       "      <td>5249.0</td>\n",
       "    </tr>\n",
       "    <tr>\n",
       "      <th>4</th>\n",
       "      <td>Mobile</td>\n",
       "      <td>Willful Smart Watch for Android Phones Compati...</td>\n",
       "      <td>$39.99</td>\n",
       "      <td>https://www.amazon.com//gp/slredirect/picassoR...</td>\n",
       "      <td>{'Supported Application': 'Fitness Tracker, Sl...</td>\n",
       "      <td>4.2 out of 5 stars</td>\n",
       "      <td>5249.0</td>\n",
       "    </tr>\n",
       "  </tbody>\n",
       "</table>\n",
       "</div>"
      ],
      "text/plain": [
       "  Category                                       Product Name Product Price  \\\n",
       "0   Mobile  Willful Smart Watch for Android Phones and iOS...        $35.99   \n",
       "1   Mobile  Willful Smart Watch for Men Women IP68 Waterpr...        $29.99   \n",
       "2   Mobile  Willful Smart Watch, Watches for Men Women IP6...        $31.99   \n",
       "3   Mobile  Willful Smart Watch for Android Phones Compati...        $39.99   \n",
       "4   Mobile  Willful Smart Watch for Android Phones Compati...        $39.99   \n",
       "\n",
       "                                         product URL  \\\n",
       "0  https://www.amazon.com//gp/slredirect/picassoR...   \n",
       "1  https://www.amazon.com//gp/slredirect/picassoR...   \n",
       "2  https://www.amazon.com//Willful-Smartwatch-Ped...   \n",
       "3  https://www.amazon.com//Willful-Compatible-Swi...   \n",
       "4  https://www.amazon.com//gp/slredirect/picassoR...   \n",
       "\n",
       "                                    Product Features             Ratings  \\\n",
       "0  {'Supported Application': 'Fitness Tracker, Sl...  4.3 out of 5 stars   \n",
       "1  {'Supported Application': 'Fitness Tracker, He...  4.2 out of 5 stars   \n",
       "2  {'Supported Application': 'Fitness Tracker, Sl...  4.5 out of 5 stars   \n",
       "3  {'Supported Application': 'Fitness Tracker, Sl...  4.2 out of 5 stars   \n",
       "4  {'Supported Application': 'Fitness Tracker, Sl...  4.2 out of 5 stars   \n",
       "\n",
       "   Total Reviews  \n",
       "0        47337.0  \n",
       "1         8611.0  \n",
       "2         3451.0  \n",
       "3         5249.0  \n",
       "4         5249.0  "
      ]
     },
     "execution_count": 448,
     "metadata": {},
     "output_type": "execute_result"
    }
   ],
   "source": [
    "watches.head()"
   ]
  },
  {
   "cell_type": "code",
   "execution_count": 449,
   "metadata": {},
   "outputs": [],
   "source": [
    "new_watches = watches.drop(\"Category\", axis=1)"
   ]
  },
  {
   "cell_type": "code",
   "execution_count": 450,
   "metadata": {},
   "outputs": [],
   "source": [
    "prices = new_watches[\"Product Price\"]\n",
    "prices = [prices[i].replace(\"$\", \"\") for i in range(len(prices))]\n",
    "prices = [prices[i].replace(\",\", \"\") for i in range(len(prices))]\n",
    "prices = [float(prices[i]) for i in range(len(prices))]\n",
    "new_watches[\"Product Price\"] = prices"
   ]
  },
  {
   "cell_type": "code",
   "execution_count": 451,
   "metadata": {},
   "outputs": [
    {
     "name": "stderr",
     "output_type": "stream",
     "text": [
      "/home/intel123/anaconda3/lib/python3.7/site-packages/ipykernel_launcher.py:3: SettingWithCopyWarning: \n",
      "A value is trying to be set on a copy of a slice from a DataFrame\n",
      "\n",
      "See the caveats in the documentation: http://pandas.pydata.org/pandas-docs/stable/indexing.html#indexing-view-versus-copy\n",
      "  This is separate from the ipykernel package so we can avoid doing imports until\n",
      "/home/intel123/anaconda3/lib/python3.7/site-packages/ipykernel_launcher.py:4: SettingWithCopyWarning: \n",
      "A value is trying to be set on a copy of a slice from a DataFrame\n",
      "\n",
      "See the caveats in the documentation: http://pandas.pydata.org/pandas-docs/stable/indexing.html#indexing-view-versus-copy\n",
      "  after removing the cwd from sys.path.\n"
     ]
    }
   ],
   "source": [
    "features = new_watches[\"Product Features\"]\n",
    "for i in range(len(features)) :\n",
    "    features[i] = features[i].replace(\"'\", '\"')\n",
    "    features[i] = json.loads(features[i])\n",
    "    new_watches[\"Product Features\"] = features"
   ]
  },
  {
   "cell_type": "code",
   "execution_count": 452,
   "metadata": {},
   "outputs": [
    {
     "name": "stdout",
     "output_type": "stream",
     "text": [
      "Missing Brands: 32\n"
     ]
    }
   ],
   "source": [
    "brands = []\n",
    "missing_brands = 0\n",
    "for i in range(len(features)) :\n",
    "    if \"Brand\" in features.iloc[i].keys() :\n",
    "        brands.append(features.iloc[i][\"Brand\"])\n",
    "    else :\n",
    "        brands.append(\"\")\n",
    "        missing_brands += 1\n",
    "new_watches[\"Brand\"] = brands\n",
    "print(\"Missing Brands:\", missing_brands)"
   ]
  },
  {
   "cell_type": "code",
   "execution_count": 454,
   "metadata": {},
   "outputs": [
    {
     "name": "stdout",
     "output_type": "stream",
     "text": [
      "Missing Apps: 73\n"
     ]
    }
   ],
   "source": [
    "apps = []\n",
    "missing_apps = 0\n",
    "for i in range(len(features)) :\n",
    "    if \"Supported Application\" in features.iloc[i].keys() :\n",
    "        apps.append(features.iloc[i][\"Supported Application\"])\n",
    "    else :\n",
    "        apps.append(\"\")\n",
    "        missing_apps += 1\n",
    "new_watches[\"Apps\"] = apps\n",
    "print(\"Missing Apps:\", missing_apps)"
   ]
  },
  {
   "cell_type": "code",
   "execution_count": 456,
   "metadata": {},
   "outputs": [
    {
     "name": "stdout",
     "output_type": "stream",
     "text": [
      "Missing Colors: 15\n"
     ]
    }
   ],
   "source": [
    "missing_colors = 0\n",
    "colours = []\n",
    "for i in range(len(features)) :\n",
    "    if \"Color\" in features.iloc[i].keys() :\n",
    "        colours.append(features.iloc[i][\"Color\"])\n",
    "    elif \"Colour\" in features.iloc[i].keys() :\n",
    "        colours.append(features.iloc[i][\"Colour\"])\n",
    "    else :\n",
    "        colours.append(\"\")\n",
    "        missing_colors += 1\n",
    "new_watches[\"Color\"] = colours\n",
    "print(\"Missing Colors:\", missing_colors)"
   ]
  },
  {
   "cell_type": "code",
   "execution_count": 457,
   "metadata": {},
   "outputs": [
    {
     "name": "stdout",
     "output_type": "stream",
     "text": [
      "Missing Ratings: 47\n"
     ]
    }
   ],
   "source": [
    "missing_ratings = 0\n",
    "ratings = []\n",
    "for i in range(len(features)) :\n",
    "    if \"Customer Reviews\" in features.iloc[i].keys() :\n",
    "        ratings.append(features.iloc[i][\"Customer Reviews\"].split('\\n')[0].split()[0])\n",
    "    else :\n",
    "        ratings.append(\"\")\n",
    "        missing_ratings += 1\n",
    "new_watches[\"Ratings\"] = ratings\n",
    "print(\"Missing Ratings:\", missing_ratings)"
   ]
  },
  {
   "cell_type": "code",
   "execution_count": 458,
   "metadata": {},
   "outputs": [],
   "source": [
    "new_watches = new_watches.drop(\"Product Features\", axis=1)"
   ]
  },
  {
   "cell_type": "code",
   "execution_count": 459,
   "metadata": {},
   "outputs": [
    {
     "data": {
      "text/html": [
       "<div>\n",
       "<style scoped>\n",
       "    .dataframe tbody tr th:only-of-type {\n",
       "        vertical-align: middle;\n",
       "    }\n",
       "\n",
       "    .dataframe tbody tr th {\n",
       "        vertical-align: top;\n",
       "    }\n",
       "\n",
       "    .dataframe thead th {\n",
       "        text-align: right;\n",
       "    }\n",
       "</style>\n",
       "<table border=\"1\" class=\"dataframe\">\n",
       "  <thead>\n",
       "    <tr style=\"text-align: right;\">\n",
       "      <th></th>\n",
       "      <th>Product Name</th>\n",
       "      <th>Product Price</th>\n",
       "      <th>product URL</th>\n",
       "      <th>Ratings</th>\n",
       "      <th>Total Reviews</th>\n",
       "      <th>Brand</th>\n",
       "      <th>Apps</th>\n",
       "      <th>Color</th>\n",
       "    </tr>\n",
       "  </thead>\n",
       "  <tbody>\n",
       "    <tr>\n",
       "      <th>0</th>\n",
       "      <td>Willful Smart Watch for Android Phones and iOS...</td>\n",
       "      <td>35.99</td>\n",
       "      <td>https://www.amazon.com//gp/slredirect/picassoR...</td>\n",
       "      <td>4.3</td>\n",
       "      <td>47337.0</td>\n",
       "      <td>Willful</td>\n",
       "      <td>Fitness Tracker, Sleep Monitor, Find My Phone,...</td>\n",
       "      <td>Black</td>\n",
       "    </tr>\n",
       "    <tr>\n",
       "      <th>1</th>\n",
       "      <td>Willful Smart Watch for Men Women IP68 Waterpr...</td>\n",
       "      <td>29.99</td>\n",
       "      <td>https://www.amazon.com//gp/slredirect/picassoR...</td>\n",
       "      <td></td>\n",
       "      <td>8611.0</td>\n",
       "      <td>Willful</td>\n",
       "      <td>Fitness Tracker, Heart Rate Monitor</td>\n",
       "      <td>Black</td>\n",
       "    </tr>\n",
       "    <tr>\n",
       "      <th>2</th>\n",
       "      <td>Willful Smart Watch, Watches for Men Women IP6...</td>\n",
       "      <td>31.99</td>\n",
       "      <td>https://www.amazon.com//Willful-Smartwatch-Ped...</td>\n",
       "      <td></td>\n",
       "      <td>3451.0</td>\n",
       "      <td>Willful</td>\n",
       "      <td>Fitness Tracker, Sleep Monitor, Messages, Phon...</td>\n",
       "      <td>Pink</td>\n",
       "    </tr>\n",
       "    <tr>\n",
       "      <th>3</th>\n",
       "      <td>Willful Smart Watch for Android Phones Compati...</td>\n",
       "      <td>39.99</td>\n",
       "      <td>https://www.amazon.com//Willful-Compatible-Swi...</td>\n",
       "      <td>4.2</td>\n",
       "      <td>5249.0</td>\n",
       "      <td>Willful</td>\n",
       "      <td>Fitness Tracker, Sleep Monitor, Email, Message...</td>\n",
       "      <td>Pink</td>\n",
       "    </tr>\n",
       "    <tr>\n",
       "      <th>4</th>\n",
       "      <td>Willful Smart Watch for Android Phones Compati...</td>\n",
       "      <td>39.99</td>\n",
       "      <td>https://www.amazon.com//gp/slredirect/picassoR...</td>\n",
       "      <td>4.2</td>\n",
       "      <td>5249.0</td>\n",
       "      <td>Willful</td>\n",
       "      <td>Fitness Tracker, Sleep Monitor, Email, Message...</td>\n",
       "      <td>Purple</td>\n",
       "    </tr>\n",
       "  </tbody>\n",
       "</table>\n",
       "</div>"
      ],
      "text/plain": [
       "                                        Product Name  Product Price  \\\n",
       "0  Willful Smart Watch for Android Phones and iOS...          35.99   \n",
       "1  Willful Smart Watch for Men Women IP68 Waterpr...          29.99   \n",
       "2  Willful Smart Watch, Watches for Men Women IP6...          31.99   \n",
       "3  Willful Smart Watch for Android Phones Compati...          39.99   \n",
       "4  Willful Smart Watch for Android Phones Compati...          39.99   \n",
       "\n",
       "                                         product URL Ratings  Total Reviews  \\\n",
       "0  https://www.amazon.com//gp/slredirect/picassoR...     4.3        47337.0   \n",
       "1  https://www.amazon.com//gp/slredirect/picassoR...                 8611.0   \n",
       "2  https://www.amazon.com//Willful-Smartwatch-Ped...                 3451.0   \n",
       "3  https://www.amazon.com//Willful-Compatible-Swi...     4.2         5249.0   \n",
       "4  https://www.amazon.com//gp/slredirect/picassoR...     4.2         5249.0   \n",
       "\n",
       "     Brand                                               Apps   Color  \n",
       "0  Willful  Fitness Tracker, Sleep Monitor, Find My Phone,...   Black  \n",
       "1  Willful                Fitness Tracker, Heart Rate Monitor   Black  \n",
       "2  Willful  Fitness Tracker, Sleep Monitor, Messages, Phon...    Pink  \n",
       "3  Willful  Fitness Tracker, Sleep Monitor, Email, Message...    Pink  \n",
       "4  Willful  Fitness Tracker, Sleep Monitor, Email, Message...  Purple  "
      ]
     },
     "execution_count": 459,
     "metadata": {},
     "output_type": "execute_result"
    }
   ],
   "source": [
    "new_watches.head()"
   ]
  },
  {
   "cell_type": "code",
   "execution_count": 461,
   "metadata": {},
   "outputs": [],
   "source": [
    "new_watches.to_csv(\"../ShortDatasets/SmartWatches.csv\")"
   ]
  },
  {
   "cell_type": "code",
   "execution_count": null,
   "metadata": {},
   "outputs": [],
   "source": []
  }
 ],
 "metadata": {
  "kernelspec": {
   "display_name": "Python 3",
   "language": "python",
   "name": "python3"
  },
  "language_info": {
   "codemirror_mode": {
    "name": "ipython",
    "version": 3
   },
   "file_extension": ".py",
   "mimetype": "text/x-python",
   "name": "python",
   "nbconvert_exporter": "python",
   "pygments_lexer": "ipython3",
   "version": "3.7.3"
  }
 },
 "nbformat": 4,
 "nbformat_minor": 2
}
