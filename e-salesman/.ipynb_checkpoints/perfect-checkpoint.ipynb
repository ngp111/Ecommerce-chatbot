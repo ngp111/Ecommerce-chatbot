{
 "cells": [
  {
   "cell_type": "code",
   "execution_count": 5,
   "metadata": {},
   "outputs": [],
   "source": [
    "import csv\n",
    "import json\n",
    "from bs4 import BeautifulSoup\n",
    "from selenium import webdriver\n",
    "driver=webdriver.Chrome()\n",
    "def get_url(search_term):\n",
    "    template='https://www.amazon.com/s?k={}&ref=nb_sb_ss_ts-doa-p_1_7'\n",
    "    search_term=search_term.replace(' ','+')\n",
    "    url=template.format(search_term)\n",
    "    url+='&page{}'\n",
    "    return url\n",
    "def extract_record(item):\n",
    "    #descrition and url\n",
    "    Category='Mobile'\n",
    "    atag=item.h2.a\n",
    "    Product_name=atag.text.strip()\n",
    "    url='https://www.amazon.com/'+ atag.get('href')\n",
    "    #price\n",
    "    try:\n",
    "        price_parent=item.find('span','a-price')\n",
    "        price=price_parent.find('span','a-offscreen').text\n",
    "    except AttributeError:\n",
    "        return\n",
    "    \n",
    "    #rating \n",
    "    try:\n",
    "        rating=item.i.text\n",
    "        review_count=item.find('span',{'class':'a-size-base','dir':'auto'}).text\n",
    "    except AttributeError:\n",
    "        rating=''\n",
    "        review_count=''\n",
    "    #features\n",
    "    features = {}\n",
    "    driver.get(url)\n",
    "    source = driver.page_source\n",
    "    soup = BeautifulSoup(source,'lxml')\n",
    "    try:\n",
    "        table = soup.find('table',{'class':'a-normal a-spacing-micro'})\n",
    "        for row in table.find_all('tr') :\n",
    "            feature, value = row.find_all('td')\n",
    "            features[feature.text.strip()] = value.text.strip()\n",
    "    except AttributeError:\n",
    "        print(\"no table1 avaiable\")\n",
    "    try:\n",
    "        table = soup.find('table',{'id':'productDetails_detailBullets_sections1'})\n",
    "        for row in table.find_all('tr') :\n",
    "            feature = row.find('th',{'class':'a-color-secondary a-size-base prodDetSectionEntry'}).text.strip()\n",
    "            value = row.find('td').text.strip()\n",
    "            features[feature] = value\n",
    "    except AttributeError:\n",
    "        print(\"no table2 avaiable\")\n",
    "    result=(Category,Product_name,price,url,features,rating,review_count)\n",
    "    return result\n",
    "\n",
    "def main(search_term):\n",
    "    records=[]\n",
    "    url=get_url(search_term)\n",
    "    for page in range(1,5):\n",
    "        driver.get(url.format(page))\n",
    "        soup=BeautifulSoup(driver.page_source,'html.parser')\n",
    "        results=soup.find_all('div',{'data-component-type':'s-search-result'})\n",
    "        print(len(results))\n",
    "        for item in results:\n",
    "            record=extract_record(item)\n",
    "            if record:\n",
    "                records.append(record)\n",
    "    driver.close()\n",
    "    with open('riya2.csv','w',newline='',encoding='utf-8') as f:\n",
    "        writer=csv.writer(f)\n",
    "        writer.writerow({'Category','Product Name','Product Price','product URL','Product Features','Ratings','Total Reviews'})\n",
    "        writer.writerows(records)\n",
    "        "
   ]
  },
  {
   "cell_type": "code",
   "execution_count": null,
   "metadata": {},
   "outputs": [
    {
     "name": "stdout",
     "output_type": "stream",
     "text": [
      "21\n",
      "no table1 avaiable\n"
     ]
    }
   ],
   "source": [
    "main('oppo phones')"
   ]
  },
  {
   "cell_type": "code",
   "execution_count": null,
   "metadata": {},
   "outputs": [],
   "source": []
  },
  {
   "cell_type": "code",
   "execution_count": null,
   "metadata": {},
   "outputs": [],
   "source": []
  }
 ],
 "metadata": {
  "kernelspec": {
   "display_name": "Python 3",
   "language": "python",
   "name": "python3"
  },
  "language_info": {
   "codemirror_mode": {
    "name": "ipython",
    "version": 3
   },
   "file_extension": ".py",
   "mimetype": "text/x-python",
   "name": "python",
   "nbconvert_exporter": "python",
   "pygments_lexer": "ipython3",
   "version": "3.7.3"
  }
 },
 "nbformat": 4,
 "nbformat_minor": 4
}
