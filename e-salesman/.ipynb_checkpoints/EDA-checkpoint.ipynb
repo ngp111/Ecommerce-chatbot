{
 "cells": [
  {
   "cell_type": "code",
   "execution_count": 1,
   "metadata": {},
   "outputs": [],
   "source": [
    "import pandas as pd\n",
    "import json"
   ]
  },
  {
   "cell_type": "markdown",
   "metadata": {},
   "source": [
    "## Mobiles "
   ]
  },
  {
   "cell_type": "code",
   "execution_count": 58,
   "metadata": {},
   "outputs": [],
   "source": [
    "mobiles = pd.read_csv(\"Mobiles.csv\")"
   ]
  },
  {
   "cell_type": "code",
   "execution_count": 59,
   "metadata": {},
   "outputs": [
    {
     "data": {
      "text/plain": [
       "Index(['Category', 'Price', 'Product Ratings', 'Product URL',\n",
       "       'Product features', 'Product name', 'Total reviews'],\n",
       "      dtype='object')"
      ]
     },
     "execution_count": 59,
     "metadata": {},
     "output_type": "execute_result"
    }
   ],
   "source": [
    "mobiles.columns"
   ]
  },
  {
   "cell_type": "code",
   "execution_count": 60,
   "metadata": {},
   "outputs": [
    {
     "data": {
      "text/plain": [
       "489"
      ]
     },
     "execution_count": 60,
     "metadata": {},
     "output_type": "execute_result"
    }
   ],
   "source": [
    "len(mobiles)"
   ]
  },
  {
   "cell_type": "code",
   "execution_count": 61,
   "metadata": {},
   "outputs": [
    {
     "data": {
      "text/html": [
       "<div>\n",
       "<style scoped>\n",
       "    .dataframe tbody tr th:only-of-type {\n",
       "        vertical-align: middle;\n",
       "    }\n",
       "\n",
       "    .dataframe tbody tr th {\n",
       "        vertical-align: top;\n",
       "    }\n",
       "\n",
       "    .dataframe thead th {\n",
       "        text-align: right;\n",
       "    }\n",
       "</style>\n",
       "<table border=\"1\" class=\"dataframe\">\n",
       "  <thead>\n",
       "    <tr style=\"text-align: right;\">\n",
       "      <th></th>\n",
       "      <th>Category</th>\n",
       "      <th>Price</th>\n",
       "      <th>Product Ratings</th>\n",
       "      <th>Product URL</th>\n",
       "      <th>Product features</th>\n",
       "      <th>Product name</th>\n",
       "      <th>Total reviews</th>\n",
       "    </tr>\n",
       "  </thead>\n",
       "  <tbody>\n",
       "    <tr>\n",
       "      <th>0</th>\n",
       "      <td>Mobile</td>\n",
       "      <td>519.99</td>\n",
       "      <td>4.7 out of 5 stars</td>\n",
       "      <td>https://www.amazon.com//gp/slredirect/picassoR...</td>\n",
       "      <td>{'Wireless Carrier': 'T-Mobile', 'Brand': 'One...</td>\n",
       "      <td>OnePlus 8 5G UW (128GB, 8GB) 6.55\" 90Hz AMOLED...</td>\n",
       "      <td>9.0</td>\n",
       "    </tr>\n",
       "    <tr>\n",
       "      <th>1</th>\n",
       "      <td>Mobile</td>\n",
       "      <td>599.24</td>\n",
       "      <td>4.4 out of 5 stars</td>\n",
       "      <td>https://www.amazon.com//OnePlus-Unlocked-Andro...</td>\n",
       "      <td>{'Wireless Carrier': 'Unlocked for All Carrier...</td>\n",
       "      <td>OnePlus 8T Lunar Silver, 5G Unlocked Android S...</td>\n",
       "      <td>377.0</td>\n",
       "    </tr>\n",
       "    <tr>\n",
       "      <th>2</th>\n",
       "      <td>Mobile</td>\n",
       "      <td>299.99</td>\n",
       "      <td>4.1 out of 5 stars</td>\n",
       "      <td>https://www.amazon.com//OnePlus-Unlocked-Smart...</td>\n",
       "      <td>{'Wireless Carrier': 'Unlocked for All Carrier...</td>\n",
       "      <td>OnePlus Nord N10 5G Unlocked Smartphone, Midni...</td>\n",
       "      <td>114.0</td>\n",
       "    </tr>\n",
       "    <tr>\n",
       "      <th>3</th>\n",
       "      <td>Mobile</td>\n",
       "      <td>324.90</td>\n",
       "      <td>4.3 out of 5 stars</td>\n",
       "      <td>https://www.amazon.com//OnePlus-Nord-N10-5G-In...</td>\n",
       "      <td>{'Wireless Carrier': 'Unlocked for All Carrier...</td>\n",
       "      <td>OnePlus Nord N10 5G (128GB, 6GB) 6.49\", 90Hz R...</td>\n",
       "      <td>40.0</td>\n",
       "    </tr>\n",
       "    <tr>\n",
       "      <th>4</th>\n",
       "      <td>Mobile</td>\n",
       "      <td>519.99</td>\n",
       "      <td>4.3 out of 5 stars</td>\n",
       "      <td>https://www.amazon.com//OnePlus-5G-UW-Snapdrag...</td>\n",
       "      <td>{'Wireless Carrier': 'T-Mobile', 'Brand': 'One...</td>\n",
       "      <td>OnePlus 8 5G UW (128GB, 8GB) 6.55\" 90Hz AMOLED...</td>\n",
       "      <td>10.0</td>\n",
       "    </tr>\n",
       "  </tbody>\n",
       "</table>\n",
       "</div>"
      ],
      "text/plain": [
       "  Category   Price     Product Ratings  \\\n",
       "0   Mobile  519.99  4.7 out of 5 stars   \n",
       "1   Mobile  599.24  4.4 out of 5 stars   \n",
       "2   Mobile  299.99  4.1 out of 5 stars   \n",
       "3   Mobile  324.90  4.3 out of 5 stars   \n",
       "4   Mobile  519.99  4.3 out of 5 stars   \n",
       "\n",
       "                                         Product URL  \\\n",
       "0  https://www.amazon.com//gp/slredirect/picassoR...   \n",
       "1  https://www.amazon.com//OnePlus-Unlocked-Andro...   \n",
       "2  https://www.amazon.com//OnePlus-Unlocked-Smart...   \n",
       "3  https://www.amazon.com//OnePlus-Nord-N10-5G-In...   \n",
       "4  https://www.amazon.com//OnePlus-5G-UW-Snapdrag...   \n",
       "\n",
       "                                    Product features  \\\n",
       "0  {'Wireless Carrier': 'T-Mobile', 'Brand': 'One...   \n",
       "1  {'Wireless Carrier': 'Unlocked for All Carrier...   \n",
       "2  {'Wireless Carrier': 'Unlocked for All Carrier...   \n",
       "3  {'Wireless Carrier': 'Unlocked for All Carrier...   \n",
       "4  {'Wireless Carrier': 'T-Mobile', 'Brand': 'One...   \n",
       "\n",
       "                                        Product name  Total reviews  \n",
       "0  OnePlus 8 5G UW (128GB, 8GB) 6.55\" 90Hz AMOLED...            9.0  \n",
       "1  OnePlus 8T Lunar Silver, 5G Unlocked Android S...          377.0  \n",
       "2  OnePlus Nord N10 5G Unlocked Smartphone, Midni...          114.0  \n",
       "3  OnePlus Nord N10 5G (128GB, 6GB) 6.49\", 90Hz R...           40.0  \n",
       "4  OnePlus 8 5G UW (128GB, 8GB) 6.55\" 90Hz AMOLED...           10.0  "
      ]
     },
     "execution_count": 61,
     "metadata": {},
     "output_type": "execute_result"
    }
   ],
   "source": [
    "mobiles.head()"
   ]
  },
  {
   "cell_type": "code",
   "execution_count": 62,
   "metadata": {},
   "outputs": [],
   "source": [
    "features = mobiles[\"Product features\"]"
   ]
  },
  {
   "cell_type": "code",
   "execution_count": 63,
   "metadata": {},
   "outputs": [
    {
     "name": "stderr",
     "output_type": "stream",
     "text": [
      "/home/intel123/anaconda3/lib/python3.7/site-packages/ipykernel_launcher.py:2: SettingWithCopyWarning: \n",
      "A value is trying to be set on a copy of a slice from a DataFrame\n",
      "\n",
      "See the caveats in the documentation: http://pandas.pydata.org/pandas-docs/stable/indexing.html#indexing-view-versus-copy\n",
      "  \n",
      "/home/intel123/anaconda3/lib/python3.7/site-packages/ipykernel_launcher.py:3: SettingWithCopyWarning: \n",
      "A value is trying to be set on a copy of a slice from a DataFrame\n",
      "\n",
      "See the caveats in the documentation: http://pandas.pydata.org/pandas-docs/stable/indexing.html#indexing-view-versus-copy\n",
      "  This is separate from the ipykernel package so we can avoid doing imports until\n"
     ]
    }
   ],
   "source": [
    "for i in range(len(features)) :\n",
    "    features[i] = features[i].replace(\"'\", '\"')\n",
    "    features[i] = json.loads(features[i])\n",
    "    mobiles[\"Product features\"] = features"
   ]
  },
  {
   "cell_type": "code",
   "execution_count": 110,
   "metadata": {},
   "outputs": [
    {
     "data": {
      "text/plain": [
       "dict"
      ]
     },
     "execution_count": 110,
     "metadata": {},
     "output_type": "execute_result"
    }
   ],
   "source": [
    "new_mobiles = mobiles\n",
    "new_mobiles = new_mobiles.drop(\"Category\", axis=1)\n",
    "type(new_mobiles.iloc[0][\"Product features\"])"
   ]
  },
  {
   "cell_type": "code",
   "execution_count": 111,
   "metadata": {},
   "outputs": [],
   "source": [
    "no_customer_review = []\n",
    "for i in range(len(new_mobiles)) :\n",
    "    if(\"Customer Reviews\" not in new_mobiles.iloc[i][\"Product features\"].keys()) :\n",
    "        no_customer_review.append(i)"
   ]
  },
  {
   "cell_type": "code",
   "execution_count": 112,
   "metadata": {},
   "outputs": [],
   "source": [
    "new_mobiles = new_mobiles.drop(index=no_customer_review)"
   ]
  },
  {
   "cell_type": "code",
   "execution_count": 113,
   "metadata": {},
   "outputs": [],
   "source": [
    "for i in range(len(new_mobiles)) :\n",
    "    if(\"Customer Reviews\" not in new_mobiles.iloc[i][\"Product features\"].keys()) :\n",
    "        print(\"not\")"
   ]
  },
  {
   "cell_type": "code",
   "execution_count": 114,
   "metadata": {},
   "outputs": [],
   "source": [
    "features = new_mobiles[\"Product features\"]"
   ]
  },
  {
   "cell_type": "code",
   "execution_count": 117,
   "metadata": {},
   "outputs": [
    {
     "data": {
      "text/plain": [
       "dict_keys(['Wireless Carrier', 'Brand', 'Color', 'Memory Storage Capacity', 'Manufacturer', 'Product Dimensions', 'Item Weight', 'ASIN', 'Item model number', 'Batteries', 'Customer Reviews', 'Best Sellers Rank', 'Other display features', 'Colour', 'Date First Available'])"
      ]
     },
     "execution_count": 117,
     "metadata": {},
     "output_type": "execute_result"
    }
   ],
   "source": [
    "features[0].keys()"
   ]
  },
  {
   "cell_type": "code",
   "execution_count": 107,
   "metadata": {},
   "outputs": [
    {
     "data": {
      "text/html": [
       "<div>\n",
       "<style scoped>\n",
       "    .dataframe tbody tr th:only-of-type {\n",
       "        vertical-align: middle;\n",
       "    }\n",
       "\n",
       "    .dataframe tbody tr th {\n",
       "        vertical-align: top;\n",
       "    }\n",
       "\n",
       "    .dataframe thead th {\n",
       "        text-align: right;\n",
       "    }\n",
       "</style>\n",
       "<table border=\"1\" class=\"dataframe\">\n",
       "  <thead>\n",
       "    <tr style=\"text-align: right;\">\n",
       "      <th></th>\n",
       "      <th>Price</th>\n",
       "      <th>Product Ratings</th>\n",
       "      <th>Product URL</th>\n",
       "      <th>Product name</th>\n",
       "      <th>Total reviews</th>\n",
       "    </tr>\n",
       "  </thead>\n",
       "  <tbody>\n",
       "    <tr>\n",
       "      <th>0</th>\n",
       "      <td>519.99</td>\n",
       "      <td>4.7 out of 5 stars</td>\n",
       "      <td>https://www.amazon.com//gp/slredirect/picassoR...</td>\n",
       "      <td>OnePlus 8 5G UW (128GB, 8GB) 6.55\" 90Hz AMOLED...</td>\n",
       "      <td>9.0</td>\n",
       "    </tr>\n",
       "    <tr>\n",
       "      <th>1</th>\n",
       "      <td>599.24</td>\n",
       "      <td>4.4 out of 5 stars</td>\n",
       "      <td>https://www.amazon.com//OnePlus-Unlocked-Andro...</td>\n",
       "      <td>OnePlus 8T Lunar Silver, 5G Unlocked Android S...</td>\n",
       "      <td>377.0</td>\n",
       "    </tr>\n",
       "    <tr>\n",
       "      <th>2</th>\n",
       "      <td>299.99</td>\n",
       "      <td>4.1 out of 5 stars</td>\n",
       "      <td>https://www.amazon.com//OnePlus-Unlocked-Smart...</td>\n",
       "      <td>OnePlus Nord N10 5G Unlocked Smartphone, Midni...</td>\n",
       "      <td>114.0</td>\n",
       "    </tr>\n",
       "    <tr>\n",
       "      <th>3</th>\n",
       "      <td>324.90</td>\n",
       "      <td>4.3 out of 5 stars</td>\n",
       "      <td>https://www.amazon.com//OnePlus-Nord-N10-5G-In...</td>\n",
       "      <td>OnePlus Nord N10 5G (128GB, 6GB) 6.49\", 90Hz R...</td>\n",
       "      <td>40.0</td>\n",
       "    </tr>\n",
       "    <tr>\n",
       "      <th>4</th>\n",
       "      <td>519.99</td>\n",
       "      <td>4.3 out of 5 stars</td>\n",
       "      <td>https://www.amazon.com//OnePlus-5G-UW-Snapdrag...</td>\n",
       "      <td>OnePlus 8 5G UW (128GB, 8GB) 6.55\" 90Hz AMOLED...</td>\n",
       "      <td>10.0</td>\n",
       "    </tr>\n",
       "  </tbody>\n",
       "</table>\n",
       "</div>"
      ],
      "text/plain": [
       "    Price     Product Ratings  \\\n",
       "0  519.99  4.7 out of 5 stars   \n",
       "1  599.24  4.4 out of 5 stars   \n",
       "2  299.99  4.1 out of 5 stars   \n",
       "3  324.90  4.3 out of 5 stars   \n",
       "4  519.99  4.3 out of 5 stars   \n",
       "\n",
       "                                         Product URL  \\\n",
       "0  https://www.amazon.com//gp/slredirect/picassoR...   \n",
       "1  https://www.amazon.com//OnePlus-Unlocked-Andro...   \n",
       "2  https://www.amazon.com//OnePlus-Unlocked-Smart...   \n",
       "3  https://www.amazon.com//OnePlus-Nord-N10-5G-In...   \n",
       "4  https://www.amazon.com//OnePlus-5G-UW-Snapdrag...   \n",
       "\n",
       "                                        Product name  Total reviews  \n",
       "0  OnePlus 8 5G UW (128GB, 8GB) 6.55\" 90Hz AMOLED...            9.0  \n",
       "1  OnePlus 8T Lunar Silver, 5G Unlocked Android S...          377.0  \n",
       "2  OnePlus Nord N10 5G Unlocked Smartphone, Midni...          114.0  \n",
       "3  OnePlus Nord N10 5G (128GB, 6GB) 6.49\", 90Hz R...           40.0  \n",
       "4  OnePlus 8 5G UW (128GB, 8GB) 6.55\" 90Hz AMOLED...           10.0  "
      ]
     },
     "execution_count": 107,
     "metadata": {},
     "output_type": "execute_result"
    }
   ],
   "source": [
    "new_mobiles.head()"
   ]
  },
  {
   "cell_type": "code",
   "execution_count": 123,
   "metadata": {},
   "outputs": [
    {
     "name": "stdout",
     "output_type": "stream",
     "text": [
      "Missing Brands: 62\n"
     ]
    }
   ],
   "source": [
    "brands = []\n",
    "missing_brands = 0\n",
    "for i in range(len(features)) :\n",
    "    if \"Brand\" in features.iloc[i].keys() :\n",
    "        brands.append(features.iloc[i][\"Brand\"])\n",
    "    else :\n",
    "        brands.append(\"\")\n",
    "        missing_brands += 1\n",
    "new_mobiles[\"Brand\"] = brands\n",
    "print(\"Missing Brands:\", missing_brands)"
   ]
  },
  {
   "cell_type": "code",
   "execution_count": 124,
   "metadata": {},
   "outputs": [
    {
     "name": "stdout",
     "output_type": "stream",
     "text": [
      "Missing Colors: 8\n"
     ]
    }
   ],
   "source": [
    "missing_colors = 0\n",
    "colours = []\n",
    "for i in range(len(features)) :\n",
    "    if \"Color\" in features.iloc[i].keys() :\n",
    "        colours.append(features.iloc[i][\"Color\"])\n",
    "    elif \"Colour\" in features.iloc[i].keys() :\n",
    "        colours.append(features.iloc[i][\"Colour\"])\n",
    "    else :\n",
    "        colours.append(\"\")\n",
    "        missing_colors += 1\n",
    "new_mobiles[\"Color\"] = colours\n",
    "print(\"Missing Colors:\", missing_colors)"
   ]
  },
  {
   "cell_type": "code",
   "execution_count": 125,
   "metadata": {},
   "outputs": [
    {
     "name": "stdout",
     "output_type": "stream",
     "text": [
      "Missing Memory Storage Capacity: 87\n"
     ]
    }
   ],
   "source": [
    "missing_mem = 0\n",
    "mem = []\n",
    "for i in range(len(features)) :\n",
    "    if \"Memory Storage Capacity\" in features.iloc[i].keys() :\n",
    "        mem.append(features.iloc[i][\"Memory Storage Capacity\"])\n",
    "    else :\n",
    "        mem.append(\"\")\n",
    "        missing_mem += 1\n",
    "new_mobiles[\"Memory Storage Capacity\"] = mem\n",
    "print(\"Missing Memory Storage Capacity:\", missing_mem)"
   ]
  },
  {
   "cell_type": "code",
   "execution_count": 122,
   "metadata": {},
   "outputs": [
    {
     "data": {
      "text/html": [
       "<div>\n",
       "<style scoped>\n",
       "    .dataframe tbody tr th:only-of-type {\n",
       "        vertical-align: middle;\n",
       "    }\n",
       "\n",
       "    .dataframe tbody tr th {\n",
       "        vertical-align: top;\n",
       "    }\n",
       "\n",
       "    .dataframe thead th {\n",
       "        text-align: right;\n",
       "    }\n",
       "</style>\n",
       "<table border=\"1\" class=\"dataframe\">\n",
       "  <thead>\n",
       "    <tr style=\"text-align: right;\">\n",
       "      <th></th>\n",
       "      <th>Price</th>\n",
       "      <th>Product Ratings</th>\n",
       "      <th>Product URL</th>\n",
       "      <th>Product features</th>\n",
       "      <th>Product name</th>\n",
       "      <th>Total reviews</th>\n",
       "      <th>Brand</th>\n",
       "      <th>Color</th>\n",
       "      <th>Memory Storage Capacity</th>\n",
       "    </tr>\n",
       "  </thead>\n",
       "  <tbody>\n",
       "    <tr>\n",
       "      <th>0</th>\n",
       "      <td>519.99</td>\n",
       "      <td>4.7 out of 5 stars</td>\n",
       "      <td>https://www.amazon.com//gp/slredirect/picassoR...</td>\n",
       "      <td>{'Wireless Carrier': 'T-Mobile', 'Brand': 'One...</td>\n",
       "      <td>OnePlus 8 5G UW (128GB, 8GB) 6.55\" 90Hz AMOLED...</td>\n",
       "      <td>9.0</td>\n",
       "      <td>OnePlus</td>\n",
       "      <td>Polar Silver</td>\n",
       "      <td>128 GB</td>\n",
       "    </tr>\n",
       "    <tr>\n",
       "      <th>1</th>\n",
       "      <td>599.24</td>\n",
       "      <td>4.4 out of 5 stars</td>\n",
       "      <td>https://www.amazon.com//OnePlus-Unlocked-Andro...</td>\n",
       "      <td>{'Wireless Carrier': 'Unlocked for All Carrier...</td>\n",
       "      <td>OnePlus 8T Lunar Silver, 5G Unlocked Android S...</td>\n",
       "      <td>377.0</td>\n",
       "      <td>OnePlus</td>\n",
       "      <td>Lunar Silver</td>\n",
       "      <td>256 GB</td>\n",
       "    </tr>\n",
       "    <tr>\n",
       "      <th>2</th>\n",
       "      <td>299.99</td>\n",
       "      <td>4.1 out of 5 stars</td>\n",
       "      <td>https://www.amazon.com//OnePlus-Unlocked-Smart...</td>\n",
       "      <td>{'Wireless Carrier': 'Unlocked for All Carrier...</td>\n",
       "      <td>OnePlus Nord N10 5G Unlocked Smartphone, Midni...</td>\n",
       "      <td>114.0</td>\n",
       "      <td>OnePlus</td>\n",
       "      <td>Midnight Ice</td>\n",
       "      <td>128 GB</td>\n",
       "    </tr>\n",
       "    <tr>\n",
       "      <th>3</th>\n",
       "      <td>324.90</td>\n",
       "      <td>4.3 out of 5 stars</td>\n",
       "      <td>https://www.amazon.com//OnePlus-Nord-N10-5G-In...</td>\n",
       "      <td>{'Wireless Carrier': 'Unlocked for All Carrier...</td>\n",
       "      <td>OnePlus Nord N10 5G (128GB, 6GB) 6.49\", 90Hz R...</td>\n",
       "      <td>40.0</td>\n",
       "      <td>OnePlus</td>\n",
       "      <td>Midnight Ice</td>\n",
       "      <td>128 GB</td>\n",
       "    </tr>\n",
       "    <tr>\n",
       "      <th>4</th>\n",
       "      <td>519.99</td>\n",
       "      <td>4.3 out of 5 stars</td>\n",
       "      <td>https://www.amazon.com//OnePlus-5G-UW-Snapdrag...</td>\n",
       "      <td>{'Wireless Carrier': 'T-Mobile', 'Brand': 'One...</td>\n",
       "      <td>OnePlus 8 5G UW (128GB, 8GB) 6.55\" 90Hz AMOLED...</td>\n",
       "      <td>10.0</td>\n",
       "      <td>OnePlus</td>\n",
       "      <td>Onyx Black</td>\n",
       "      <td>128 GB</td>\n",
       "    </tr>\n",
       "  </tbody>\n",
       "</table>\n",
       "</div>"
      ],
      "text/plain": [
       "    Price     Product Ratings  \\\n",
       "0  519.99  4.7 out of 5 stars   \n",
       "1  599.24  4.4 out of 5 stars   \n",
       "2  299.99  4.1 out of 5 stars   \n",
       "3  324.90  4.3 out of 5 stars   \n",
       "4  519.99  4.3 out of 5 stars   \n",
       "\n",
       "                                         Product URL  \\\n",
       "0  https://www.amazon.com//gp/slredirect/picassoR...   \n",
       "1  https://www.amazon.com//OnePlus-Unlocked-Andro...   \n",
       "2  https://www.amazon.com//OnePlus-Unlocked-Smart...   \n",
       "3  https://www.amazon.com//OnePlus-Nord-N10-5G-In...   \n",
       "4  https://www.amazon.com//OnePlus-5G-UW-Snapdrag...   \n",
       "\n",
       "                                    Product features  \\\n",
       "0  {'Wireless Carrier': 'T-Mobile', 'Brand': 'One...   \n",
       "1  {'Wireless Carrier': 'Unlocked for All Carrier...   \n",
       "2  {'Wireless Carrier': 'Unlocked for All Carrier...   \n",
       "3  {'Wireless Carrier': 'Unlocked for All Carrier...   \n",
       "4  {'Wireless Carrier': 'T-Mobile', 'Brand': 'One...   \n",
       "\n",
       "                                        Product name  Total reviews    Brand  \\\n",
       "0  OnePlus 8 5G UW (128GB, 8GB) 6.55\" 90Hz AMOLED...            9.0  OnePlus   \n",
       "1  OnePlus 8T Lunar Silver, 5G Unlocked Android S...          377.0  OnePlus   \n",
       "2  OnePlus Nord N10 5G Unlocked Smartphone, Midni...          114.0  OnePlus   \n",
       "3  OnePlus Nord N10 5G (128GB, 6GB) 6.49\", 90Hz R...           40.0  OnePlus   \n",
       "4  OnePlus 8 5G UW (128GB, 8GB) 6.55\" 90Hz AMOLED...           10.0  OnePlus   \n",
       "\n",
       "          Color Memory Storage Capacity  \n",
       "0  Polar Silver                  128 GB  \n",
       "1  Lunar Silver                  256 GB  \n",
       "2  Midnight Ice                  128 GB  \n",
       "3  Midnight Ice                  128 GB  \n",
       "4    Onyx Black                  128 GB  "
      ]
     },
     "execution_count": 122,
     "metadata": {},
     "output_type": "execute_result"
    }
   ],
   "source": [
    "new_mobiles.head()"
   ]
  },
  {
   "cell_type": "code",
   "execution_count": 127,
   "metadata": {},
   "outputs": [],
   "source": [
    "new_mobiles = new_mobiles.drop(\"Product features\", axis=1)"
   ]
  },
  {
   "cell_type": "code",
   "execution_count": 128,
   "metadata": {},
   "outputs": [
    {
     "data": {
      "text/html": [
       "<div>\n",
       "<style scoped>\n",
       "    .dataframe tbody tr th:only-of-type {\n",
       "        vertical-align: middle;\n",
       "    }\n",
       "\n",
       "    .dataframe tbody tr th {\n",
       "        vertical-align: top;\n",
       "    }\n",
       "\n",
       "    .dataframe thead th {\n",
       "        text-align: right;\n",
       "    }\n",
       "</style>\n",
       "<table border=\"1\" class=\"dataframe\">\n",
       "  <thead>\n",
       "    <tr style=\"text-align: right;\">\n",
       "      <th></th>\n",
       "      <th>Price</th>\n",
       "      <th>Product Ratings</th>\n",
       "      <th>Product URL</th>\n",
       "      <th>Product name</th>\n",
       "      <th>Total reviews</th>\n",
       "      <th>Brand</th>\n",
       "      <th>Color</th>\n",
       "      <th>Memory Storage Capacity</th>\n",
       "    </tr>\n",
       "  </thead>\n",
       "  <tbody>\n",
       "    <tr>\n",
       "      <th>0</th>\n",
       "      <td>519.99</td>\n",
       "      <td>4.7 out of 5 stars</td>\n",
       "      <td>https://www.amazon.com//gp/slredirect/picassoR...</td>\n",
       "      <td>OnePlus 8 5G UW (128GB, 8GB) 6.55\" 90Hz AMOLED...</td>\n",
       "      <td>9.0</td>\n",
       "      <td>OnePlus</td>\n",
       "      <td>Polar Silver</td>\n",
       "      <td>128 GB</td>\n",
       "    </tr>\n",
       "    <tr>\n",
       "      <th>1</th>\n",
       "      <td>599.24</td>\n",
       "      <td>4.4 out of 5 stars</td>\n",
       "      <td>https://www.amazon.com//OnePlus-Unlocked-Andro...</td>\n",
       "      <td>OnePlus 8T Lunar Silver, 5G Unlocked Android S...</td>\n",
       "      <td>377.0</td>\n",
       "      <td>OnePlus</td>\n",
       "      <td>Lunar Silver</td>\n",
       "      <td>256 GB</td>\n",
       "    </tr>\n",
       "    <tr>\n",
       "      <th>2</th>\n",
       "      <td>299.99</td>\n",
       "      <td>4.1 out of 5 stars</td>\n",
       "      <td>https://www.amazon.com//OnePlus-Unlocked-Smart...</td>\n",
       "      <td>OnePlus Nord N10 5G Unlocked Smartphone, Midni...</td>\n",
       "      <td>114.0</td>\n",
       "      <td>OnePlus</td>\n",
       "      <td>Midnight Ice</td>\n",
       "      <td>128 GB</td>\n",
       "    </tr>\n",
       "    <tr>\n",
       "      <th>3</th>\n",
       "      <td>324.90</td>\n",
       "      <td>4.3 out of 5 stars</td>\n",
       "      <td>https://www.amazon.com//OnePlus-Nord-N10-5G-In...</td>\n",
       "      <td>OnePlus Nord N10 5G (128GB, 6GB) 6.49\", 90Hz R...</td>\n",
       "      <td>40.0</td>\n",
       "      <td>OnePlus</td>\n",
       "      <td>Midnight Ice</td>\n",
       "      <td>128 GB</td>\n",
       "    </tr>\n",
       "    <tr>\n",
       "      <th>4</th>\n",
       "      <td>519.99</td>\n",
       "      <td>4.3 out of 5 stars</td>\n",
       "      <td>https://www.amazon.com//OnePlus-5G-UW-Snapdrag...</td>\n",
       "      <td>OnePlus 8 5G UW (128GB, 8GB) 6.55\" 90Hz AMOLED...</td>\n",
       "      <td>10.0</td>\n",
       "      <td>OnePlus</td>\n",
       "      <td>Onyx Black</td>\n",
       "      <td>128 GB</td>\n",
       "    </tr>\n",
       "  </tbody>\n",
       "</table>\n",
       "</div>"
      ],
      "text/plain": [
       "    Price     Product Ratings  \\\n",
       "0  519.99  4.7 out of 5 stars   \n",
       "1  599.24  4.4 out of 5 stars   \n",
       "2  299.99  4.1 out of 5 stars   \n",
       "3  324.90  4.3 out of 5 stars   \n",
       "4  519.99  4.3 out of 5 stars   \n",
       "\n",
       "                                         Product URL  \\\n",
       "0  https://www.amazon.com//gp/slredirect/picassoR...   \n",
       "1  https://www.amazon.com//OnePlus-Unlocked-Andro...   \n",
       "2  https://www.amazon.com//OnePlus-Unlocked-Smart...   \n",
       "3  https://www.amazon.com//OnePlus-Nord-N10-5G-In...   \n",
       "4  https://www.amazon.com//OnePlus-5G-UW-Snapdrag...   \n",
       "\n",
       "                                        Product name  Total reviews    Brand  \\\n",
       "0  OnePlus 8 5G UW (128GB, 8GB) 6.55\" 90Hz AMOLED...            9.0  OnePlus   \n",
       "1  OnePlus 8T Lunar Silver, 5G Unlocked Android S...          377.0  OnePlus   \n",
       "2  OnePlus Nord N10 5G Unlocked Smartphone, Midni...          114.0  OnePlus   \n",
       "3  OnePlus Nord N10 5G (128GB, 6GB) 6.49\", 90Hz R...           40.0  OnePlus   \n",
       "4  OnePlus 8 5G UW (128GB, 8GB) 6.55\" 90Hz AMOLED...           10.0  OnePlus   \n",
       "\n",
       "          Color Memory Storage Capacity  \n",
       "0  Polar Silver                  128 GB  \n",
       "1  Lunar Silver                  256 GB  \n",
       "2  Midnight Ice                  128 GB  \n",
       "3  Midnight Ice                  128 GB  \n",
       "4    Onyx Black                  128 GB  "
      ]
     },
     "execution_count": 128,
     "metadata": {},
     "output_type": "execute_result"
    }
   ],
   "source": [
    "new_mobiles.head()"
   ]
  },
  {
   "cell_type": "code",
   "execution_count": 143,
   "metadata": {},
   "outputs": [
    {
     "data": {
      "text/plain": [
       "'#3,262 in Electronics (See Top 100 in Electronics)\\n\\n#122 in Cell Phones'"
      ]
     },
     "execution_count": 143,
     "metadata": {},
     "output_type": "execute_result"
    }
   ],
   "source": [
    "features.iloc[1][\"Best Sellers Rank\"]"
   ]
  },
  {
   "cell_type": "code",
   "execution_count": 136,
   "metadata": {},
   "outputs": [],
   "source": [
    "ratings = []\n",
    "for i in range(len(new_mobiles)) :\n",
    "    if type(new_mobiles.iloc[i][\"Product Ratings\"]) == str :\n",
    "        ratings.append(float(new_mobiles.iloc[i][\"Product Ratings\"].split()[0]))\n",
    "    else :\n",
    "        ratings.append(new_mobiles.iloc[i][\"Product Ratings\"])\n",
    "new_mobiles[\"Product Ratings\"] = ratings"
   ]
  },
  {
   "cell_type": "code",
   "execution_count": 141,
   "metadata": {},
   "outputs": [
    {
     "data": {
      "text/html": [
       "<div>\n",
       "<style scoped>\n",
       "    .dataframe tbody tr th:only-of-type {\n",
       "        vertical-align: middle;\n",
       "    }\n",
       "\n",
       "    .dataframe tbody tr th {\n",
       "        vertical-align: top;\n",
       "    }\n",
       "\n",
       "    .dataframe thead th {\n",
       "        text-align: right;\n",
       "    }\n",
       "</style>\n",
       "<table border=\"1\" class=\"dataframe\">\n",
       "  <thead>\n",
       "    <tr style=\"text-align: right;\">\n",
       "      <th></th>\n",
       "      <th>Price</th>\n",
       "      <th>Product Ratings</th>\n",
       "      <th>Product URL</th>\n",
       "      <th>Product name</th>\n",
       "      <th>Total reviews</th>\n",
       "      <th>Brand</th>\n",
       "      <th>Color</th>\n",
       "      <th>Memory Storage Capacity</th>\n",
       "    </tr>\n",
       "  </thead>\n",
       "  <tbody>\n",
       "    <tr>\n",
       "      <th>0</th>\n",
       "      <td>519.99</td>\n",
       "      <td>4.7</td>\n",
       "      <td>https://www.amazon.com//gp/slredirect/picassoR...</td>\n",
       "      <td>OnePlus 8 5G UW (128GB, 8GB) 6.55\" 90Hz AMOLED...</td>\n",
       "      <td>9.0</td>\n",
       "      <td>OnePlus</td>\n",
       "      <td>Polar Silver</td>\n",
       "      <td>128 GB</td>\n",
       "    </tr>\n",
       "    <tr>\n",
       "      <th>1</th>\n",
       "      <td>599.24</td>\n",
       "      <td>4.4</td>\n",
       "      <td>https://www.amazon.com//OnePlus-Unlocked-Andro...</td>\n",
       "      <td>OnePlus 8T Lunar Silver, 5G Unlocked Android S...</td>\n",
       "      <td>377.0</td>\n",
       "      <td>OnePlus</td>\n",
       "      <td>Lunar Silver</td>\n",
       "      <td>256 GB</td>\n",
       "    </tr>\n",
       "    <tr>\n",
       "      <th>2</th>\n",
       "      <td>299.99</td>\n",
       "      <td>4.1</td>\n",
       "      <td>https://www.amazon.com//OnePlus-Unlocked-Smart...</td>\n",
       "      <td>OnePlus Nord N10 5G Unlocked Smartphone, Midni...</td>\n",
       "      <td>114.0</td>\n",
       "      <td>OnePlus</td>\n",
       "      <td>Midnight Ice</td>\n",
       "      <td>128 GB</td>\n",
       "    </tr>\n",
       "    <tr>\n",
       "      <th>3</th>\n",
       "      <td>324.90</td>\n",
       "      <td>4.3</td>\n",
       "      <td>https://www.amazon.com//OnePlus-Nord-N10-5G-In...</td>\n",
       "      <td>OnePlus Nord N10 5G (128GB, 6GB) 6.49\", 90Hz R...</td>\n",
       "      <td>40.0</td>\n",
       "      <td>OnePlus</td>\n",
       "      <td>Midnight Ice</td>\n",
       "      <td>128 GB</td>\n",
       "    </tr>\n",
       "    <tr>\n",
       "      <th>4</th>\n",
       "      <td>519.99</td>\n",
       "      <td>4.3</td>\n",
       "      <td>https://www.amazon.com//OnePlus-5G-UW-Snapdrag...</td>\n",
       "      <td>OnePlus 8 5G UW (128GB, 8GB) 6.55\" 90Hz AMOLED...</td>\n",
       "      <td>10.0</td>\n",
       "      <td>OnePlus</td>\n",
       "      <td>Onyx Black</td>\n",
       "      <td>128 GB</td>\n",
       "    </tr>\n",
       "  </tbody>\n",
       "</table>\n",
       "</div>"
      ],
      "text/plain": [
       "    Price  Product Ratings                                        Product URL  \\\n",
       "0  519.99              4.7  https://www.amazon.com//gp/slredirect/picassoR...   \n",
       "1  599.24              4.4  https://www.amazon.com//OnePlus-Unlocked-Andro...   \n",
       "2  299.99              4.1  https://www.amazon.com//OnePlus-Unlocked-Smart...   \n",
       "3  324.90              4.3  https://www.amazon.com//OnePlus-Nord-N10-5G-In...   \n",
       "4  519.99              4.3  https://www.amazon.com//OnePlus-5G-UW-Snapdrag...   \n",
       "\n",
       "                                        Product name  Total reviews    Brand  \\\n",
       "0  OnePlus 8 5G UW (128GB, 8GB) 6.55\" 90Hz AMOLED...            9.0  OnePlus   \n",
       "1  OnePlus 8T Lunar Silver, 5G Unlocked Android S...          377.0  OnePlus   \n",
       "2  OnePlus Nord N10 5G Unlocked Smartphone, Midni...          114.0  OnePlus   \n",
       "3  OnePlus Nord N10 5G (128GB, 6GB) 6.49\", 90Hz R...           40.0  OnePlus   \n",
       "4  OnePlus 8 5G UW (128GB, 8GB) 6.55\" 90Hz AMOLED...           10.0  OnePlus   \n",
       "\n",
       "          Color Memory Storage Capacity  \n",
       "0  Polar Silver                  128 GB  \n",
       "1  Lunar Silver                  256 GB  \n",
       "2  Midnight Ice                  128 GB  \n",
       "3  Midnight Ice                  128 GB  \n",
       "4    Onyx Black                  128 GB  "
      ]
     },
     "execution_count": 141,
     "metadata": {},
     "output_type": "execute_result"
    }
   ],
   "source": [
    "new_mobiles.head()"
   ]
  },
  {
   "cell_type": "markdown",
   "metadata": {},
   "source": [
    "## Power Bank"
   ]
  },
  {
   "cell_type": "code",
   "execution_count": 65,
   "metadata": {},
   "outputs": [],
   "source": [
    "powers = pd.read_csv(\"FullDatasets/Powers.csv\")"
   ]
  },
  {
   "cell_type": "code",
   "execution_count": 66,
   "metadata": {},
   "outputs": [
    {
     "data": {
      "text/html": [
       "<div>\n",
       "<style scoped>\n",
       "    .dataframe tbody tr th:only-of-type {\n",
       "        vertical-align: middle;\n",
       "    }\n",
       "\n",
       "    .dataframe tbody tr th {\n",
       "        vertical-align: top;\n",
       "    }\n",
       "\n",
       "    .dataframe thead th {\n",
       "        text-align: right;\n",
       "    }\n",
       "</style>\n",
       "<table border=\"1\" class=\"dataframe\">\n",
       "  <thead>\n",
       "    <tr style=\"text-align: right;\">\n",
       "      <th></th>\n",
       "      <th>Category</th>\n",
       "      <th>Product Name</th>\n",
       "      <th>Product Price</th>\n",
       "      <th>Product URL</th>\n",
       "      <th>Product Features</th>\n",
       "      <th>Ratings</th>\n",
       "      <th>Total Reviews</th>\n",
       "    </tr>\n",
       "  </thead>\n",
       "  <tbody>\n",
       "    <tr>\n",
       "      <th>0</th>\n",
       "      <td>Mobile</td>\n",
       "      <td>RAVPower Portable Charger 15000mAh PD3.0 Power...</td>\n",
       "      <td>$32.99</td>\n",
       "      <td>https://www.amazon.com//gp/slredirect/picassoR...</td>\n",
       "      <td>{'Color': 'Black', 'Brand': 'RAVPower', 'Conne...</td>\n",
       "      <td>4.7 out of 5 stars</td>\n",
       "      <td>4675</td>\n",
       "    </tr>\n",
       "    <tr>\n",
       "      <th>1</th>\n",
       "      <td>Mobile</td>\n",
       "      <td>ELECJET PowerPie 20000mAh USB C PD 45W Laptop ...</td>\n",
       "      <td>$49.99</td>\n",
       "      <td>https://www.amazon.com//gp/slredirect/picassoR...</td>\n",
       "      <td>{'Brand': 'ELECJET', 'Item Weight': '13.8 ounc...</td>\n",
       "      <td>4.7 out of 5 stars</td>\n",
       "      <td>651</td>\n",
       "    </tr>\n",
       "    <tr>\n",
       "      <th>2</th>\n",
       "      <td>Mobile</td>\n",
       "      <td>INIU Portable Charger, USB C Slimmest &amp; Lighte...</td>\n",
       "      <td>$17.99</td>\n",
       "      <td>https://www.amazon.com//INIU-High-Speed-Flashl...</td>\n",
       "      <td>{'Color': 'Black', 'Brand': 'INIU', 'Connector...</td>\n",
       "      <td>4.7 out of 5 stars</td>\n",
       "      <td>51732</td>\n",
       "    </tr>\n",
       "    <tr>\n",
       "      <th>3</th>\n",
       "      <td>Mobile</td>\n",
       "      <td>RAVPower Portable Charger 15000mAh PD3.0 Power...</td>\n",
       "      <td>$32.99</td>\n",
       "      <td>https://www.amazon.com//Portable-RAVPower-High...</td>\n",
       "      <td>{'Color': 'Black', 'Brand': 'RAVPower', 'Conne...</td>\n",
       "      <td>4.7 out of 5 stars</td>\n",
       "      <td>4675</td>\n",
       "    </tr>\n",
       "    <tr>\n",
       "      <th>4</th>\n",
       "      <td>Mobile</td>\n",
       "      <td>RAVPower Portable Charger 20000mAh PD 3.0 Powe...</td>\n",
       "      <td>$39.99</td>\n",
       "      <td>https://www.amazon.com//RAVPower-Portable-2000...</td>\n",
       "      <td>{'Compatible Devices': 'IPhone 5, IPhone X, IP...</td>\n",
       "      <td>4.7 out of 5 stars</td>\n",
       "      <td>7722</td>\n",
       "    </tr>\n",
       "  </tbody>\n",
       "</table>\n",
       "</div>"
      ],
      "text/plain": [
       "  Category                                       Product Name Product Price  \\\n",
       "0   Mobile  RAVPower Portable Charger 15000mAh PD3.0 Power...        $32.99   \n",
       "1   Mobile  ELECJET PowerPie 20000mAh USB C PD 45W Laptop ...        $49.99   \n",
       "2   Mobile  INIU Portable Charger, USB C Slimmest & Lighte...        $17.99   \n",
       "3   Mobile  RAVPower Portable Charger 15000mAh PD3.0 Power...        $32.99   \n",
       "4   Mobile  RAVPower Portable Charger 20000mAh PD 3.0 Powe...        $39.99   \n",
       "\n",
       "                                         Product URL  \\\n",
       "0  https://www.amazon.com//gp/slredirect/picassoR...   \n",
       "1  https://www.amazon.com//gp/slredirect/picassoR...   \n",
       "2  https://www.amazon.com//INIU-High-Speed-Flashl...   \n",
       "3  https://www.amazon.com//Portable-RAVPower-High...   \n",
       "4  https://www.amazon.com//RAVPower-Portable-2000...   \n",
       "\n",
       "                                    Product Features             Ratings  \\\n",
       "0  {'Color': 'Black', 'Brand': 'RAVPower', 'Conne...  4.7 out of 5 stars   \n",
       "1  {'Brand': 'ELECJET', 'Item Weight': '13.8 ounc...  4.7 out of 5 stars   \n",
       "2  {'Color': 'Black', 'Brand': 'INIU', 'Connector...  4.7 out of 5 stars   \n",
       "3  {'Color': 'Black', 'Brand': 'RAVPower', 'Conne...  4.7 out of 5 stars   \n",
       "4  {'Compatible Devices': 'IPhone 5, IPhone X, IP...  4.7 out of 5 stars   \n",
       "\n",
       "   Total Reviews  \n",
       "0           4675  \n",
       "1            651  \n",
       "2          51732  \n",
       "3           4675  \n",
       "4           7722  "
      ]
     },
     "execution_count": 66,
     "metadata": {},
     "output_type": "execute_result"
    }
   ],
   "source": [
    "powers.head()"
   ]
  },
  {
   "cell_type": "code",
   "execution_count": 67,
   "metadata": {},
   "outputs": [
    {
     "name": "stderr",
     "output_type": "stream",
     "text": [
      "/home/intel123/anaconda3/lib/python3.7/site-packages/ipykernel_launcher.py:3: SettingWithCopyWarning: \n",
      "A value is trying to be set on a copy of a slice from a DataFrame\n",
      "\n",
      "See the caveats in the documentation: http://pandas.pydata.org/pandas-docs/stable/indexing.html#indexing-view-versus-copy\n",
      "  This is separate from the ipykernel package so we can avoid doing imports until\n",
      "/home/intel123/anaconda3/lib/python3.7/site-packages/ipykernel_launcher.py:4: SettingWithCopyWarning: \n",
      "A value is trying to be set on a copy of a slice from a DataFrame\n",
      "\n",
      "See the caveats in the documentation: http://pandas.pydata.org/pandas-docs/stable/indexing.html#indexing-view-versus-copy\n",
      "  after removing the cwd from sys.path.\n"
     ]
    }
   ],
   "source": [
    "features = powers[\"Product Features\"]\n",
    "for i in range(len(features)) :\n",
    "    features[i] = features[i].replace(\"'\", '\"')\n",
    "    features[i] = json.loads(features[i])\n",
    "    powers[\"Product features\"] = features"
   ]
  },
  {
   "cell_type": "code",
   "execution_count": 68,
   "metadata": {},
   "outputs": [],
   "source": [
    "new_powers = powers\n",
    "new_powers = new_powers.drop(\"Category\", axis=1)"
   ]
  },
  {
   "cell_type": "code",
   "execution_count": 69,
   "metadata": {},
   "outputs": [],
   "source": [
    "prices = new_powers[\"Product Price\"]\n",
    "prices = [prices[i].replace(\"$\", \"\") for i in range(len(prices))]\n",
    "prices = [prices[i].replace(\",\", \"\") for i in range(len(prices))]\n",
    "prices = [float(prices[i]) for i in range(len(prices))]\n",
    "new_powers[\"Product Price\"] = prices"
   ]
  },
  {
   "cell_type": "code",
   "execution_count": 70,
   "metadata": {},
   "outputs": [
    {
     "name": "stdout",
     "output_type": "stream",
     "text": [
      "Missing Brands: 17\n"
     ]
    }
   ],
   "source": [
    "features = new_powers[\"Product Features\"]\n",
    "brands = []\n",
    "missing_brands = 0\n",
    "for i in range(len(features)) :\n",
    "    if \"Brand\" in features.iloc[i].keys() :\n",
    "        brands.append(features.iloc[i][\"Brand\"])\n",
    "    else :\n",
    "        brands.append(\"\")\n",
    "        missing_brands += 1\n",
    "new_powers[\"Brand\"] = brands\n",
    "print(\"Missing Brands:\", missing_brands)"
   ]
  },
  {
   "cell_type": "code",
   "execution_count": 72,
   "metadata": {},
   "outputs": [
    {
     "name": "stderr",
     "output_type": "stream",
     "text": [
      "/home/intel123/anaconda3/lib/python3.7/site-packages/ipykernel_launcher.py:4: SettingWithCopyWarning: \n",
      "A value is trying to be set on a copy of a slice from a DataFrame\n",
      "\n",
      "See the caveats in the documentation: http://pandas.pydata.org/pandas-docs/stable/indexing.html#indexing-view-versus-copy\n",
      "  after removing the cwd from sys.path.\n"
     ]
    }
   ],
   "source": [
    "ratings = new_powers[\"Ratings\"]\n",
    "for i in range(len(ratings)) :\n",
    "    rating = ratings[i]\n",
    "    ratings[i] = float(rating.split()[0])\n",
    "new_powers[\"Ratings\"] = ratings    "
   ]
  },
  {
   "cell_type": "code",
   "execution_count": 78,
   "metadata": {},
   "outputs": [
    {
     "data": {
      "text/plain": [
       "['',\n",
       " '17,185 in Cell Phones & Accessories (See Top 100 in Cell Phones & Accessories)\\n\\n',\n",
       " '346 in Cell Phone Portable Power Banks\\n\\n',\n",
       " '464 in Cell Phone Replacement Batteries']"
      ]
     },
     "execution_count": 78,
     "metadata": {},
     "output_type": "execute_result"
    }
   ],
   "source": [
    "ranks[].split('#')"
   ]
  },
  {
   "cell_type": "code",
   "execution_count": 84,
   "metadata": {},
   "outputs": [
    {
     "name": "stdout",
     "output_type": "stream",
     "text": [
      "Missing Brands: 0\n"
     ]
    }
   ],
   "source": [
    "ranks = []\n",
    "missing_ranks = 0\n",
    "for i in range(len(features)) :\n",
    "    if \"Best Sellers Rank\" in features.iloc[i].keys() :\n",
    "        rank = features.iloc[i][\"Best Sellers Rank\"]\n",
    "        ranks.append(rank.split('#')[2].split()[0])\n",
    "    else :\n",
    "        ranks.append(\"\")\n",
    "        missing_ranks += 1\n",
    "new_powers[\"Best Sellers Rank\"] = ranks\n",
    "#print(ranks)\n",
    "print(\"Missing Brands:\", missing_ranks)"
   ]
  },
  {
   "cell_type": "code",
   "execution_count": 86,
   "metadata": {},
   "outputs": [],
   "source": [
    "new_powers = new_powers.drop(\"Product features\", axis=1)\n",
    "new_powers = new_powers.drop(\"Product Features\", axis=1)"
   ]
  },
  {
   "cell_type": "code",
   "execution_count": 87,
   "metadata": {},
   "outputs": [
    {
     "data": {
      "text/html": [
       "<div>\n",
       "<style scoped>\n",
       "    .dataframe tbody tr th:only-of-type {\n",
       "        vertical-align: middle;\n",
       "    }\n",
       "\n",
       "    .dataframe tbody tr th {\n",
       "        vertical-align: top;\n",
       "    }\n",
       "\n",
       "    .dataframe thead th {\n",
       "        text-align: right;\n",
       "    }\n",
       "</style>\n",
       "<table border=\"1\" class=\"dataframe\">\n",
       "  <thead>\n",
       "    <tr style=\"text-align: right;\">\n",
       "      <th></th>\n",
       "      <th>Product Name</th>\n",
       "      <th>Product Price</th>\n",
       "      <th>Product URL</th>\n",
       "      <th>Ratings</th>\n",
       "      <th>Total Reviews</th>\n",
       "      <th>Brand</th>\n",
       "      <th>Best Sellers Rank</th>\n",
       "    </tr>\n",
       "  </thead>\n",
       "  <tbody>\n",
       "    <tr>\n",
       "      <th>0</th>\n",
       "      <td>RAVPower Portable Charger 15000mAh PD3.0 Power...</td>\n",
       "      <td>32.99</td>\n",
       "      <td>https://www.amazon.com//gp/slredirect/picassoR...</td>\n",
       "      <td>4.7</td>\n",
       "      <td>4675</td>\n",
       "      <td>RAVPower</td>\n",
       "      <td>82</td>\n",
       "    </tr>\n",
       "    <tr>\n",
       "      <th>1</th>\n",
       "      <td>ELECJET PowerPie 20000mAh USB C PD 45W Laptop ...</td>\n",
       "      <td>49.99</td>\n",
       "      <td>https://www.amazon.com//gp/slredirect/picassoR...</td>\n",
       "      <td>4.7</td>\n",
       "      <td>651</td>\n",
       "      <td>ELECJET</td>\n",
       "      <td>346</td>\n",
       "    </tr>\n",
       "    <tr>\n",
       "      <th>2</th>\n",
       "      <td>INIU Portable Charger, USB C Slimmest &amp; Lighte...</td>\n",
       "      <td>17.99</td>\n",
       "      <td>https://www.amazon.com//INIU-High-Speed-Flashl...</td>\n",
       "      <td>4.7</td>\n",
       "      <td>51732</td>\n",
       "      <td>INIU</td>\n",
       "      <td>2</td>\n",
       "    </tr>\n",
       "    <tr>\n",
       "      <th>3</th>\n",
       "      <td>RAVPower Portable Charger 15000mAh PD3.0 Power...</td>\n",
       "      <td>32.99</td>\n",
       "      <td>https://www.amazon.com//Portable-RAVPower-High...</td>\n",
       "      <td>4.7</td>\n",
       "      <td>4675</td>\n",
       "      <td>RAVPower</td>\n",
       "      <td>82</td>\n",
       "    </tr>\n",
       "    <tr>\n",
       "      <th>4</th>\n",
       "      <td>RAVPower Portable Charger 20000mAh PD 3.0 Powe...</td>\n",
       "      <td>39.99</td>\n",
       "      <td>https://www.amazon.com//RAVPower-Portable-2000...</td>\n",
       "      <td>4.7</td>\n",
       "      <td>7722</td>\n",
       "      <td>RAVPower</td>\n",
       "      <td>26</td>\n",
       "    </tr>\n",
       "  </tbody>\n",
       "</table>\n",
       "</div>"
      ],
      "text/plain": [
       "                                        Product Name  Product Price  \\\n",
       "0  RAVPower Portable Charger 15000mAh PD3.0 Power...          32.99   \n",
       "1  ELECJET PowerPie 20000mAh USB C PD 45W Laptop ...          49.99   \n",
       "2  INIU Portable Charger, USB C Slimmest & Lighte...          17.99   \n",
       "3  RAVPower Portable Charger 15000mAh PD3.0 Power...          32.99   \n",
       "4  RAVPower Portable Charger 20000mAh PD 3.0 Powe...          39.99   \n",
       "\n",
       "                                         Product URL Ratings  Total Reviews  \\\n",
       "0  https://www.amazon.com//gp/slredirect/picassoR...     4.7           4675   \n",
       "1  https://www.amazon.com//gp/slredirect/picassoR...     4.7            651   \n",
       "2  https://www.amazon.com//INIU-High-Speed-Flashl...     4.7          51732   \n",
       "3  https://www.amazon.com//Portable-RAVPower-High...     4.7           4675   \n",
       "4  https://www.amazon.com//RAVPower-Portable-2000...     4.7           7722   \n",
       "\n",
       "      Brand Best Sellers Rank  \n",
       "0  RAVPower                82  \n",
       "1   ELECJET               346  \n",
       "2      INIU                 2  \n",
       "3  RAVPower                82  \n",
       "4  RAVPower                26  "
      ]
     },
     "execution_count": 87,
     "metadata": {},
     "output_type": "execute_result"
    }
   ],
   "source": [
    "new_powers.head()"
   ]
  },
  {
   "cell_type": "code",
   "execution_count": 89,
   "metadata": {},
   "outputs": [],
   "source": [
    "new_powers.to_csv(\"ShortDatasets/Powers.csv\")"
   ]
  },
  {
   "cell_type": "markdown",
   "metadata": {},
   "source": [
    "## Desktops "
   ]
  },
  {
   "cell_type": "code",
   "execution_count": 97,
   "metadata": {},
   "outputs": [],
   "source": [
    "desktops = pd.read_csv(\"FullDatasets/Desktops.csv\")"
   ]
  },
  {
   "cell_type": "code",
   "execution_count": 98,
   "metadata": {},
   "outputs": [
    {
     "data": {
      "text/html": [
       "<div>\n",
       "<style scoped>\n",
       "    .dataframe tbody tr th:only-of-type {\n",
       "        vertical-align: middle;\n",
       "    }\n",
       "\n",
       "    .dataframe tbody tr th {\n",
       "        vertical-align: top;\n",
       "    }\n",
       "\n",
       "    .dataframe thead th {\n",
       "        text-align: right;\n",
       "    }\n",
       "</style>\n",
       "<table border=\"1\" class=\"dataframe\">\n",
       "  <thead>\n",
       "    <tr style=\"text-align: right;\">\n",
       "      <th></th>\n",
       "      <th>Category</th>\n",
       "      <th>Product Name</th>\n",
       "      <th>Product Price</th>\n",
       "      <th>product URL</th>\n",
       "      <th>Product Features</th>\n",
       "    </tr>\n",
       "  </thead>\n",
       "  <tbody>\n",
       "    <tr>\n",
       "      <th>0</th>\n",
       "      <td>Desktop</td>\n",
       "      <td>HP ProDesk 600 G6 - Desktop Mini PC - Intel Co...</td>\n",
       "      <td>$854.79</td>\n",
       "      <td>https://www.amazon.com//gp/slredirect/picassoR...</td>\n",
       "      <td>{'Brand': 'HP', 'CPU Model': 'Intel Core i9', ...</td>\n",
       "    </tr>\n",
       "    <tr>\n",
       "      <th>1</th>\n",
       "      <td>Desktop</td>\n",
       "      <td>X35G Mini PC 10th Gen Intel Core i3-1005G1 Win...</td>\n",
       "      <td>$449.90</td>\n",
       "      <td>https://www.amazon.com//gp/slredirect/picassoR...</td>\n",
       "      <td>{'Brand': 'MINISFORUM', 'CPU Model': 'Core i3-...</td>\n",
       "    </tr>\n",
       "    <tr>\n",
       "      <th>2</th>\n",
       "      <td>Desktop</td>\n",
       "      <td>HP 24-inch All-in-One Desktop Computer, AMD At...</td>\n",
       "      <td>$619.00</td>\n",
       "      <td>https://www.amazon.com//HP-24-inch-Computer-Pr...</td>\n",
       "      <td>{'Brand': 'HP', 'CPU Model': 'Athlon', 'Comput...</td>\n",
       "    </tr>\n",
       "    <tr>\n",
       "      <th>3</th>\n",
       "      <td>Desktop</td>\n",
       "      <td>HP Envy Desktop Computer, Intel Core i7-10700,...</td>\n",
       "      <td>$1,159.99</td>\n",
       "      <td>https://www.amazon.com//HP-Desktop-Computer-i7...</td>\n",
       "      <td>{'Brand': 'HP', 'CPU Model': 'Core i7', 'Compu...</td>\n",
       "    </tr>\n",
       "    <tr>\n",
       "      <th>4</th>\n",
       "      <td>Desktop</td>\n",
       "      <td>HP 22-inch All-in-One Desktop Computer, AMD At...</td>\n",
       "      <td>$519.00</td>\n",
       "      <td>https://www.amazon.com//HP-22-inch-Computer-Pr...</td>\n",
       "      <td>{'Brand': 'HP', 'CPU Model': 'Athlon', 'Comput...</td>\n",
       "    </tr>\n",
       "  </tbody>\n",
       "</table>\n",
       "</div>"
      ],
      "text/plain": [
       "  Category                                       Product Name Product Price  \\\n",
       "0  Desktop  HP ProDesk 600 G6 - Desktop Mini PC - Intel Co...       $854.79   \n",
       "1  Desktop  X35G Mini PC 10th Gen Intel Core i3-1005G1 Win...       $449.90   \n",
       "2  Desktop  HP 24-inch All-in-One Desktop Computer, AMD At...       $619.00   \n",
       "3  Desktop  HP Envy Desktop Computer, Intel Core i7-10700,...     $1,159.99   \n",
       "4  Desktop  HP 22-inch All-in-One Desktop Computer, AMD At...       $519.00   \n",
       "\n",
       "                                         product URL  \\\n",
       "0  https://www.amazon.com//gp/slredirect/picassoR...   \n",
       "1  https://www.amazon.com//gp/slredirect/picassoR...   \n",
       "2  https://www.amazon.com//HP-24-inch-Computer-Pr...   \n",
       "3  https://www.amazon.com//HP-Desktop-Computer-i7...   \n",
       "4  https://www.amazon.com//HP-22-inch-Computer-Pr...   \n",
       "\n",
       "                                    Product Features  \n",
       "0  {'Brand': 'HP', 'CPU Model': 'Intel Core i9', ...  \n",
       "1  {'Brand': 'MINISFORUM', 'CPU Model': 'Core i3-...  \n",
       "2  {'Brand': 'HP', 'CPU Model': 'Athlon', 'Comput...  \n",
       "3  {'Brand': 'HP', 'CPU Model': 'Core i7', 'Compu...  \n",
       "4  {'Brand': 'HP', 'CPU Model': 'Athlon', 'Comput...  "
      ]
     },
     "execution_count": 98,
     "metadata": {},
     "output_type": "execute_result"
    }
   ],
   "source": [
    "desktops.head()"
   ]
  },
  {
   "cell_type": "code",
   "execution_count": 99,
   "metadata": {},
   "outputs": [
    {
     "data": {
      "text/plain": [
       "140"
      ]
     },
     "execution_count": 99,
     "metadata": {},
     "output_type": "execute_result"
    }
   ],
   "source": [
    "len(desktops)"
   ]
  },
  {
   "cell_type": "code",
   "execution_count": 100,
   "metadata": {},
   "outputs": [],
   "source": [
    "features = desktops[\"Product Features\"]\n",
    "for i in range(len(features)) :\n",
    "    features[i] = features[i].replace(\"'\", '\"')\n",
    "    features[i] = json.loads(features[i])\n",
    "    desktops[\"Product Features\"] = features"
   ]
  },
  {
   "cell_type": "code",
   "execution_count": 101,
   "metadata": {},
   "outputs": [],
   "source": [
    "new_desktops = desktops.drop(\"Category\", axis=1)"
   ]
  },
  {
   "cell_type": "code",
   "execution_count": 102,
   "metadata": {},
   "outputs": [],
   "source": [
    "prices = new_desktops[\"Product Price\"]\n",
    "prices = [prices[i].replace(\"$\", \"\") for i in range(len(prices))]\n",
    "prices = [prices[i].replace(\",\", \"\") for i in range(len(prices))]\n",
    "prices = [float(prices[i]) for i in range(len(prices))]\n",
    "new_desktops[\"Product Price\"] = prices"
   ]
  },
  {
   "cell_type": "code",
   "execution_count": 103,
   "metadata": {},
   "outputs": [
    {
     "name": "stdout",
     "output_type": "stream",
     "text": [
      "Missing Brands: 14\n"
     ]
    }
   ],
   "source": [
    "features = new_desktops[\"Product Features\"]\n",
    "brands = []\n",
    "missing_brands = 0\n",
    "for i in range(len(features)) :\n",
    "    if \"Brand\" in features.iloc[i].keys() :\n",
    "        brands.append(features.iloc[i][\"Brand\"])\n",
    "    else :\n",
    "        brands.append(\"\")\n",
    "        missing_brands += 1\n",
    "new_desktops[\"Brand\"] = brands\n",
    "print(\"Missing Brands:\", missing_brands)"
   ]
  },
  {
   "cell_type": "code",
   "execution_count": 104,
   "metadata": {},
   "outputs": [
    {
     "name": "stdout",
     "output_type": "stream",
     "text": [
      "Missing Ratings: 22\n"
     ]
    }
   ],
   "source": [
    "ratings = []\n",
    "missing_ratings = 0\n",
    "for i in range(len(new_desktops)) :\n",
    "    if \"Customer Reviews\" in new_desktops.iloc[i][\"Product Features\"] :\n",
    "        rating = new_desktops.iloc[i][\"Product Features\"][\"Customer Reviews\"].split('\\n')[0]\n",
    "        rating = float(rating.split()[0])\n",
    "        ratings.append(rating)\n",
    "    else :\n",
    "        ratings.append(\"\")\n",
    "        missing_ratings += 1\n",
    "new_desktops[\"Ratings\"] = ratings  \n",
    "print(\"Missing Ratings:\", missing_ratings)"
   ]
  },
  {
   "cell_type": "code",
   "execution_count": 105,
   "metadata": {},
   "outputs": [
    {
     "name": "stdout",
     "output_type": "stream",
     "text": [
      "Missing Processors: 31\n"
     ]
    }
   ],
   "source": [
    "processors = []\n",
    "missing_processors = 0\n",
    "for i in range(len(new_desktops)) :\n",
    "    if \"CPU Model\" in new_desktops.iloc[i][\"Product Features\"] :\n",
    "        processor = new_desktops.iloc[i][\"Product Features\"][\"CPU Model\"]\n",
    "        processors.append(processor)\n",
    "    else :\n",
    "        processors.append(\"\")\n",
    "        missing_processors += 1\n",
    "new_desktops[\"Processor\"] = processors  \n",
    "print(\"Missing Processors:\", missing_processors)"
   ]
  },
  {
   "cell_type": "code",
   "execution_count": 106,
   "metadata": {},
   "outputs": [
    {
     "name": "stdout",
     "output_type": "stream",
     "text": [
      "Missing os: 130\n"
     ]
    }
   ],
   "source": [
    "os = []\n",
    "missing_os = 0\n",
    "for i in range(len(new_desktops)) :\n",
    "    if \"Operating System\" in new_desktops.iloc[i][\"Product Features\"] :\n",
    "        os.append(new_desktops.iloc[i][\"Product Features\"][\"Operating System\"])\n",
    "    else :\n",
    "        os.append(\"\")\n",
    "        missing_os += 1\n",
    "new_desktops[\"Operating System\"] = os  \n",
    "print(\"Missing os:\", missing_os)"
   ]
  },
  {
   "cell_type": "code",
   "execution_count": 107,
   "metadata": {},
   "outputs": [],
   "source": [
    "new_desktops = new_desktops.drop(\"Product Features\", axis=1)"
   ]
  },
  {
   "cell_type": "code",
   "execution_count": 108,
   "metadata": {},
   "outputs": [
    {
     "data": {
      "text/html": [
       "<div>\n",
       "<style scoped>\n",
       "    .dataframe tbody tr th:only-of-type {\n",
       "        vertical-align: middle;\n",
       "    }\n",
       "\n",
       "    .dataframe tbody tr th {\n",
       "        vertical-align: top;\n",
       "    }\n",
       "\n",
       "    .dataframe thead th {\n",
       "        text-align: right;\n",
       "    }\n",
       "</style>\n",
       "<table border=\"1\" class=\"dataframe\">\n",
       "  <thead>\n",
       "    <tr style=\"text-align: right;\">\n",
       "      <th></th>\n",
       "      <th>Product Name</th>\n",
       "      <th>Product Price</th>\n",
       "      <th>product URL</th>\n",
       "      <th>Brand</th>\n",
       "      <th>Ratings</th>\n",
       "      <th>Processor</th>\n",
       "      <th>Operating System</th>\n",
       "    </tr>\n",
       "  </thead>\n",
       "  <tbody>\n",
       "    <tr>\n",
       "      <th>0</th>\n",
       "      <td>HP ProDesk 600 G6 - Desktop Mini PC - Intel Co...</td>\n",
       "      <td>854.79</td>\n",
       "      <td>https://www.amazon.com//gp/slredirect/picassoR...</td>\n",
       "      <td>HP</td>\n",
       "      <td></td>\n",
       "      <td>Intel Core i9</td>\n",
       "      <td>Windows 10</td>\n",
       "    </tr>\n",
       "    <tr>\n",
       "      <th>1</th>\n",
       "      <td>X35G Mini PC 10th Gen Intel Core i3-1005G1 Win...</td>\n",
       "      <td>449.90</td>\n",
       "      <td>https://www.amazon.com//gp/slredirect/picassoR...</td>\n",
       "      <td>MINISFORUM</td>\n",
       "      <td>4.6</td>\n",
       "      <td>Core i3-1005G1</td>\n",
       "      <td></td>\n",
       "    </tr>\n",
       "    <tr>\n",
       "      <th>2</th>\n",
       "      <td>HP 24-inch All-in-One Desktop Computer, AMD At...</td>\n",
       "      <td>619.00</td>\n",
       "      <td>https://www.amazon.com//HP-24-inch-Computer-Pr...</td>\n",
       "      <td>HP</td>\n",
       "      <td>4.6</td>\n",
       "      <td>Athlon</td>\n",
       "      <td></td>\n",
       "    </tr>\n",
       "    <tr>\n",
       "      <th>3</th>\n",
       "      <td>HP Envy Desktop Computer, Intel Core i7-10700,...</td>\n",
       "      <td>1159.99</td>\n",
       "      <td>https://www.amazon.com//HP-Desktop-Computer-i7...</td>\n",
       "      <td>HP</td>\n",
       "      <td>4.4</td>\n",
       "      <td>Core i7</td>\n",
       "      <td></td>\n",
       "    </tr>\n",
       "    <tr>\n",
       "      <th>4</th>\n",
       "      <td>HP 22-inch All-in-One Desktop Computer, AMD At...</td>\n",
       "      <td>519.00</td>\n",
       "      <td>https://www.amazon.com//HP-22-inch-Computer-Pr...</td>\n",
       "      <td>HP</td>\n",
       "      <td>4.5</td>\n",
       "      <td>Athlon</td>\n",
       "      <td></td>\n",
       "    </tr>\n",
       "  </tbody>\n",
       "</table>\n",
       "</div>"
      ],
      "text/plain": [
       "                                        Product Name  Product Price  \\\n",
       "0  HP ProDesk 600 G6 - Desktop Mini PC - Intel Co...         854.79   \n",
       "1  X35G Mini PC 10th Gen Intel Core i3-1005G1 Win...         449.90   \n",
       "2  HP 24-inch All-in-One Desktop Computer, AMD At...         619.00   \n",
       "3  HP Envy Desktop Computer, Intel Core i7-10700,...        1159.99   \n",
       "4  HP 22-inch All-in-One Desktop Computer, AMD At...         519.00   \n",
       "\n",
       "                                         product URL       Brand Ratings  \\\n",
       "0  https://www.amazon.com//gp/slredirect/picassoR...          HP           \n",
       "1  https://www.amazon.com//gp/slredirect/picassoR...  MINISFORUM     4.6   \n",
       "2  https://www.amazon.com//HP-24-inch-Computer-Pr...          HP     4.6   \n",
       "3  https://www.amazon.com//HP-Desktop-Computer-i7...          HP     4.4   \n",
       "4  https://www.amazon.com//HP-22-inch-Computer-Pr...          HP     4.5   \n",
       "\n",
       "        Processor Operating System  \n",
       "0   Intel Core i9       Windows 10  \n",
       "1  Core i3-1005G1                   \n",
       "2          Athlon                   \n",
       "3         Core i7                   \n",
       "4          Athlon                   "
      ]
     },
     "execution_count": 108,
     "metadata": {},
     "output_type": "execute_result"
    }
   ],
   "source": [
    "new_desktops.head()"
   ]
  },
  {
   "cell_type": "code",
   "execution_count": 109,
   "metadata": {},
   "outputs": [],
   "source": [
    "new_desktops.to_csv(\"ShortDatasets/Desktops.csv\")"
   ]
  },
  {
   "cell_type": "markdown",
   "metadata": {},
   "source": [
    "## Printers "
   ]
  },
  {
   "cell_type": "code",
   "execution_count": 2,
   "metadata": {},
   "outputs": [],
   "source": [
    "printers = pd.read_csv(\"FullDatasets/Printers.csv\")"
   ]
  },
  {
   "cell_type": "code",
   "execution_count": 3,
   "metadata": {},
   "outputs": [
    {
     "data": {
      "text/html": [
       "<div>\n",
       "<style scoped>\n",
       "    .dataframe tbody tr th:only-of-type {\n",
       "        vertical-align: middle;\n",
       "    }\n",
       "\n",
       "    .dataframe tbody tr th {\n",
       "        vertical-align: top;\n",
       "    }\n",
       "\n",
       "    .dataframe thead th {\n",
       "        text-align: right;\n",
       "    }\n",
       "</style>\n",
       "<table border=\"1\" class=\"dataframe\">\n",
       "  <thead>\n",
       "    <tr style=\"text-align: right;\">\n",
       "      <th></th>\n",
       "      <th>Category</th>\n",
       "      <th>Product Name</th>\n",
       "      <th>Product Price</th>\n",
       "      <th>product URL</th>\n",
       "      <th>Product Features</th>\n",
       "      <th>Ratings</th>\n",
       "      <th>Total Reviews</th>\n",
       "    </tr>\n",
       "  </thead>\n",
       "  <tbody>\n",
       "    <tr>\n",
       "      <th>0</th>\n",
       "      <td>Printer</td>\n",
       "      <td>Hammermill Printer Paper, Premium Inkjet &amp; Las...</td>\n",
       "      <td>$37.99</td>\n",
       "      <td>https://www.amazon.com//gp/slredirect/picassoR...</td>\n",
       "      <td>{'Brand': 'Hammermill', 'Color': 'White', 'Pap...</td>\n",
       "      <td>4.8 out of 5 stars</td>\n",
       "      <td>5291.0</td>\n",
       "    </tr>\n",
       "    <tr>\n",
       "      <th>1</th>\n",
       "      <td>Printer</td>\n",
       "      <td>Hammermill Printer Paper, Great White 30% Recy...</td>\n",
       "      <td>$17.99</td>\n",
       "      <td>https://www.amazon.com//gp/slredirect/picassoR...</td>\n",
       "      <td>{'Brand': 'Hammermill', 'Color': 'White', 'Ite...</td>\n",
       "      <td>4.8 out of 5 stars</td>\n",
       "      <td>9522.0</td>\n",
       "    </tr>\n",
       "    <tr>\n",
       "      <th>2</th>\n",
       "      <td>Printer</td>\n",
       "      <td>Hammermill Printer Paper, Premium Color 32 Lb ...</td>\n",
       "      <td>$14.41</td>\n",
       "      <td>https://www.amazon.com//gp/slredirect/picassoR...</td>\n",
       "      <td>{'Brand': 'Hammermill', 'Color': 'White', 'Ite...</td>\n",
       "      <td>4.8 out of 5 stars</td>\n",
       "      <td>2241.0</td>\n",
       "    </tr>\n",
       "    <tr>\n",
       "      <th>3</th>\n",
       "      <td>Printer</td>\n",
       "      <td>Hammermill Printer Paper, Premium Color 28 lb ...</td>\n",
       "      <td>$46.98</td>\n",
       "      <td>https://www.amazon.com//gp/slredirect/picassoR...</td>\n",
       "      <td>{'Brand': 'Hammermill', 'Color': 'White', 'Ite...</td>\n",
       "      <td>4.7 out of 5 stars</td>\n",
       "      <td>4598.0</td>\n",
       "    </tr>\n",
       "    <tr>\n",
       "      <th>4</th>\n",
       "      <td>Printer</td>\n",
       "      <td>Hammermill Printer Paper, 20 Lb Copy Paper, 8....</td>\n",
       "      <td>$20.97</td>\n",
       "      <td>https://www.amazon.com//gp/slredirect/picassoR...</td>\n",
       "      <td>{'Brand': 'Hammermill', 'Item Weight': '15 Pou...</td>\n",
       "      <td>4.8 out of 5 stars</td>\n",
       "      <td>13312.0</td>\n",
       "    </tr>\n",
       "  </tbody>\n",
       "</table>\n",
       "</div>"
      ],
      "text/plain": [
       "  Category                                       Product Name Product Price  \\\n",
       "0  Printer  Hammermill Printer Paper, Premium Inkjet & Las...        $37.99   \n",
       "1  Printer  Hammermill Printer Paper, Great White 30% Recy...        $17.99   \n",
       "2  Printer  Hammermill Printer Paper, Premium Color 32 Lb ...        $14.41   \n",
       "3  Printer  Hammermill Printer Paper, Premium Color 28 lb ...        $46.98   \n",
       "4  Printer  Hammermill Printer Paper, 20 Lb Copy Paper, 8....        $20.97   \n",
       "\n",
       "                                         product URL  \\\n",
       "0  https://www.amazon.com//gp/slredirect/picassoR...   \n",
       "1  https://www.amazon.com//gp/slredirect/picassoR...   \n",
       "2  https://www.amazon.com//gp/slredirect/picassoR...   \n",
       "3  https://www.amazon.com//gp/slredirect/picassoR...   \n",
       "4  https://www.amazon.com//gp/slredirect/picassoR...   \n",
       "\n",
       "                                    Product Features             Ratings  \\\n",
       "0  {'Brand': 'Hammermill', 'Color': 'White', 'Pap...  4.8 out of 5 stars   \n",
       "1  {'Brand': 'Hammermill', 'Color': 'White', 'Ite...  4.8 out of 5 stars   \n",
       "2  {'Brand': 'Hammermill', 'Color': 'White', 'Ite...  4.8 out of 5 stars   \n",
       "3  {'Brand': 'Hammermill', 'Color': 'White', 'Ite...  4.7 out of 5 stars   \n",
       "4  {'Brand': 'Hammermill', 'Item Weight': '15 Pou...  4.8 out of 5 stars   \n",
       "\n",
       "   Total Reviews  \n",
       "0         5291.0  \n",
       "1         9522.0  \n",
       "2         2241.0  \n",
       "3         4598.0  \n",
       "4        13312.0  "
      ]
     },
     "execution_count": 3,
     "metadata": {},
     "output_type": "execute_result"
    }
   ],
   "source": [
    "printers.head()"
   ]
  },
  {
   "cell_type": "code",
   "execution_count": 4,
   "metadata": {},
   "outputs": [
    {
     "name": "stderr",
     "output_type": "stream",
     "text": [
      "/home/intel123/anaconda3/lib/python3.7/site-packages/ipykernel_launcher.py:3: SettingWithCopyWarning: \n",
      "A value is trying to be set on a copy of a slice from a DataFrame\n",
      "\n",
      "See the caveats in the documentation: http://pandas.pydata.org/pandas-docs/stable/indexing.html#indexing-view-versus-copy\n",
      "  This is separate from the ipykernel package so we can avoid doing imports until\n",
      "/home/intel123/anaconda3/lib/python3.7/site-packages/ipykernel_launcher.py:4: SettingWithCopyWarning: \n",
      "A value is trying to be set on a copy of a slice from a DataFrame\n",
      "\n",
      "See the caveats in the documentation: http://pandas.pydata.org/pandas-docs/stable/indexing.html#indexing-view-versus-copy\n",
      "  after removing the cwd from sys.path.\n"
     ]
    }
   ],
   "source": [
    "features = printers[\"Product Features\"]\n",
    "for i in range(len(features)) :\n",
    "    features[i] = features[i].replace(\"'\", '\"')\n",
    "    features[i] = json.loads(features[i])\n",
    "    printers[\"Product Features\"] = features"
   ]
  },
  {
   "cell_type": "code",
   "execution_count": 17,
   "metadata": {},
   "outputs": [],
   "source": [
    "avail_keys = []\n",
    "for i in range(len(features)) :\n",
    "    #print(features[i].keys())\n",
    "    avail_keys.extend(list(features[i].keys()))\n",
    "avail_keys = set(avail_keys)"
   ]
  },
  {
   "cell_type": "code",
   "execution_count": 19,
   "metadata": {},
   "outputs": [
    {
     "name": "stdout",
     "output_type": "stream",
     "text": [
      "Wattage 144\n",
      "Paper Weight 148\n",
      "Shape 156\n",
      "Cable Type 142\n",
      "Resolution 132\n",
      "Size 150\n",
      "Material Feature 148\n",
      "Series 155\n",
      "UL Listed 156\n",
      "Max Printspeed Monochrome 145\n",
      "Batteries Required? 156\n",
      "Sheet Size 130\n",
      "Gauge 156\n",
      "Compatibility Options 155\n",
      "Duplex 120\n",
      "Media Type 156\n",
      "Warranty Description 156\n",
      "Max Input Sheet Capacity 155\n",
      "Compatible Devices 138\n",
      "Print media 85\n",
      "Printer Output 80\n",
      "Item model number 100\n",
      "Scanner Type 111\n",
      "Connectivity Technology 76\n",
      "Date First Available 23\n",
      "Domestic Shipping 152\n",
      "Best Sellers Rank 18\n",
      "Printing Technology 79\n",
      "Paper Finish 140\n",
      "Product Dimensions 103\n",
      "Model Name 110\n",
      "Hardware Interface 107\n",
      "Connector Type 142\n",
      "International Shipping 152\n",
      "Operating System 129\n",
      "Voltage 156\n",
      "Finish Type 156\n",
      "Brightness Rating 144\n",
      "Control Method 141\n",
      "Controller Type 153\n",
      "Number of Labels 156\n",
      "Connector Gender 150\n",
      "Brand 25\n",
      "Language 154\n",
      "Package Dimensions 139\n",
      "Item Dimensions LxWxH 152\n",
      "Number of Shelves 156\n",
      "Maximum Print Speed (Color) 143\n",
      "Data Transfer Rate 142\n",
      "Is Discontinued By Manufacturer 110\n",
      "Batteries 146\n",
      "Special Feature 155\n",
      "Style 155\n",
      "ASIN 22\n",
      "Sheet Count 141\n",
      "Manufacturer 80\n",
      "Material 148\n",
      "Item Weight 70\n",
      "Customer Reviews 26\n",
      "Color 60\n",
      "Memory Storage Capacity 152\n",
      "Assembly Required 156\n"
     ]
    }
   ],
   "source": [
    "for key in avail_keys :\n",
    "    missing = 0\n",
    "    for i in range(len(features)) :\n",
    "        if not key in features[i].keys() :\n",
    "            missing += 1\n",
    "    print(key, missing)"
   ]
  },
  {
   "cell_type": "code",
   "execution_count": 21,
   "metadata": {},
   "outputs": [],
   "source": [
    "new_printers = printers.drop(\"Category\", axis=1)"
   ]
  },
  {
   "cell_type": "code",
   "execution_count": 22,
   "metadata": {},
   "outputs": [],
   "source": [
    "prices = new_printers[\"Product Price\"]\n",
    "prices = [prices[i].replace(\"$\", \"\") for i in range(len(prices))]\n",
    "prices = [prices[i].replace(\",\", \"\") for i in range(len(prices))]\n",
    "prices = [float(prices[i]) for i in range(len(prices))]\n",
    "new_printers[\"Product Price\"] = prices"
   ]
  },
  {
   "cell_type": "code",
   "execution_count": 23,
   "metadata": {},
   "outputs": [
    {
     "name": "stdout",
     "output_type": "stream",
     "text": [
      "Missing Brands: 25\n"
     ]
    }
   ],
   "source": [
    "features = new_printers[\"Product Features\"]\n",
    "brands = []\n",
    "missing_brands = 0\n",
    "for i in range(len(features)) :\n",
    "    if \"Brand\" in features.iloc[i].keys() :\n",
    "        brands.append(features.iloc[i][\"Brand\"])\n",
    "    else :\n",
    "        brands.append(\"\")\n",
    "        missing_brands += 1\n",
    "new_printers[\"Brand\"] = brands\n",
    "print(\"Missing Brands:\", missing_brands)"
   ]
  },
  {
   "cell_type": "code",
   "execution_count": 24,
   "metadata": {},
   "outputs": [
    {
     "name": "stdout",
     "output_type": "stream",
     "text": [
      "Missing Printing Technology: 79\n"
     ]
    }
   ],
   "source": [
    "conn = []\n",
    "missing_conn = 0\n",
    "for i in range(len(new_printers)) :\n",
    "    if \"Printing Technology\" in new_printers.iloc[i][\"Product Features\"] :\n",
    "        conn.append(new_printers.iloc[i][\"Product Features\"][\"Printing Technology\"])\n",
    "    else :\n",
    "        conn.append(\"\")\n",
    "        missing_conn += 1\n",
    "new_printers[\"Printing Technology\"] = conn  \n",
    "print(\"Missing Printing Technology:\", missing_conn)"
   ]
  },
  {
   "cell_type": "code",
   "execution_count": 25,
   "metadata": {},
   "outputs": [
    {
     "name": "stderr",
     "output_type": "stream",
     "text": [
      "/home/intel123/anaconda3/lib/python3.7/site-packages/ipykernel_launcher.py:5: SettingWithCopyWarning: \n",
      "A value is trying to be set on a copy of a slice from a DataFrame\n",
      "\n",
      "See the caveats in the documentation: http://pandas.pydata.org/pandas-docs/stable/indexing.html#indexing-view-versus-copy\n",
      "  \"\"\"\n"
     ]
    }
   ],
   "source": [
    "ratings = new_printers[\"Ratings\"]\n",
    "for i in range(len(ratings)) :\n",
    "    rating = ratings[i]\n",
    "    if type(rating) == str :\n",
    "        ratings[i] = float(rating.split()[0])\n",
    "new_printers[\"Ratings\"] = ratings "
   ]
  },
  {
   "cell_type": "code",
   "execution_count": 26,
   "metadata": {},
   "outputs": [],
   "source": [
    "new_printers = new_printers.drop(\"Product Features\", axis=1)"
   ]
  },
  {
   "cell_type": "code",
   "execution_count": 27,
   "metadata": {},
   "outputs": [
    {
     "data": {
      "text/html": [
       "<div>\n",
       "<style scoped>\n",
       "    .dataframe tbody tr th:only-of-type {\n",
       "        vertical-align: middle;\n",
       "    }\n",
       "\n",
       "    .dataframe tbody tr th {\n",
       "        vertical-align: top;\n",
       "    }\n",
       "\n",
       "    .dataframe thead th {\n",
       "        text-align: right;\n",
       "    }\n",
       "</style>\n",
       "<table border=\"1\" class=\"dataframe\">\n",
       "  <thead>\n",
       "    <tr style=\"text-align: right;\">\n",
       "      <th></th>\n",
       "      <th>Product Name</th>\n",
       "      <th>Product Price</th>\n",
       "      <th>product URL</th>\n",
       "      <th>Ratings</th>\n",
       "      <th>Total Reviews</th>\n",
       "      <th>Brand</th>\n",
       "      <th>Printing Technology</th>\n",
       "    </tr>\n",
       "  </thead>\n",
       "  <tbody>\n",
       "    <tr>\n",
       "      <th>0</th>\n",
       "      <td>Hammermill Printer Paper, Premium Inkjet &amp; Las...</td>\n",
       "      <td>37.99</td>\n",
       "      <td>https://www.amazon.com//gp/slredirect/picassoR...</td>\n",
       "      <td>4.8</td>\n",
       "      <td>5291.0</td>\n",
       "      <td>Hammermill</td>\n",
       "      <td></td>\n",
       "    </tr>\n",
       "    <tr>\n",
       "      <th>1</th>\n",
       "      <td>Hammermill Printer Paper, Great White 30% Recy...</td>\n",
       "      <td>17.99</td>\n",
       "      <td>https://www.amazon.com//gp/slredirect/picassoR...</td>\n",
       "      <td>4.8</td>\n",
       "      <td>9522.0</td>\n",
       "      <td>Hammermill</td>\n",
       "      <td></td>\n",
       "    </tr>\n",
       "    <tr>\n",
       "      <th>2</th>\n",
       "      <td>Hammermill Printer Paper, Premium Color 32 Lb ...</td>\n",
       "      <td>14.41</td>\n",
       "      <td>https://www.amazon.com//gp/slredirect/picassoR...</td>\n",
       "      <td>4.8</td>\n",
       "      <td>2241.0</td>\n",
       "      <td>Hammermill</td>\n",
       "      <td></td>\n",
       "    </tr>\n",
       "    <tr>\n",
       "      <th>3</th>\n",
       "      <td>Hammermill Printer Paper, Premium Color 28 lb ...</td>\n",
       "      <td>46.98</td>\n",
       "      <td>https://www.amazon.com//gp/slredirect/picassoR...</td>\n",
       "      <td>4.7</td>\n",
       "      <td>4598.0</td>\n",
       "      <td>Hammermill</td>\n",
       "      <td></td>\n",
       "    </tr>\n",
       "    <tr>\n",
       "      <th>4</th>\n",
       "      <td>Hammermill Printer Paper, 20 Lb Copy Paper, 8....</td>\n",
       "      <td>20.97</td>\n",
       "      <td>https://www.amazon.com//gp/slredirect/picassoR...</td>\n",
       "      <td>4.8</td>\n",
       "      <td>13312.0</td>\n",
       "      <td>Hammermill</td>\n",
       "      <td></td>\n",
       "    </tr>\n",
       "  </tbody>\n",
       "</table>\n",
       "</div>"
      ],
      "text/plain": [
       "                                        Product Name  Product Price  \\\n",
       "0  Hammermill Printer Paper, Premium Inkjet & Las...          37.99   \n",
       "1  Hammermill Printer Paper, Great White 30% Recy...          17.99   \n",
       "2  Hammermill Printer Paper, Premium Color 32 Lb ...          14.41   \n",
       "3  Hammermill Printer Paper, Premium Color 28 lb ...          46.98   \n",
       "4  Hammermill Printer Paper, 20 Lb Copy Paper, 8....          20.97   \n",
       "\n",
       "                                         product URL Ratings  Total Reviews  \\\n",
       "0  https://www.amazon.com//gp/slredirect/picassoR...     4.8         5291.0   \n",
       "1  https://www.amazon.com//gp/slredirect/picassoR...     4.8         9522.0   \n",
       "2  https://www.amazon.com//gp/slredirect/picassoR...     4.8         2241.0   \n",
       "3  https://www.amazon.com//gp/slredirect/picassoR...     4.7         4598.0   \n",
       "4  https://www.amazon.com//gp/slredirect/picassoR...     4.8        13312.0   \n",
       "\n",
       "        Brand Printing Technology  \n",
       "0  Hammermill                      \n",
       "1  Hammermill                      \n",
       "2  Hammermill                      \n",
       "3  Hammermill                      \n",
       "4  Hammermill                      "
      ]
     },
     "execution_count": 27,
     "metadata": {},
     "output_type": "execute_result"
    }
   ],
   "source": [
    "new_printers.head()"
   ]
  },
  {
   "cell_type": "code",
   "execution_count": 28,
   "metadata": {},
   "outputs": [],
   "source": [
    "new_printers.to_csv(\"ShortDatasets/Printers.csv\")"
   ]
  },
  {
   "cell_type": "markdown",
   "metadata": {},
   "source": [
    "## Laptops "
   ]
  },
  {
   "cell_type": "code",
   "execution_count": 26,
   "metadata": {},
   "outputs": [],
   "source": [
    "laptops = pd.read_csv(\"FullDatasets/LaptopDataset.csv\")"
   ]
  },
  {
   "cell_type": "code",
   "execution_count": 27,
   "metadata": {},
   "outputs": [
    {
     "data": {
      "text/html": [
       "<div>\n",
       "<style scoped>\n",
       "    .dataframe tbody tr th:only-of-type {\n",
       "        vertical-align: middle;\n",
       "    }\n",
       "\n",
       "    .dataframe tbody tr th {\n",
       "        vertical-align: top;\n",
       "    }\n",
       "\n",
       "    .dataframe thead th {\n",
       "        text-align: right;\n",
       "    }\n",
       "</style>\n",
       "<table border=\"1\" class=\"dataframe\">\n",
       "  <thead>\n",
       "    <tr style=\"text-align: right;\">\n",
       "      <th></th>\n",
       "      <th>Category</th>\n",
       "      <th>Product Name</th>\n",
       "      <th>Product Price</th>\n",
       "      <th>product URL</th>\n",
       "      <th>Product Features</th>\n",
       "      <th>Ratings</th>\n",
       "      <th>Total Reviews</th>\n",
       "    </tr>\n",
       "  </thead>\n",
       "  <tbody>\n",
       "    <tr>\n",
       "      <th>0</th>\n",
       "      <td>Mobile</td>\n",
       "      <td>2021 Newest HP 15.6 HD Laptop for Business and...</td>\n",
       "      <td>$639.00</td>\n",
       "      <td>https://www.amazon.com//gp/slredirect/picassoR...</td>\n",
       "      <td>{'Brand': 'HP', 'Operating System': 'Windows 1...</td>\n",
       "      <td>NaN</td>\n",
       "      <td>NaN</td>\n",
       "    </tr>\n",
       "    <tr>\n",
       "      <th>1</th>\n",
       "      <td>Mobile</td>\n",
       "      <td>HP Laptop, 15.6\" HD Touchscreen, AMD Athlon Go...</td>\n",
       "      <td>$519.00</td>\n",
       "      <td>https://www.amazon.com//gp/slredirect/picassoR...</td>\n",
       "      <td>{'Brand': 'HP', 'Operating System': 'Windows 1...</td>\n",
       "      <td>NaN</td>\n",
       "      <td>NaN</td>\n",
       "    </tr>\n",
       "    <tr>\n",
       "      <th>2</th>\n",
       "      <td>Mobile</td>\n",
       "      <td>HP 15 Laptop, 11th Gen Intel Core i5-1135G7 Pr...</td>\n",
       "      <td>$649.99</td>\n",
       "      <td>https://www.amazon.com//HP-i5-1135G7-Processor...</td>\n",
       "      <td>{'Brand': 'HP', 'Operating System': 'Windows 1...</td>\n",
       "      <td>NaN</td>\n",
       "      <td>NaN</td>\n",
       "    </tr>\n",
       "    <tr>\n",
       "      <th>3</th>\n",
       "      <td>Mobile</td>\n",
       "      <td>HP Stream 14-cb Laptop Intel Celeron 4GB RAM 6...</td>\n",
       "      <td>$295.98</td>\n",
       "      <td>https://www.amazon.com//HP-Stream-Celeron-14-i...</td>\n",
       "      <td>{'Brand': 'HP', 'Operating System': 'Windows 1...</td>\n",
       "      <td>NaN</td>\n",
       "      <td>NaN</td>\n",
       "    </tr>\n",
       "    <tr>\n",
       "      <th>4</th>\n",
       "      <td>Mobile</td>\n",
       "      <td>2021 HP 14\" HD Slim and Light Laptop, Intel Ce...</td>\n",
       "      <td>$358.90</td>\n",
       "      <td>https://www.amazon.com//HP-Processor-Accessori...</td>\n",
       "      <td>{'Brand': 'HP', 'Operating System': 'Windows 1...</td>\n",
       "      <td>NaN</td>\n",
       "      <td>NaN</td>\n",
       "    </tr>\n",
       "  </tbody>\n",
       "</table>\n",
       "</div>"
      ],
      "text/plain": [
       "  Category                                       Product Name Product Price  \\\n",
       "0   Mobile  2021 Newest HP 15.6 HD Laptop for Business and...       $639.00   \n",
       "1   Mobile  HP Laptop, 15.6\" HD Touchscreen, AMD Athlon Go...       $519.00   \n",
       "2   Mobile  HP 15 Laptop, 11th Gen Intel Core i5-1135G7 Pr...       $649.99   \n",
       "3   Mobile  HP Stream 14-cb Laptop Intel Celeron 4GB RAM 6...       $295.98   \n",
       "4   Mobile  2021 HP 14\" HD Slim and Light Laptop, Intel Ce...       $358.90   \n",
       "\n",
       "                                         product URL  \\\n",
       "0  https://www.amazon.com//gp/slredirect/picassoR...   \n",
       "1  https://www.amazon.com//gp/slredirect/picassoR...   \n",
       "2  https://www.amazon.com//HP-i5-1135G7-Processor...   \n",
       "3  https://www.amazon.com//HP-Stream-Celeron-14-i...   \n",
       "4  https://www.amazon.com//HP-Processor-Accessori...   \n",
       "\n",
       "                                    Product Features  Ratings  Total Reviews  \n",
       "0  {'Brand': 'HP', 'Operating System': 'Windows 1...      NaN            NaN  \n",
       "1  {'Brand': 'HP', 'Operating System': 'Windows 1...      NaN            NaN  \n",
       "2  {'Brand': 'HP', 'Operating System': 'Windows 1...      NaN            NaN  \n",
       "3  {'Brand': 'HP', 'Operating System': 'Windows 1...      NaN            NaN  \n",
       "4  {'Brand': 'HP', 'Operating System': 'Windows 1...      NaN            NaN  "
      ]
     },
     "execution_count": 27,
     "metadata": {},
     "output_type": "execute_result"
    }
   ],
   "source": [
    "laptops.head()"
   ]
  },
  {
   "cell_type": "code",
   "execution_count": 28,
   "metadata": {},
   "outputs": [],
   "source": [
    "new_laptops = laptops.drop(\"Category\", axis=1)"
   ]
  },
  {
   "cell_type": "code",
   "execution_count": 29,
   "metadata": {},
   "outputs": [
    {
     "name": "stderr",
     "output_type": "stream",
     "text": [
      "/home/intel123/anaconda3/lib/python3.7/site-packages/ipykernel_launcher.py:3: SettingWithCopyWarning: \n",
      "A value is trying to be set on a copy of a slice from a DataFrame\n",
      "\n",
      "See the caveats in the documentation: http://pandas.pydata.org/pandas-docs/stable/indexing.html#indexing-view-versus-copy\n",
      "  This is separate from the ipykernel package so we can avoid doing imports until\n",
      "/home/intel123/anaconda3/lib/python3.7/site-packages/ipykernel_launcher.py:4: SettingWithCopyWarning: \n",
      "A value is trying to be set on a copy of a slice from a DataFrame\n",
      "\n",
      "See the caveats in the documentation: http://pandas.pydata.org/pandas-docs/stable/indexing.html#indexing-view-versus-copy\n",
      "  after removing the cwd from sys.path.\n"
     ]
    }
   ],
   "source": [
    "features = laptops[\"Product Features\"]\n",
    "for i in range(len(features)) :\n",
    "    features[i] = features[i].replace(\"'\", '\"')\n",
    "    features[i] = json.loads(features[i])\n",
    "    new_laptops[\"Product Features\"] = features"
   ]
  },
  {
   "cell_type": "code",
   "execution_count": 30,
   "metadata": {},
   "outputs": [],
   "source": [
    "prices = new_laptops[\"Product Price\"]\n",
    "prices = [prices[i].replace(\"$\", \"\") for i in range(len(prices))]\n",
    "prices = [prices[i].replace(\",\", \"\") for i in range(len(prices))]\n",
    "prices = [float(prices[i]) for i in range(len(prices))]\n",
    "new_laptops[\"Product Price\"] = prices"
   ]
  },
  {
   "cell_type": "code",
   "execution_count": 31,
   "metadata": {},
   "outputs": [
    {
     "name": "stdout",
     "output_type": "stream",
     "text": [
      "Missing Brands: 0\n"
     ]
    }
   ],
   "source": [
    "features = new_laptops[\"Product Features\"]\n",
    "brands = []\n",
    "missing_brands = 0\n",
    "for i in range(len(features)) :\n",
    "    if \"Brand\" in features.iloc[i].keys() :\n",
    "        brands.append(features.iloc[i][\"Brand\"])\n",
    "    else :\n",
    "        brands.append(\"\")\n",
    "        missing_brands += 1\n",
    "new_laptops[\"Brand\"] = brands\n",
    "print(\"Missing Brands:\", missing_brands)"
   ]
  },
  {
   "cell_type": "code",
   "execution_count": 32,
   "metadata": {},
   "outputs": [
    {
     "name": "stdout",
     "output_type": "stream",
     "text": [
      "Missing OS: 10\n"
     ]
    }
   ],
   "source": [
    "features = new_laptops[\"Product Features\"]\n",
    "os = []\n",
    "missing_os = 0\n",
    "for i in range(len(features)) :\n",
    "    if \"Operating System\" in features.iloc[i].keys() :\n",
    "        os.append(features.iloc[i][\"Operating System\"])\n",
    "    else :\n",
    "        os.append(\"\")\n",
    "        missing_os += 1\n",
    "new_laptops[\"Operating System\"] = os\n",
    "print(\"Missing OS:\", missing_os)"
   ]
  },
  {
   "cell_type": "code",
   "execution_count": 33,
   "metadata": {},
   "outputs": [
    {
     "name": "stdout",
     "output_type": "stream",
     "text": [
      "Missing MEM: 8\n"
     ]
    }
   ],
   "source": [
    "features = new_laptops[\"Product Features\"]\n",
    "mem = []\n",
    "missing_mem = 0\n",
    "for i in range(len(features)) :\n",
    "    if \"Computer Memory Size\" in features.iloc[i].keys() :\n",
    "        mem.append(features.iloc[i][\"Computer Memory Size\"])\n",
    "    else :\n",
    "        mem.append(\"\")\n",
    "        missing_mem += 1\n",
    "new_laptops[\"Memory\"] = mem\n",
    "print(\"Missing MEM:\", missing_mem)"
   ]
  },
  {
   "cell_type": "code",
   "execution_count": 34,
   "metadata": {},
   "outputs": [
    {
     "name": "stdout",
     "output_type": "stream",
     "text": [
      "Missing Ratings: 14\n"
     ]
    }
   ],
   "source": [
    "ratings = []\n",
    "missing_ratings = 0\n",
    "for i in range(len(new_laptops)) :\n",
    "    if \"Customer Reviews\" in new_laptops.iloc[i][\"Product Features\"] :\n",
    "        rating = new_laptops.iloc[i][\"Product Features\"][\"Customer Reviews\"].split('\\n')[0]\n",
    "        rating = float(rating.split()[0])\n",
    "        ratings.append(rating)\n",
    "    else :\n",
    "        ratings.append(\"\")\n",
    "        missing_ratings += 1\n",
    "new_laptops[\"Ratings\"] = ratings  \n",
    "print(\"Missing Ratings:\", missing_ratings)"
   ]
  },
  {
   "cell_type": "code",
   "execution_count": 36,
   "metadata": {},
   "outputs": [],
   "source": [
    "new_laptops = new_laptops.drop(\"Product Features\", axis=1)"
   ]
  },
  {
   "cell_type": "code",
   "execution_count": 37,
   "metadata": {},
   "outputs": [],
   "source": [
    "new_laptops.to_csv(\"ShortDatasets/Laptops.csv\")"
   ]
  },
  {
   "cell_type": "code",
   "execution_count": 39,
   "metadata": {},
   "outputs": [
    {
     "data": {
      "text/plain": [
       "count     175.000000\n",
       "mean      635.609600\n",
       "std       367.117307\n",
       "min        15.990000\n",
       "25%       379.915000\n",
       "50%       559.000000\n",
       "75%       799.000000\n",
       "max      2366.940000\n",
       "Name: Product Price, dtype: float64"
      ]
     },
     "execution_count": 39,
     "metadata": {},
     "output_type": "execute_result"
    }
   ],
   "source": [
    "new_laptops[\"Product Price\"].describe()"
   ]
  },
  {
   "cell_type": "markdown",
   "metadata": {},
   "source": [
    "## Drives "
   ]
  },
  {
   "cell_type": "code",
   "execution_count": 100,
   "metadata": {},
   "outputs": [],
   "source": [
    "drives = pd.read_csv(\"FullDatasets/Hard_Drive.csv\")"
   ]
  },
  {
   "cell_type": "code",
   "execution_count": 101,
   "metadata": {},
   "outputs": [
    {
     "data": {
      "text/html": [
       "<div>\n",
       "<style scoped>\n",
       "    .dataframe tbody tr th:only-of-type {\n",
       "        vertical-align: middle;\n",
       "    }\n",
       "\n",
       "    .dataframe tbody tr th {\n",
       "        vertical-align: top;\n",
       "    }\n",
       "\n",
       "    .dataframe thead th {\n",
       "        text-align: right;\n",
       "    }\n",
       "</style>\n",
       "<table border=\"1\" class=\"dataframe\">\n",
       "  <thead>\n",
       "    <tr style=\"text-align: right;\">\n",
       "      <th></th>\n",
       "      <th>Category</th>\n",
       "      <th>Product Name</th>\n",
       "      <th>Product Price</th>\n",
       "      <th>product URL</th>\n",
       "      <th>Product Features</th>\n",
       "      <th>Ratings</th>\n",
       "      <th>Total Reviews</th>\n",
       "    </tr>\n",
       "  </thead>\n",
       "  <tbody>\n",
       "    <tr>\n",
       "      <th>0</th>\n",
       "      <td>Hard_Drive</td>\n",
       "      <td>HP 1 Tb 2.5-Inch Internal Hard Drive 652749-B21</td>\n",
       "      <td>$274.00</td>\n",
       "      <td>https://www.amazon.com//HP-2-5-Inch-Internal-D...</td>\n",
       "      <td>{'Brand': 'HP', 'Form Factor': '2.5 Inches', '...</td>\n",
       "      <td>4.2 out of 5 stars</td>\n",
       "      <td>10</td>\n",
       "    </tr>\n",
       "    <tr>\n",
       "      <th>1</th>\n",
       "      <td>Hard_Drive</td>\n",
       "      <td>Toshiba (HDTB420XK3AA) Canvio Basics 2TB Porta...</td>\n",
       "      <td>$57.99</td>\n",
       "      <td>https://www.amazon.com//gp/slredirect/picassoR...</td>\n",
       "      <td>{'Brand': 'Toshiba', 'Form Factor': '2.5 inche...</td>\n",
       "      <td>4.7 out of 5 stars</td>\n",
       "      <td>33583</td>\n",
       "    </tr>\n",
       "    <tr>\n",
       "      <th>2</th>\n",
       "      <td>Hard_Drive</td>\n",
       "      <td>HP EliteDesk 800 G2 Business Class Desktop, In...</td>\n",
       "      <td>$223.00</td>\n",
       "      <td>https://www.amazon.com//HP-EliteDesk-800-G2-Bu...</td>\n",
       "      <td>{'Brand': 'HP', 'CPU Model': 'Core i5', 'Compu...</td>\n",
       "      <td>4.4 out of 5 stars</td>\n",
       "      <td>68</td>\n",
       "    </tr>\n",
       "    <tr>\n",
       "      <th>3</th>\n",
       "      <td>Hard_Drive</td>\n",
       "      <td>HP Pavilion Desktop Computer, Intel Core i3-91...</td>\n",
       "      <td>$569.99</td>\n",
       "      <td>https://www.amazon.com//HP-Pavilion-Desktop-Co...</td>\n",
       "      <td>{'Brand': 'HP', 'CPU Model': 'Intel Core i3', ...</td>\n",
       "      <td>4.4 out of 5 stars</td>\n",
       "      <td>69</td>\n",
       "    </tr>\n",
       "    <tr>\n",
       "      <th>4</th>\n",
       "      <td>Hard_Drive</td>\n",
       "      <td>Seagate Skyhawk 6TB Surveillance Internal Hard...</td>\n",
       "      <td>$144.99</td>\n",
       "      <td>https://www.amazon.com//gp/slredirect/picassoR...</td>\n",
       "      <td>{'Brand': 'Seagate', 'Form Factor': '3.5-Inch'...</td>\n",
       "      <td>4.7 out of 5 stars</td>\n",
       "      <td>2400</td>\n",
       "    </tr>\n",
       "  </tbody>\n",
       "</table>\n",
       "</div>"
      ],
      "text/plain": [
       "     Category                                       Product Name  \\\n",
       "0  Hard_Drive    HP 1 Tb 2.5-Inch Internal Hard Drive 652749-B21   \n",
       "1  Hard_Drive  Toshiba (HDTB420XK3AA) Canvio Basics 2TB Porta...   \n",
       "2  Hard_Drive  HP EliteDesk 800 G2 Business Class Desktop, In...   \n",
       "3  Hard_Drive  HP Pavilion Desktop Computer, Intel Core i3-91...   \n",
       "4  Hard_Drive  Seagate Skyhawk 6TB Surveillance Internal Hard...   \n",
       "\n",
       "  Product Price                                        product URL  \\\n",
       "0       $274.00  https://www.amazon.com//HP-2-5-Inch-Internal-D...   \n",
       "1        $57.99  https://www.amazon.com//gp/slredirect/picassoR...   \n",
       "2       $223.00  https://www.amazon.com//HP-EliteDesk-800-G2-Bu...   \n",
       "3       $569.99  https://www.amazon.com//HP-Pavilion-Desktop-Co...   \n",
       "4       $144.99  https://www.amazon.com//gp/slredirect/picassoR...   \n",
       "\n",
       "                                    Product Features             Ratings  \\\n",
       "0  {'Brand': 'HP', 'Form Factor': '2.5 Inches', '...  4.2 out of 5 stars   \n",
       "1  {'Brand': 'Toshiba', 'Form Factor': '2.5 inche...  4.7 out of 5 stars   \n",
       "2  {'Brand': 'HP', 'CPU Model': 'Core i5', 'Compu...  4.4 out of 5 stars   \n",
       "3  {'Brand': 'HP', 'CPU Model': 'Intel Core i3', ...  4.4 out of 5 stars   \n",
       "4  {'Brand': 'Seagate', 'Form Factor': '3.5-Inch'...  4.7 out of 5 stars   \n",
       "\n",
       "  Total Reviews  \n",
       "0            10  \n",
       "1         33583  \n",
       "2            68  \n",
       "3            69  \n",
       "4          2400  "
      ]
     },
     "execution_count": 101,
     "metadata": {},
     "output_type": "execute_result"
    }
   ],
   "source": [
    "drives.head()"
   ]
  },
  {
   "cell_type": "code",
   "execution_count": 102,
   "metadata": {},
   "outputs": [],
   "source": [
    "new_drives = drives.drop(\"Category\", axis=1)"
   ]
  },
  {
   "cell_type": "code",
   "execution_count": 103,
   "metadata": {},
   "outputs": [],
   "source": [
    "features = drives[\"Product Features\"]\n",
    "for i in range(len(features)) :\n",
    "    features[i] = features[i].replace(\"'\", '\"')\n",
    "    features[i] = json.loads(features[i])\n",
    "    new_drives[\"Product Features\"] = features"
   ]
  },
  {
   "cell_type": "code",
   "execution_count": 105,
   "metadata": {},
   "outputs": [],
   "source": [
    "prices = new_drives[\"Product Price\"]\n",
    "prices = [prices[i].replace(\"$\", \"\") for i in range(len(prices))]\n",
    "prices = [prices[i].replace(\",\", \"\") for i in range(len(prices))]\n",
    "prices = [float(prices[i]) for i in range(len(prices))]\n",
    "new_drives[\"Product Price\"] = prices"
   ]
  },
  {
   "cell_type": "code",
   "execution_count": 106,
   "metadata": {},
   "outputs": [
    {
     "name": "stdout",
     "output_type": "stream",
     "text": [
      "Missing Brands: 26\n"
     ]
    }
   ],
   "source": [
    "features = new_drives[\"Product Features\"]\n",
    "brands = []\n",
    "missing_brands = 0\n",
    "for i in range(len(features)) :\n",
    "    if \"Brand\" in features.iloc[i].keys() :\n",
    "        brands.append(features.iloc[i][\"Brand\"])\n",
    "    else :\n",
    "        brands.append(\"\")\n",
    "        missing_brands += 1\n",
    "new_drives[\"Brand\"] = brands\n",
    "print(\"Missing Brands:\", missing_brands)"
   ]
  },
  {
   "cell_type": "code",
   "execution_count": 108,
   "metadata": {},
   "outputs": [
    {
     "name": "stdout",
     "output_type": "stream",
     "text": [
      "Missing Connectors: 52\n"
     ]
    }
   ],
   "source": [
    "conn = []\n",
    "missing_conn = 0\n",
    "for i in range(len(features)) :\n",
    "    if \"Hardware Interface\" in features.iloc[i].keys() :\n",
    "        conn.append(features.iloc[i][\"Hardware Interface\"])\n",
    "    else :\n",
    "        conn.append(\"\")\n",
    "        missing_conn += 1\n",
    "new_drives[\"Hardware Interface\"] = conn\n",
    "print(\"Missing Connectors:\", missing_conn)"
   ]
  },
  {
   "cell_type": "code",
   "execution_count": 109,
   "metadata": {},
   "outputs": [
    {
     "name": "stdout",
     "output_type": "stream",
     "text": [
      "Missing Memory: 55\n"
     ]
    }
   ],
   "source": [
    "mem = []\n",
    "missing_mem = 0\n",
    "for i in range(len(features)) :\n",
    "    if \"Digital Storage Capacity\" in features.iloc[i].keys() :\n",
    "        mem.append(features.iloc[i][\"Digital Storage Capacity\"])\n",
    "    elif \"Memory Storage Capacity\" in features.iloc[i].keys() :\n",
    "        mem.append(features.iloc[i][\"Memory Storage Capacity\"])\n",
    "    else :\n",
    "        mem.append(\"\")\n",
    "        missing_mem += 1\n",
    "new_drives[\"Memory\"] = mem\n",
    "print(\"Missing Memory:\", missing_mem)"
   ]
  },
  {
   "cell_type": "code",
   "execution_count": 110,
   "metadata": {},
   "outputs": [
    {
     "data": {
      "text/html": [
       "<div>\n",
       "<style scoped>\n",
       "    .dataframe tbody tr th:only-of-type {\n",
       "        vertical-align: middle;\n",
       "    }\n",
       "\n",
       "    .dataframe tbody tr th {\n",
       "        vertical-align: top;\n",
       "    }\n",
       "\n",
       "    .dataframe thead th {\n",
       "        text-align: right;\n",
       "    }\n",
       "</style>\n",
       "<table border=\"1\" class=\"dataframe\">\n",
       "  <thead>\n",
       "    <tr style=\"text-align: right;\">\n",
       "      <th></th>\n",
       "      <th>Product Name</th>\n",
       "      <th>Product Price</th>\n",
       "      <th>product URL</th>\n",
       "      <th>Product Features</th>\n",
       "      <th>Ratings</th>\n",
       "      <th>Total Reviews</th>\n",
       "      <th>Brand</th>\n",
       "      <th>Hardware Interface</th>\n",
       "      <th>Memory</th>\n",
       "    </tr>\n",
       "  </thead>\n",
       "  <tbody>\n",
       "    <tr>\n",
       "      <th>0</th>\n",
       "      <td>HP 1 Tb 2.5-Inch Internal Hard Drive 652749-B21</td>\n",
       "      <td>274.00</td>\n",
       "      <td>https://www.amazon.com//HP-2-5-Inch-Internal-D...</td>\n",
       "      <td>{'Brand': 'HP', 'Form Factor': '2.5 Inches', '...</td>\n",
       "      <td>4.2 out of 5 stars</td>\n",
       "      <td>10</td>\n",
       "      <td>HP</td>\n",
       "      <td>SAS</td>\n",
       "      <td>1 TB</td>\n",
       "    </tr>\n",
       "    <tr>\n",
       "      <th>1</th>\n",
       "      <td>Toshiba (HDTB420XK3AA) Canvio Basics 2TB Porta...</td>\n",
       "      <td>57.99</td>\n",
       "      <td>https://www.amazon.com//gp/slredirect/picassoR...</td>\n",
       "      <td>{'Brand': 'Toshiba', 'Form Factor': '2.5 inche...</td>\n",
       "      <td>4.7 out of 5 stars</td>\n",
       "      <td>33583</td>\n",
       "      <td>Toshiba</td>\n",
       "      <td>USB 3.0</td>\n",
       "      <td>2 TB</td>\n",
       "    </tr>\n",
       "    <tr>\n",
       "      <th>2</th>\n",
       "      <td>HP EliteDesk 800 G2 Business Class Desktop, In...</td>\n",
       "      <td>223.00</td>\n",
       "      <td>https://www.amazon.com//HP-EliteDesk-800-G2-Bu...</td>\n",
       "      <td>{'Brand': 'HP', 'CPU Model': 'Core i5', 'Compu...</td>\n",
       "      <td>4.4 out of 5 stars</td>\n",
       "      <td>68</td>\n",
       "      <td>HP</td>\n",
       "      <td></td>\n",
       "      <td></td>\n",
       "    </tr>\n",
       "    <tr>\n",
       "      <th>3</th>\n",
       "      <td>HP Pavilion Desktop Computer, Intel Core i3-91...</td>\n",
       "      <td>569.99</td>\n",
       "      <td>https://www.amazon.com//HP-Pavilion-Desktop-Co...</td>\n",
       "      <td>{'Brand': 'HP', 'CPU Model': 'Intel Core i3', ...</td>\n",
       "      <td>4.4 out of 5 stars</td>\n",
       "      <td>69</td>\n",
       "      <td>HP</td>\n",
       "      <td></td>\n",
       "      <td></td>\n",
       "    </tr>\n",
       "    <tr>\n",
       "      <th>4</th>\n",
       "      <td>Seagate Skyhawk 6TB Surveillance Internal Hard...</td>\n",
       "      <td>144.99</td>\n",
       "      <td>https://www.amazon.com//gp/slredirect/picassoR...</td>\n",
       "      <td>{'Brand': 'Seagate', 'Form Factor': '3.5-Inch'...</td>\n",
       "      <td>4.7 out of 5 stars</td>\n",
       "      <td>2400</td>\n",
       "      <td>Seagate</td>\n",
       "      <td>SATA 6.0 Gb/s</td>\n",
       "      <td>6 TB</td>\n",
       "    </tr>\n",
       "  </tbody>\n",
       "</table>\n",
       "</div>"
      ],
      "text/plain": [
       "                                        Product Name  Product Price  \\\n",
       "0    HP 1 Tb 2.5-Inch Internal Hard Drive 652749-B21         274.00   \n",
       "1  Toshiba (HDTB420XK3AA) Canvio Basics 2TB Porta...          57.99   \n",
       "2  HP EliteDesk 800 G2 Business Class Desktop, In...         223.00   \n",
       "3  HP Pavilion Desktop Computer, Intel Core i3-91...         569.99   \n",
       "4  Seagate Skyhawk 6TB Surveillance Internal Hard...         144.99   \n",
       "\n",
       "                                         product URL  \\\n",
       "0  https://www.amazon.com//HP-2-5-Inch-Internal-D...   \n",
       "1  https://www.amazon.com//gp/slredirect/picassoR...   \n",
       "2  https://www.amazon.com//HP-EliteDesk-800-G2-Bu...   \n",
       "3  https://www.amazon.com//HP-Pavilion-Desktop-Co...   \n",
       "4  https://www.amazon.com//gp/slredirect/picassoR...   \n",
       "\n",
       "                                    Product Features             Ratings  \\\n",
       "0  {'Brand': 'HP', 'Form Factor': '2.5 Inches', '...  4.2 out of 5 stars   \n",
       "1  {'Brand': 'Toshiba', 'Form Factor': '2.5 inche...  4.7 out of 5 stars   \n",
       "2  {'Brand': 'HP', 'CPU Model': 'Core i5', 'Compu...  4.4 out of 5 stars   \n",
       "3  {'Brand': 'HP', 'CPU Model': 'Intel Core i3', ...  4.4 out of 5 stars   \n",
       "4  {'Brand': 'Seagate', 'Form Factor': '3.5-Inch'...  4.7 out of 5 stars   \n",
       "\n",
       "  Total Reviews    Brand Hardware Interface Memory  \n",
       "0            10       HP                SAS   1 TB  \n",
       "1         33583  Toshiba            USB 3.0   2 TB  \n",
       "2            68       HP                            \n",
       "3            69       HP                            \n",
       "4          2400  Seagate      SATA 6.0 Gb/s   6 TB  "
      ]
     },
     "execution_count": 110,
     "metadata": {},
     "output_type": "execute_result"
    }
   ],
   "source": [
    "new_drives.head()"
   ]
  },
  {
   "cell_type": "code",
   "execution_count": 111,
   "metadata": {},
   "outputs": [],
   "source": [
    "new_drives = new_drives.drop(\"Product Features\", axis=1)"
   ]
  },
  {
   "cell_type": "code",
   "execution_count": 112,
   "metadata": {},
   "outputs": [],
   "source": [
    "new_drives.to_csv(\"ShortDatasets/Drives.csv\")"
   ]
  },
  {
   "cell_type": "code",
   "execution_count": 113,
   "metadata": {},
   "outputs": [
    {
     "data": {
      "text/plain": [
       "count     175.000000\n",
       "mean      226.889943\n",
       "std       320.439065\n",
       "min         5.490000\n",
       "25%        45.945000\n",
       "50%       105.980000\n",
       "75%       235.800000\n",
       "max      1999.000000\n",
       "Name: Product Price, dtype: float64"
      ]
     },
     "execution_count": 113,
     "metadata": {},
     "output_type": "execute_result"
    }
   ],
   "source": [
    "new_drives[\"Product Price\"].describe()"
   ]
  },
  {
   "cell_type": "code",
   "execution_count": 58,
   "metadata": {},
   "outputs": [],
   "source": [
    "avail_keys = []\n",
    "for i in range(len(features)) :\n",
    "    #print(features[i].keys())\n",
    "    avail_keys.extend(list(features[i].keys()))\n",
    "avail_keys = set(avail_keys)"
   ]
  },
  {
   "cell_type": "code",
   "execution_count": 59,
   "metadata": {},
   "outputs": [
    {
     "name": "stdout",
     "output_type": "stream",
     "text": [
      "CPU Model 163\n",
      "Write Speed 167\n",
      "Cable Type 174\n",
      "CPU Manufacturer 162\n",
      "Flash Memory Type 174\n",
      "Series 166\n",
      "Computer Memory Size 150\n",
      "Compatible Devices 119\n",
      "Item model number 156\n",
      "Graphics Coprocessor 174\n",
      "Date First Available 125\n",
      "Screen Size 161\n",
      "Domestic Shipping 172\n",
      "Best Sellers Rank 5\n",
      "Product Dimensions 160\n",
      "Hardware Interface 52\n",
      "Connector Type 174\n",
      "International Shipping 172\n",
      "Operating System 162\n",
      "Form Factor 104\n",
      "Optical Storage Read Speed 174\n",
      "Brand 26\n",
      "Department 174\n",
      "Read Speed 116\n",
      "Language 174\n",
      "Package Dimensions 164\n",
      "Item Dimensions LxWxH 172\n",
      "Digital Storage Capacity 62\n",
      "Is Discontinued By Manufacturer 159\n",
      "Batteries 173\n",
      "Cache Size 160\n",
      "Ram Memory Installed Size 163\n",
      "ASIN 125\n",
      "Manufacturer 149\n",
      "Number of Ports 174\n",
      "Material 174\n",
      "Item Weight 148\n",
      "Customer Reviews 17\n",
      "Total USB Ports 174\n",
      "Color 162\n",
      "Memory Storage Capacity 168\n"
     ]
    }
   ],
   "source": [
    "for key in avail_keys :\n",
    "    missing = 0\n",
    "    for i in range(len(features)) :\n",
    "        if not key in features[i].keys() :\n",
    "            missing += 1\n",
    "    print(key, missing)"
   ]
  },
  {
   "cell_type": "markdown",
   "metadata": {},
   "source": [
    "## Watches "
   ]
  },
  {
   "cell_type": "code",
   "execution_count": 66,
   "metadata": {},
   "outputs": [],
   "source": [
    "watches = pd.read_csv(\"FullDatasets/SmartWatches.csv\")"
   ]
  },
  {
   "cell_type": "code",
   "execution_count": 67,
   "metadata": {},
   "outputs": [
    {
     "data": {
      "text/html": [
       "<div>\n",
       "<style scoped>\n",
       "    .dataframe tbody tr th:only-of-type {\n",
       "        vertical-align: middle;\n",
       "    }\n",
       "\n",
       "    .dataframe tbody tr th {\n",
       "        vertical-align: top;\n",
       "    }\n",
       "\n",
       "    .dataframe thead th {\n",
       "        text-align: right;\n",
       "    }\n",
       "</style>\n",
       "<table border=\"1\" class=\"dataframe\">\n",
       "  <thead>\n",
       "    <tr style=\"text-align: right;\">\n",
       "      <th></th>\n",
       "      <th>Category</th>\n",
       "      <th>Product Name</th>\n",
       "      <th>Product Price</th>\n",
       "      <th>product URL</th>\n",
       "      <th>Product Features</th>\n",
       "      <th>Ratings</th>\n",
       "      <th>Total Reviews</th>\n",
       "    </tr>\n",
       "  </thead>\n",
       "  <tbody>\n",
       "    <tr>\n",
       "      <th>0</th>\n",
       "      <td>Mobile</td>\n",
       "      <td>Willful Smart Watch for Android Phones and iOS...</td>\n",
       "      <td>$35.99</td>\n",
       "      <td>https://www.amazon.com//gp/slredirect/picassoR...</td>\n",
       "      <td>{'Supported Application': 'Fitness Tracker, Sl...</td>\n",
       "      <td>4.3 out of 5 stars</td>\n",
       "      <td>47337.0</td>\n",
       "    </tr>\n",
       "    <tr>\n",
       "      <th>1</th>\n",
       "      <td>Mobile</td>\n",
       "      <td>Willful Smart Watch for Men Women IP68 Waterpr...</td>\n",
       "      <td>$29.99</td>\n",
       "      <td>https://www.amazon.com//gp/slredirect/picassoR...</td>\n",
       "      <td>{'Supported Application': 'Fitness Tracker, He...</td>\n",
       "      <td>4.2 out of 5 stars</td>\n",
       "      <td>8611.0</td>\n",
       "    </tr>\n",
       "    <tr>\n",
       "      <th>2</th>\n",
       "      <td>Mobile</td>\n",
       "      <td>Willful Smart Watch, Watches for Men Women IP6...</td>\n",
       "      <td>$31.99</td>\n",
       "      <td>https://www.amazon.com//Willful-Smartwatch-Ped...</td>\n",
       "      <td>{'Supported Application': 'Fitness Tracker, Sl...</td>\n",
       "      <td>4.5 out of 5 stars</td>\n",
       "      <td>3451.0</td>\n",
       "    </tr>\n",
       "    <tr>\n",
       "      <th>3</th>\n",
       "      <td>Mobile</td>\n",
       "      <td>Willful Smart Watch for Android Phones Compati...</td>\n",
       "      <td>$39.99</td>\n",
       "      <td>https://www.amazon.com//Willful-Compatible-Swi...</td>\n",
       "      <td>{'Supported Application': 'Fitness Tracker, Sl...</td>\n",
       "      <td>4.2 out of 5 stars</td>\n",
       "      <td>5249.0</td>\n",
       "    </tr>\n",
       "    <tr>\n",
       "      <th>4</th>\n",
       "      <td>Mobile</td>\n",
       "      <td>Willful Smart Watch for Android Phones Compati...</td>\n",
       "      <td>$39.99</td>\n",
       "      <td>https://www.amazon.com//gp/slredirect/picassoR...</td>\n",
       "      <td>{'Supported Application': 'Fitness Tracker, Sl...</td>\n",
       "      <td>4.2 out of 5 stars</td>\n",
       "      <td>5249.0</td>\n",
       "    </tr>\n",
       "  </tbody>\n",
       "</table>\n",
       "</div>"
      ],
      "text/plain": [
       "  Category                                       Product Name Product Price  \\\n",
       "0   Mobile  Willful Smart Watch for Android Phones and iOS...        $35.99   \n",
       "1   Mobile  Willful Smart Watch for Men Women IP68 Waterpr...        $29.99   \n",
       "2   Mobile  Willful Smart Watch, Watches for Men Women IP6...        $31.99   \n",
       "3   Mobile  Willful Smart Watch for Android Phones Compati...        $39.99   \n",
       "4   Mobile  Willful Smart Watch for Android Phones Compati...        $39.99   \n",
       "\n",
       "                                         product URL  \\\n",
       "0  https://www.amazon.com//gp/slredirect/picassoR...   \n",
       "1  https://www.amazon.com//gp/slredirect/picassoR...   \n",
       "2  https://www.amazon.com//Willful-Smartwatch-Ped...   \n",
       "3  https://www.amazon.com//Willful-Compatible-Swi...   \n",
       "4  https://www.amazon.com//gp/slredirect/picassoR...   \n",
       "\n",
       "                                    Product Features             Ratings  \\\n",
       "0  {'Supported Application': 'Fitness Tracker, Sl...  4.3 out of 5 stars   \n",
       "1  {'Supported Application': 'Fitness Tracker, He...  4.2 out of 5 stars   \n",
       "2  {'Supported Application': 'Fitness Tracker, Sl...  4.5 out of 5 stars   \n",
       "3  {'Supported Application': 'Fitness Tracker, Sl...  4.2 out of 5 stars   \n",
       "4  {'Supported Application': 'Fitness Tracker, Sl...  4.2 out of 5 stars   \n",
       "\n",
       "   Total Reviews  \n",
       "0        47337.0  \n",
       "1         8611.0  \n",
       "2         3451.0  \n",
       "3         5249.0  \n",
       "4         5249.0  "
      ]
     },
     "execution_count": 67,
     "metadata": {},
     "output_type": "execute_result"
    }
   ],
   "source": [
    "watches.head()"
   ]
  },
  {
   "cell_type": "code",
   "execution_count": 68,
   "metadata": {},
   "outputs": [],
   "source": [
    "new_watches = watches.drop(\"Category\", axis=1)"
   ]
  },
  {
   "cell_type": "code",
   "execution_count": 69,
   "metadata": {},
   "outputs": [],
   "source": [
    "prices = new_watches[\"Product Price\"]\n",
    "prices = [prices[i].replace(\"$\", \"\") for i in range(len(prices))]\n",
    "prices = [prices[i].replace(\",\", \"\") for i in range(len(prices))]\n",
    "prices = [float(prices[i]) for i in range(len(prices))]\n",
    "new_watches[\"Product Price\"] = prices"
   ]
  },
  {
   "cell_type": "code",
   "execution_count": 70,
   "metadata": {},
   "outputs": [
    {
     "name": "stderr",
     "output_type": "stream",
     "text": [
      "/home/intel123/anaconda3/lib/python3.7/site-packages/ipykernel_launcher.py:3: SettingWithCopyWarning: \n",
      "A value is trying to be set on a copy of a slice from a DataFrame\n",
      "\n",
      "See the caveats in the documentation: http://pandas.pydata.org/pandas-docs/stable/indexing.html#indexing-view-versus-copy\n",
      "  This is separate from the ipykernel package so we can avoid doing imports until\n",
      "/home/intel123/anaconda3/lib/python3.7/site-packages/ipykernel_launcher.py:4: SettingWithCopyWarning: \n",
      "A value is trying to be set on a copy of a slice from a DataFrame\n",
      "\n",
      "See the caveats in the documentation: http://pandas.pydata.org/pandas-docs/stable/indexing.html#indexing-view-versus-copy\n",
      "  after removing the cwd from sys.path.\n"
     ]
    }
   ],
   "source": [
    "features = watches[\"Product Features\"]\n",
    "for i in range(len(features)) :\n",
    "    features[i] = features[i].replace(\"'\", '\"')\n",
    "    features[i] = json.loads(features[i])\n",
    "    new_watches[\"Product Features\"] = features"
   ]
  },
  {
   "cell_type": "code",
   "execution_count": 71,
   "metadata": {},
   "outputs": [],
   "source": [
    "avail_keys = []\n",
    "for i in range(len(features)) :\n",
    "    #print(features[i].keys())\n",
    "    avail_keys.extend(list(features[i].keys()))\n",
    "avail_keys = set(avail_keys)"
   ]
  },
  {
   "cell_type": "code",
   "execution_count": 72,
   "metadata": {},
   "outputs": [
    {
     "name": "stdout",
     "output_type": "stream",
     "text": [
      "Other display features 64\n",
      "Are Batteries Included 138\n",
      "Series 149\n",
      "GPS 95\n",
      "Battery Power 149\n",
      "Human Interface Input 68\n",
      "Colour 63\n",
      "Display Type 140\n",
      "Map Type 138\n",
      "Compatible Devices 144\n",
      "Item model number 77\n",
      "Connectivity Technology 74\n",
      "Screen Size 65\n",
      "Date First Available 45\n",
      "Wireless communication technologies 92\n",
      "Best Sellers Rank 45\n",
      "Supported Application 73\n",
      "Product Dimensions 74\n",
      "Display technology 123\n",
      "Model Name 149\n",
      "Device interface - primary 74\n",
      "Voice command 149\n",
      "Compatible Phone Models 149\n",
      "Wireless Communication Standard 87\n",
      "Operating System 123\n",
      "RAM 145\n",
      "Battery Life 127\n",
      "Battery Description 149\n",
      "Special Features 113\n",
      "Battery Power Rating 142\n",
      "Band Width 143\n",
      "Case Material 144\n",
      "Form Factor 130\n",
      "Connectivity technologies 78\n",
      "Brand 32\n",
      "Band Material Type 148\n",
      "Department 122\n",
      "Included Components 103\n",
      "Package Dimensions 123\n",
      "Wireless Carrier 130\n",
      "Item Dimensions LxWxH 129\n",
      "Sensor Type 146\n",
      "Is Discontinued By Manufacturer 124\n",
      "Batteries 63\n",
      "Scanner Resolution 146\n",
      "Water Resistance Level 79\n",
      "ASIN 45\n",
      "Battery Cell Composition 110\n",
      "Manufacturer 48\n",
      "Display resolution 142\n",
      "Water Resistance Depth 142\n",
      "Material 143\n",
      "Item Weight 45\n",
      "Customer Reviews 47\n",
      "OS 109\n",
      "Color 39\n",
      "Band Color 112\n",
      "Memory Storage Capacity 147\n"
     ]
    }
   ],
   "source": [
    "for key in avail_keys :\n",
    "    missing = 0\n",
    "    for i in range(len(features)) :\n",
    "        if not key in features[i].keys() :\n",
    "            missing += 1\n",
    "    print(key, missing)"
   ]
  },
  {
   "cell_type": "code",
   "execution_count": 74,
   "metadata": {},
   "outputs": [
    {
     "name": "stdout",
     "output_type": "stream",
     "text": [
      "Missing Brands: 32\n"
     ]
    }
   ],
   "source": [
    "features = new_watches[\"Product Features\"]\n",
    "brands = []\n",
    "missing_brands = 0\n",
    "for i in range(len(features)) :\n",
    "    if \"Brand\" in features.iloc[i].keys() :\n",
    "        brands.append(features.iloc[i][\"Brand\"])\n",
    "    else :\n",
    "        brands.append(\"\")\n",
    "        missing_brands += 1\n",
    "new_watches[\"Brand\"] = brands\n",
    "print(\"Missing Brands:\", missing_brands)"
   ]
  },
  {
   "cell_type": "code",
   "execution_count": 76,
   "metadata": {},
   "outputs": [
    {
     "name": "stdout",
     "output_type": "stream",
     "text": [
      "Missing Colors: 13\n"
     ]
    }
   ],
   "source": [
    "missing_colors = 0\n",
    "colours = []\n",
    "for i in range(len(features)) :\n",
    "    if \"Color\" in features.iloc[i].keys() :\n",
    "        colours.append(features.iloc[i][\"Color\"])\n",
    "    elif \"Colour\" in features.iloc[i].keys() :\n",
    "        colours.append(features.iloc[i][\"Colour\"])\n",
    "    elif \"Band Color\" in features.iloc[i].keys() :\n",
    "        colours.append(features.iloc[i][\"Band Color\"])\n",
    "    else :\n",
    "        colours.append(\"\")\n",
    "        missing_colors += 1\n",
    "new_watches[\"Color\"] = colours\n",
    "print(\"Missing Colors:\", missing_colors)"
   ]
  },
  {
   "cell_type": "code",
   "execution_count": 77,
   "metadata": {},
   "outputs": [
    {
     "name": "stdout",
     "output_type": "stream",
     "text": [
      "Missing Apps: 73\n"
     ]
    }
   ],
   "source": [
    "features = new_watches[\"Product Features\"]\n",
    "apps = []\n",
    "missing_apps = 0\n",
    "for i in range(len(features)) :\n",
    "    if \"Supported Application\" in features.iloc[i].keys() :\n",
    "        apps.append(features.iloc[i][\"Supported Application\"])\n",
    "    else :\n",
    "        apps.append(\"\")\n",
    "        missing_apps += 1\n",
    "new_watches[\"Supported Application\"] = apps\n",
    "print(\"Missing Apps:\", missing_apps)"
   ]
  },
  {
   "cell_type": "code",
   "execution_count": 78,
   "metadata": {},
   "outputs": [],
   "source": [
    "new_watches = new_watches.drop(\"Product Features\", axis=1)"
   ]
  },
  {
   "cell_type": "code",
   "execution_count": 79,
   "metadata": {},
   "outputs": [],
   "source": [
    "new_watches.to_csv(\"ShortDatasets/Watches.csv\")"
   ]
  },
  {
   "cell_type": "code",
   "execution_count": 83,
   "metadata": {},
   "outputs": [],
   "source": [
    "new_watches = pd.read_csv(\"ShortDatasets/Watches.csv\")"
   ]
  },
  {
   "cell_type": "code",
   "execution_count": 86,
   "metadata": {},
   "outputs": [],
   "source": [
    "apps = []\n",
    "for i in range(len(new_watches)) :\n",
    "    if type(new_watches.iloc[i][\"Supported Application\"]) == str :\n",
    "        apps.extend(new_watches.iloc[i][\"Supported Application\"].split(','))\n",
    "apps = set(apps)"
   ]
  },
  {
   "cell_type": "code",
   "execution_count": 87,
   "metadata": {},
   "outputs": [
    {
     "name": "stdout",
     "output_type": "stream",
     "text": [
      "{' Calorie Tracker', ' Heart Rate Monitor', 'Weather', ' Elevation Tracker', 'Pedometer', 'Heart Rate Monitor', 'GPS', ' Voice Control', ' Smart Notifications', 'Email', ' Alexa', ' Reminders', 'Time Display', 'Sleep Monitor', ' Music Player', ' GPS', ' Breath Monitor', ' Camera', ' Phone', ' Weather', 'Phone', ' Step Counter', ' Alarm', ' Contacts', ' Calendar', ' Social Media', ' Multisport Tracker', ' Time Display', 'Fitness Tracker', ' Voice Assistant', ' Multisport Tracking', ' Sleep Monitor', ' Messages', ' Email', ' Blood Pressure Monitor', ' Find My Phone', ' Pedometer'}\n"
     ]
    }
   ],
   "source": [
    "print(apps)"
   ]
  },
  {
   "cell_type": "code",
   "execution_count": 88,
   "metadata": {},
   "outputs": [
    {
     "data": {
      "text/plain": [
       "count     150.000000\n",
       "mean      127.517933\n",
       "std       149.763973\n",
       "min         6.990000\n",
       "25%        39.960000\n",
       "50%        64.470000\n",
       "75%       162.060000\n",
       "max      1249.000000\n",
       "Name: Product Price, dtype: float64"
      ]
     },
     "execution_count": 88,
     "metadata": {},
     "output_type": "execute_result"
    }
   ],
   "source": [
    "new_watches[\"Product Price\"].describe()"
   ]
  },
  {
   "cell_type": "code",
   "execution_count": 97,
   "metadata": {},
   "outputs": [],
   "source": [
    "apps = new_watches[\"Supported Application\"][3].split(','))"
   ]
  },
  {
   "cell_type": "code",
   "execution_count": 99,
   "metadata": {},
   "outputs": [
    {
     "data": {
      "text/plain": [
       "{'Fitness Tracker'}"
      ]
     },
     "execution_count": 99,
     "metadata": {},
     "output_type": "execute_result"
    }
   ],
   "source": [
    "apps.intersection({'Fitness Tracker'})"
   ]
  },
  {
   "cell_type": "markdown",
   "metadata": {},
   "source": [
    "## DSLR "
   ]
  },
  {
   "cell_type": "code",
   "execution_count": 36,
   "metadata": {},
   "outputs": [],
   "source": [
    "dslrs = pd.read_csv(\"FullDatasets/DSLRCamera.csv\")"
   ]
  },
  {
   "cell_type": "code",
   "execution_count": 37,
   "metadata": {},
   "outputs": [
    {
     "data": {
      "text/html": [
       "<div>\n",
       "<style scoped>\n",
       "    .dataframe tbody tr th:only-of-type {\n",
       "        vertical-align: middle;\n",
       "    }\n",
       "\n",
       "    .dataframe tbody tr th {\n",
       "        vertical-align: top;\n",
       "    }\n",
       "\n",
       "    .dataframe thead th {\n",
       "        text-align: right;\n",
       "    }\n",
       "</style>\n",
       "<table border=\"1\" class=\"dataframe\">\n",
       "  <thead>\n",
       "    <tr style=\"text-align: right;\">\n",
       "      <th></th>\n",
       "      <th>Category</th>\n",
       "      <th>Product Name</th>\n",
       "      <th>Product Price</th>\n",
       "      <th>product URL</th>\n",
       "      <th>Product Features</th>\n",
       "      <th>Ratings</th>\n",
       "      <th>Total Reviews</th>\n",
       "    </tr>\n",
       "  </thead>\n",
       "  <tbody>\n",
       "    <tr>\n",
       "      <th>0</th>\n",
       "      <td>Mobile</td>\n",
       "      <td>Canon DSLR Camera [EOS 90D] with EF-S 18-55 is...</td>\n",
       "      <td>$1,349.00</td>\n",
       "      <td>https://www.amazon.com//Canon-Digital-Camera-1...</td>\n",
       "      <td>{'Product Dimensions': '3 x 5.5 x 4.1 inches',...</td>\n",
       "      <td>NaN</td>\n",
       "      <td>NaN</td>\n",
       "    </tr>\n",
       "    <tr>\n",
       "      <th>1</th>\n",
       "      <td>Mobile</td>\n",
       "      <td>Canon EOS 5D Mark IV Full Frame Digital SLR Ca...</td>\n",
       "      <td>$3,399.00</td>\n",
       "      <td>https://www.amazon.com//Canon-Frame-Digital-Ca...</td>\n",
       "      <td>{'Product Dimensions': '3 x 5.9 x 4.6 inches',...</td>\n",
       "      <td>NaN</td>\n",
       "      <td>NaN</td>\n",
       "    </tr>\n",
       "    <tr>\n",
       "      <th>2</th>\n",
       "      <td>Mobile</td>\n",
       "      <td>On-Camera Ring Light with Hot Shoe Mount, Came...</td>\n",
       "      <td>$17.99</td>\n",
       "      <td>https://www.amazon.com//gp/slredirect/picassoR...</td>\n",
       "      <td>{'Package Dimensions': '7.72 x 6.54 x 1.61 inc...</td>\n",
       "      <td>NaN</td>\n",
       "      <td>NaN</td>\n",
       "    </tr>\n",
       "    <tr>\n",
       "      <th>3</th>\n",
       "      <td>Mobile</td>\n",
       "      <td>Canon EOS 2000D / Rebel T7 Digital SLR Camera ...</td>\n",
       "      <td>$539.95</td>\n",
       "      <td>https://www.amazon.com//Canon-2000D-Digital-Co...</td>\n",
       "      <td>{'Package Dimensions': '17.4 x 11.65 x 6.81 in...</td>\n",
       "      <td>NaN</td>\n",
       "      <td>NaN</td>\n",
       "    </tr>\n",
       "    <tr>\n",
       "      <th>4</th>\n",
       "      <td>Mobile</td>\n",
       "      <td>Canon EOS 4000D / Rebel T100 Digital SLR Camer...</td>\n",
       "      <td>$499.95</td>\n",
       "      <td>https://www.amazon.com//Canon-4000D-Digital-Co...</td>\n",
       "      <td>{'Package Dimensions': '17.44 x 11.77 x 6.85 i...</td>\n",
       "      <td>NaN</td>\n",
       "      <td>NaN</td>\n",
       "    </tr>\n",
       "  </tbody>\n",
       "</table>\n",
       "</div>"
      ],
      "text/plain": [
       "  Category                                       Product Name Product Price  \\\n",
       "0   Mobile  Canon DSLR Camera [EOS 90D] with EF-S 18-55 is...     $1,349.00   \n",
       "1   Mobile  Canon EOS 5D Mark IV Full Frame Digital SLR Ca...     $3,399.00   \n",
       "2   Mobile  On-Camera Ring Light with Hot Shoe Mount, Came...        $17.99   \n",
       "3   Mobile  Canon EOS 2000D / Rebel T7 Digital SLR Camera ...       $539.95   \n",
       "4   Mobile  Canon EOS 4000D / Rebel T100 Digital SLR Camer...       $499.95   \n",
       "\n",
       "                                         product URL  \\\n",
       "0  https://www.amazon.com//Canon-Digital-Camera-1...   \n",
       "1  https://www.amazon.com//Canon-Frame-Digital-Ca...   \n",
       "2  https://www.amazon.com//gp/slredirect/picassoR...   \n",
       "3  https://www.amazon.com//Canon-2000D-Digital-Co...   \n",
       "4  https://www.amazon.com//Canon-4000D-Digital-Co...   \n",
       "\n",
       "                                    Product Features  Ratings  Total Reviews  \n",
       "0  {'Product Dimensions': '3 x 5.5 x 4.1 inches',...      NaN            NaN  \n",
       "1  {'Product Dimensions': '3 x 5.9 x 4.6 inches',...      NaN            NaN  \n",
       "2  {'Package Dimensions': '7.72 x 6.54 x 1.61 inc...      NaN            NaN  \n",
       "3  {'Package Dimensions': '17.4 x 11.65 x 6.81 in...      NaN            NaN  \n",
       "4  {'Package Dimensions': '17.44 x 11.77 x 6.85 i...      NaN            NaN  "
      ]
     },
     "execution_count": 37,
     "metadata": {},
     "output_type": "execute_result"
    }
   ],
   "source": [
    "dslrs.head()"
   ]
  },
  {
   "cell_type": "code",
   "execution_count": 38,
   "metadata": {},
   "outputs": [],
   "source": [
    "new_dslrs = dslrs.drop(\"Category\", axis=1)"
   ]
  },
  {
   "cell_type": "code",
   "execution_count": 39,
   "metadata": {},
   "outputs": [],
   "source": [
    "prices = new_dslrs[\"Product Price\"]\n",
    "prices = [prices[i].replace(\"$\", \"\") for i in range(len(prices))]\n",
    "prices = [prices[i].replace(\",\", \"\") for i in range(len(prices))]\n",
    "prices = [float(prices[i]) for i in range(len(prices))]\n",
    "new_dslrs[\"Product Price\"] = prices"
   ]
  },
  {
   "cell_type": "code",
   "execution_count": 40,
   "metadata": {},
   "outputs": [
    {
     "name": "stderr",
     "output_type": "stream",
     "text": [
      "/home/intel123/anaconda3/lib/python3.7/site-packages/ipykernel_launcher.py:3: SettingWithCopyWarning: \n",
      "A value is trying to be set on a copy of a slice from a DataFrame\n",
      "\n",
      "See the caveats in the documentation: http://pandas.pydata.org/pandas-docs/stable/indexing.html#indexing-view-versus-copy\n",
      "  This is separate from the ipykernel package so we can avoid doing imports until\n",
      "/home/intel123/anaconda3/lib/python3.7/site-packages/ipykernel_launcher.py:4: SettingWithCopyWarning: \n",
      "A value is trying to be set on a copy of a slice from a DataFrame\n",
      "\n",
      "See the caveats in the documentation: http://pandas.pydata.org/pandas-docs/stable/indexing.html#indexing-view-versus-copy\n",
      "  after removing the cwd from sys.path.\n"
     ]
    }
   ],
   "source": [
    "features = dslrs[\"Product Features\"]\n",
    "for i in range(len(features)) :\n",
    "    features[i] = features[i].replace(\"'\", '\"')\n",
    "    features[i] = json.loads(features[i])\n",
    "    new_dslrs[\"Product Features\"] = features"
   ]
  },
  {
   "cell_type": "code",
   "execution_count": 41,
   "metadata": {},
   "outputs": [],
   "source": [
    "avail_keys = []\n",
    "for i in range(len(features)) :\n",
    "    #print(features[i].keys())\n",
    "    avail_keys.extend(list(features[i].keys()))\n",
    "avail_keys = set(avail_keys)"
   ]
  },
  {
   "cell_type": "code",
   "execution_count": 42,
   "metadata": {},
   "outputs": [
    {
     "name": "stdout",
     "output_type": "stream",
     "text": [
      "Number of Channels 173\n",
      "Compatible Devices 163\n",
      "Minimum Height 168\n",
      "Item Dimensions LxWxH 171\n",
      "Material 159\n",
      "Leg Diameter 172\n",
      "Noise Level 174\n",
      "Product Dimensions 66\n",
      "Signal-to-Noise Ratio 171\n",
      "Maximum Height 167\n",
      "Viewfinder Magnification 172\n",
      "Color 171\n",
      "Brand 151\n",
      "Number of Batteries 173\n",
      "Audio Sensitivity 174\n",
      "Hardware Platform 170\n",
      "Folded Size 173\n",
      "Connector Type 170\n",
      "Film Format Type 169\n",
      "Other display features 171\n",
      "Power Source 171\n",
      "Item model number 38\n",
      "Best Sellers Rank 1\n",
      "Weight Limit 165\n",
      "Item Weight 10\n",
      "Is Discontinued By Manufacturer 85\n",
      "Polar Pattern 170\n",
      "Department 174\n",
      "Package Dimensions 119\n",
      "Connectivity Technology 172\n",
      "Colour 172\n",
      "Date First Available 6\n",
      "Battery type 173\n",
      "Photo Filter Thread Size 174\n",
      "Manufacturer 14\n",
      "Batteries 94\n",
      "Number of leg sections 167\n",
      "Special Features 174\n",
      "Tripod Head Type 165\n",
      "Photo Filter Effect Type 174\n",
      "Material Type 173\n",
      "Customer Reviews 8\n",
      "ASIN 6\n",
      "Exposure Control Type 172\n",
      "Frequency Range 174\n"
     ]
    }
   ],
   "source": [
    "for key in avail_keys :\n",
    "    missing = 0\n",
    "    for i in range(len(features)) :\n",
    "        if not key in features[i].keys() :\n",
    "            missing += 1\n",
    "    print(key, missing)"
   ]
  },
  {
   "cell_type": "code",
   "execution_count": 43,
   "metadata": {},
   "outputs": [
    {
     "data": {
      "text/plain": [
       "175"
      ]
     },
     "execution_count": 43,
     "metadata": {},
     "output_type": "execute_result"
    }
   ],
   "source": [
    "len(features)"
   ]
  },
  {
   "cell_type": "code",
   "execution_count": null,
   "metadata": {},
   "outputs": [],
   "source": []
  }
 ],
 "metadata": {
  "kernelspec": {
   "display_name": "Python 3",
   "language": "python",
   "name": "python3"
  },
  "language_info": {
   "codemirror_mode": {
    "name": "ipython",
    "version": 3
   },
   "file_extension": ".py",
   "mimetype": "text/x-python",
   "name": "python",
   "nbconvert_exporter": "python",
   "pygments_lexer": "ipython3",
   "version": "3.7.3"
  }
 },
 "nbformat": 4,
 "nbformat_minor": 2
}
